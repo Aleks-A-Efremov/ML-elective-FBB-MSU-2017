{
 "cells": [
  {
   "cell_type": "markdown",
   "metadata": {},
   "source": [
    "### О задании\n",
    "Результат работы − отчет в формате ноутбуков IPython (ipynb-файл). Код пишется на Python3. Постарайтесь сделать ваш отчет интересным рассказом, последовательно отвечающим на вопросы из заданий. Помимо ответов на вопросы, в отчете также должен быть код, однако чем меньше кода, тем лучше всем: мне − меньше проверять, вам — проще найти ошибку или дополнить эксперимент. При проверке оценивается четкость ответов на вопросы, аккуратность отчета и кода.    \n",
    "Выполнение лабораторных работ занимает значительное время, поэтому не рекомендуем оставлять их на последний вечер перед сдачей."
   ]
  },
  {
   "cell_type": "markdown",
   "metadata": {},
   "source": [
    "### Оценивание и штрафы\n",
    "Каждая из задач имеет определенную «стоимость» (указана в скобках около задачи). «Похожие» решения считаются плагиатом и все задействованные студенты (в том числе те, у кого списали) получают за всю лабораторную работу 0 баллов. Если вы нашли решение какого-то из заданий в открытом источнике, необходимо в комментариях к коду указать ссылку на этот источник (скорее всего вы будете не единственным, кто это нашел, поэтому чтобы исключить подозрение в плагиате, необходима ссылка на источник).\n",
    "\n",
    "**Важно!!!** Прочитайте [руководство по написанию кода](https://pythonworld.ru/osnovy/pep-8-rukovodstvo-po-napisaniyu-koda-na-python.html). Работы, где будут грубо нарушены принципы оформления кода, будут штрафоваться!    \n",
    "Также помните, что самая главная ошибка, которую надо избегать, - дублирование кода."
   ]
  },
  {
   "cell_type": "markdown",
   "metadata": {},
   "source": [
    "### Правила сдачи\n",
    "Выполненную работу следует отправить на почту `nikmort@ya.ru` с указанием темы `[FBB hw <номер домашнего задани> Surname Name]`, например `FBB hw 2 Ivanov Petr`. Название отправляемого файла должно иметь следующий формат: `N_Surname_Name.ipynb`, где `N` — номер домашнего задания. Например, `2_Ivanov_Petr.ipynb`."
   ]
  },
  {
   "cell_type": "markdown",
   "metadata": {},
   "source": [
    "### Задание\n",
    "В этом задании вам будет предложено ознакомиться с двумя мощными библиотеками для машинного обучения - xgboost и keras. В первой реализован градиентный бустинг, во второй - нейронные сети. Ваша задача будет попробовать применить каждую из моделей к задаче мультиклассовой классификации и исследовать поведение моделей в зависимости от выбора параметров. Работать вам предстоит с  датасетом, составленным из рукописных \"картинок\" цифр. Он вам знаком по предыдущему заданию (можете брать код для работы с ним оттуда). Только в этот раз мы возьмем его полную версию - картинки будут размером 28х28 вместо 8х8, а общее число картинок - 42000 вместо 1797."
   ]
  },
  {
   "cell_type": "code",
   "execution_count": 1,
   "metadata": {},
   "outputs": [],
   "source": [
    "import pandas as pd\n",
    "import numpy as np\n",
    "import matplotlib.pyplot as plt\n",
    "%matplotlib inline\n",
    "from sklearn.model_selection import train_test_split\n",
    "from sklearn.metrics import accuracy_score, confusion_matrix, log_loss"
   ]
  },
  {
   "cell_type": "markdown",
   "metadata": {},
   "source": [
    "Загрузите датасет и разбейте его на выборки для обучения и контроля.\n",
    "\n",
    "Для ускорения работы возьмите небольшую часть датасета, например, 3%. Отладьте на ней код, а потом запустите расчеты на больших данных.\n",
    "\n",
    "Скорее всего, вычисления будут трудоемкими, если брать весь датасет, поэтому для итоговых вычислений можете взять только его часть (но не меньше 30%).\n",
    "\n",
    "Обратите внимание, что наблюдаемые результаты могут сильно зависеть от того, делаете ли вы эксперимент на маленьких или больших данных. Так, на выборке размера 100 ваш классификатор может легко переобучиться, в то время как на выборке размера 10000 этот эффект может не наблюдаться. Поэтому делайте выводы после запуска расчетов на больших данных."
   ]
  },
  {
   "cell_type": "code",
   "execution_count": 2,
   "metadata": {},
   "outputs": [],
   "source": [
    "def load_data(sample_frac):\n",
    "    data = pd.read_csv('train.csv')\n",
    "    data = data.sample(frac=sample_frac)\n",
    "    labels = data['label'].values\n",
    "    digits = data.drop('label', 1).values\n",
    "    return digits, labels"
   ]
  },
  {
   "cell_type": "code",
   "execution_count": 3,
   "metadata": {},
   "outputs": [],
   "source": [
    "digits, labels = load_data(0.3)\n",
    "X_train, X_test, y_train, y_test = train_test_split(digits, labels, test_size=0.25)"
   ]
  },
  {
   "cell_type": "markdown",
   "metadata": {},
   "source": [
    "Давайте в качестве базового решения посмотрим на известные нам алгоритмы. Возьмите kNN и Random Forest. Обучите их (гиперпараметры оставьте по умолчанию), подсчитайте точность и logloss на тестовой выборке. Какой алгоритм дал лучший результат? Как различаются алгоритмы по качеству и времени обучения и предсказания?\n",
    "\n",
    "hint: используйте %time для измерения времени работы."
   ]
  },
  {
   "cell_type": "code",
   "execution_count": 28,
   "metadata": {},
   "outputs": [],
   "source": [
    "from sklearn.neighbors import KNeighborsClassifier\n",
    "from sklearn.ensemble import RandomForestClassifier"
   ]
  },
  {
   "cell_type": "code",
   "execution_count": 29,
   "metadata": {},
   "outputs": [
    {
     "name": "stdout",
     "output_type": "stream",
     "text": [
      "CPU times: user 0 ns, sys: 0 ns, total: 0 ns\n",
      "Wall time: 3.58 µs\n"
     ]
    }
   ],
   "source": [
    "%time\n",
    "knn = KNeighborsClassifier()\n",
    "knn.fit(X_train, y_train);"
   ]
  },
  {
   "cell_type": "code",
   "execution_count": 30,
   "metadata": {},
   "outputs": [
    {
     "name": "stdout",
     "output_type": "stream",
     "text": [
      "CPU times: user 0 ns, sys: 0 ns, total: 0 ns\n",
      "Wall time: 3.34 µs\n"
     ]
    }
   ],
   "source": [
    "%time\n",
    "y_knn = knn.predict(X_test)"
   ]
  },
  {
   "cell_type": "code",
   "execution_count": 31,
   "metadata": {},
   "outputs": [
    {
     "name": "stdout",
     "output_type": "stream",
     "text": [
      "0.941904761905\n"
     ]
    }
   ],
   "source": [
    "print(accuracy_score(y_pred=y_knn, y_true=y_test))"
   ]
  },
  {
   "cell_type": "code",
   "execution_count": 32,
   "metadata": {},
   "outputs": [
    {
     "name": "stdout",
     "output_type": "stream",
     "text": [
      "CPU times: user 0 ns, sys: 0 ns, total: 0 ns\n",
      "Wall time: 12.6 µs\n"
     ]
    }
   ],
   "source": [
    "%time\n",
    "y_knn_proba = knn.predict_proba(X_test)"
   ]
  },
  {
   "cell_type": "code",
   "execution_count": 33,
   "metadata": {},
   "outputs": [
    {
     "name": "stdout",
     "output_type": "stream",
     "text": [
      "0.700921574691\n"
     ]
    }
   ],
   "source": [
    "print(log_loss(y_pred=y_knn_proba, y_true=y_test))"
   ]
  },
  {
   "cell_type": "code",
   "execution_count": 35,
   "metadata": {},
   "outputs": [
    {
     "name": "stdout",
     "output_type": "stream",
     "text": [
      "CPU times: user 0 ns, sys: 0 ns, total: 0 ns\n",
      "Wall time: 3.34 µs\n"
     ]
    }
   ],
   "source": [
    "%time \n",
    "rf = RandomForestClassifier(n_jobs=4, random_state=21)\n",
    "rf.fit(X_train, y_train);"
   ]
  },
  {
   "cell_type": "code",
   "execution_count": 36,
   "metadata": {},
   "outputs": [
    {
     "name": "stdout",
     "output_type": "stream",
     "text": [
      "CPU times: user 0 ns, sys: 0 ns, total: 0 ns\n",
      "Wall time: 12.6 µs\n"
     ]
    }
   ],
   "source": [
    "%time\n",
    "y_rf = rf.predict(X_test)"
   ]
  },
  {
   "cell_type": "code",
   "execution_count": 37,
   "metadata": {},
   "outputs": [
    {
     "name": "stdout",
     "output_type": "stream",
     "text": [
      "0.904126984127\n"
     ]
    }
   ],
   "source": [
    "print(accuracy_score(y_pred=y_rf, y_true=y_test))"
   ]
  },
  {
   "cell_type": "code",
   "execution_count": 38,
   "metadata": {},
   "outputs": [
    {
     "name": "stdout",
     "output_type": "stream",
     "text": [
      "CPU times: user 0 ns, sys: 0 ns, total: 0 ns\n",
      "Wall time: 3.34 µs\n"
     ]
    }
   ],
   "source": [
    "%time \n",
    "y_rf_proba = rf.predict_proba(X_test)"
   ]
  },
  {
   "cell_type": "code",
   "execution_count": 39,
   "metadata": {},
   "outputs": [
    {
     "name": "stdout",
     "output_type": "stream",
     "text": [
      "0.709844545268\n"
     ]
    }
   ],
   "source": [
    "print(log_loss(y_pred=y_rf_proba, y_true=y_test))"
   ]
  },
  {
   "cell_type": "code",
   "execution_count": 40,
   "metadata": {},
   "outputs": [],
   "source": [
    "del y_knn, y_knn_proba, y_rf, y_rf_proba"
   ]
  },
  {
   "cell_type": "markdown",
   "metadata": {},
   "source": [
    "Далее целевой метрикой для нас будет logloss. Точность также будем вычислять, как более интерпретируемую метрику."
   ]
  },
  {
   "cell_type": "markdown",
   "metadata": {},
   "source": [
    "### XGBoost\n",
    "(6 баллов)"
   ]
  },
  {
   "cell_type": "markdown",
   "metadata": {},
   "source": [
    "[Установите библиотеку xgboost.](https://xgboost.readthedocs.io/en/latest/build.html) Реализация бустинга есть и в sklearn, но в ней уделено сильно меньше внимания регуляризации и скорости, поэтому мы будем использовать xgboost. "
   ]
  },
  {
   "cell_type": "code",
   "execution_count": 70,
   "metadata": {},
   "outputs": [],
   "source": [
    "import xgboost\n",
    "from xgboost import XGBClassifier"
   ]
  },
  {
   "cell_type": "markdown",
   "metadata": {},
   "source": [
    "Возьмите классификатор с настройками по умолчанию (рекомендуется установить n_jobs на -1 для ускорения расчета). Документацию вы можете найти [тут](http://xgboost.readthedocs.io/en/latest/python/python_api.html#xgboost.XGBClassifier)."
   ]
  },
  {
   "cell_type": "code",
   "execution_count": 42,
   "metadata": {},
   "outputs": [],
   "source": [
    "xgboost = XGBClassifier(n_jobs=4, random_state=12)"
   ]
  },
  {
   "cell_type": "markdown",
   "metadata": {},
   "source": [
    "Обучите его и предскажите метки для тестовой выборки. Выведите logloss, точность классификации и confusion matrix для обученного классификатора. Сравните время обучения и предсказания с предыдущими классификаторами. Склонен ли классификатор давать больше ошибок на определенных классах?"
   ]
  },
  {
   "cell_type": "code",
   "execution_count": 43,
   "metadata": {},
   "outputs": [],
   "source": [
    "xgboost.fit(X_train, y_train)\n",
    "y_xgb = xgboost.predict(X_test)\n",
    "y_xgb_proba = xgboost.predict_proba(X_test)"
   ]
  },
  {
   "cell_type": "code",
   "execution_count": 44,
   "metadata": {},
   "outputs": [
    {
     "name": "stdout",
     "output_type": "stream",
     "text": [
      "Accuracy: 0.92380952381 \n",
      "\n",
      "Logloss: 0.273825460057 \n",
      "\n",
      "Confusion Matrix:\n",
      " [[298   0   3   2   1   4   3   2   1   1]\n",
      " [  0 344   2   2   0   0   2   1   4   0]\n",
      " [  0   1 293   6   3   2   2   6   2   1]\n",
      " [  1   1   4 269   1  11   0   1   8   3]\n",
      " [  2   0   1   0 294   1   1   1   2   9]\n",
      " [  0   1   1   8   0 267   5   0   7   4]\n",
      " [  3   1   4   2   4   3 289   0   3   0]\n",
      " [  0   0   8  10   0   2   1 310   1   6]\n",
      " [  3   2   4   6   2   5   1   0 279   2]\n",
      " [  0   0   1   6  16   3   0  13   4 267]]\n"
     ]
    }
   ],
   "source": [
    "print('Accuracy:', accuracy_score(y_xgb, y_test),'\\n')\n",
    "print('Logloss:', log_loss(y_pred=y_xgb_proba, y_true=y_test), '\\n')\n",
    "print('Confusion Matrix:\\n', confusion_matrix(y_xgb, y_test))"
   ]
  },
  {
   "cell_type": "markdown",
   "metadata": {},
   "source": [
    "[Визуализируйте](https://stackoverflow.com/questions/33282368/plotting-a-2d-heatmap-with-matplotlib) важность признаков (feature importances) на картинке 28х28. Какие пиксели изображения наиболее важны для классификации? Как вы думаете, почему?"
   ]
  },
  {
   "cell_type": "code",
   "execution_count": 45,
   "metadata": {},
   "outputs": [
    {
     "data": {
      "image/png": "[encoded data removed]",
      "text/plain": [
       "<matplotlib.figure.Figure at 0x7fb4fd942908>"
      ]
     },
     "metadata": {},
     "output_type": "display_data"
    }
   ],
   "source": [
    "plt.imshow(xgboost.feature_importances_.reshape(28,28), cmap='hot', interpolation='nearest')\n",
    "plt.show();"
   ]
  },
  {
   "cell_type": "markdown",
   "metadata": {},
   "source": [
    "Черные пиксели совсем не важны для классификации, т.к. они пустые на большинстве или на всех картинках. \n",
    "Центральные пиксели важны, т.к. там и располагаются цифры. "
   ]
  },
  {
   "cell_type": "markdown",
   "metadata": {},
   "source": [
    "Попробуем потюнить XGBoost."
   ]
  },
  {
   "cell_type": "markdown",
   "metadata": {
    "collapsed": true
   },
   "source": [
    "Выберите относительно большую learning_rate ($\\eta\\in[0.05,0.3]$), подберите оптимальное число деревьев для выбранного $\\eta$. В методе `fit` задайте `eval_metric`, равное `mlogloss`, в `eval_set` передайте `[(X_test, y_test)]`; таким образом, вы сможете получать качество вашей классификации после каждого обученного базового классификатора. Вы можете регулировать \"болтливость\" метода обучения с помощью параметры `verbose` (например, задать его равным 10)."
   ]
  },
  {
   "cell_type": "code",
   "execution_count": 48,
   "metadata": {
    "scrolled": true
   },
   "outputs": [
    {
     "name": "stdout",
     "output_type": "stream",
     "text": [
      "[0]\tvalidation_0-mlogloss:1.86833\n",
      "[10]\tvalidation_0-mlogloss:0.753074\n",
      "[20]\tvalidation_0-mlogloss:0.483065\n",
      "[30]\tvalidation_0-mlogloss:0.368815\n",
      "[40]\tvalidation_0-mlogloss:0.307262\n",
      "[50]\tvalidation_0-mlogloss:0.268673\n",
      "[60]\tvalidation_0-mlogloss:0.244123\n",
      "[70]\tvalidation_0-mlogloss:0.225746\n",
      "[80]\tvalidation_0-mlogloss:0.212702\n",
      "[90]\tvalidation_0-mlogloss:0.201838\n",
      "[100]\tvalidation_0-mlogloss:0.193651\n",
      "[110]\tvalidation_0-mlogloss:0.186563\n",
      "[120]\tvalidation_0-mlogloss:0.180492\n",
      "[130]\tvalidation_0-mlogloss:0.176075\n",
      "[140]\tvalidation_0-mlogloss:0.172745\n",
      "[150]\tvalidation_0-mlogloss:0.169059\n",
      "[160]\tvalidation_0-mlogloss:0.166019\n",
      "[170]\tvalidation_0-mlogloss:0.163778\n",
      "[180]\tvalidation_0-mlogloss:0.162256\n",
      "[190]\tvalidation_0-mlogloss:0.161497\n",
      "[200]\tvalidation_0-mlogloss:0.161058\n",
      "[210]\tvalidation_0-mlogloss:0.160342\n",
      "[220]\tvalidation_0-mlogloss:0.159448\n",
      "[230]\tvalidation_0-mlogloss:0.158842\n",
      "[240]\tvalidation_0-mlogloss:0.158488\n",
      "[250]\tvalidation_0-mlogloss:0.157911\n",
      "[260]\tvalidation_0-mlogloss:0.157496\n",
      "[270]\tvalidation_0-mlogloss:0.157525\n",
      "[280]\tvalidation_0-mlogloss:0.157348\n",
      "[290]\tvalidation_0-mlogloss:0.157144\n",
      "[300]\tvalidation_0-mlogloss:0.157102\n",
      "[310]\tvalidation_0-mlogloss:0.157072\n",
      "[320]\tvalidation_0-mlogloss:0.157296\n",
      "[330]\tvalidation_0-mlogloss:0.156966\n",
      "[340]\tvalidation_0-mlogloss:0.156723\n",
      "[350]\tvalidation_0-mlogloss:0.156947\n",
      "[360]\tvalidation_0-mlogloss:0.156894\n",
      "[370]\tvalidation_0-mlogloss:0.157199\n",
      "[380]\tvalidation_0-mlogloss:0.157507\n",
      "[390]\tvalidation_0-mlogloss:0.157556\n",
      "[400]\tvalidation_0-mlogloss:0.157916\n",
      "[410]\tvalidation_0-mlogloss:0.158275\n",
      "[420]\tvalidation_0-mlogloss:0.158549\n",
      "[430]\tvalidation_0-mlogloss:0.158625\n",
      "[440]\tvalidation_0-mlogloss:0.158891\n",
      "[450]\tvalidation_0-mlogloss:0.15919\n",
      "[460]\tvalidation_0-mlogloss:0.159346\n",
      "[470]\tvalidation_0-mlogloss:0.159785\n",
      "[480]\tvalidation_0-mlogloss:0.159781\n",
      "[490]\tvalidation_0-mlogloss:0.159979\n",
      "[499]\tvalidation_0-mlogloss:0.160223\n"
     ]
    }
   ],
   "source": [
    "xgboost = XGBClassifier(learning_rate=0.2, n_jobs=4, random_state=12, n_estimators=500)\n",
    "xgboost.fit(X_train, y_train, eval_metric='mlogloss', eval_set=[(X_test, y_test)], verbose=10);"
   ]
  },
  {
   "cell_type": "markdown",
   "metadata": {},
   "source": [
    "Постройте график зависимости качества классификации от числа базовых классификаторов (для этого можете воспользоваться методом `evals_result`). Для большей наглядности можете отдельно отобразить график по последним 60 точкам. Как вам кажется, какое количество базовых классификаторов будет оптимальным? \n",
    "\n",
    "Скорее всего, вы будете наблюдать выход качества на плато. Если вы хотите посмотреть на переобучение, попробуйте позапускать обучение на маленькой подвыборке (100-300 элементов), возможно, вы сможете его отловить. На больших сложных выборках переобучение обычно возникает при существенном количестве базовых классификаторов."
   ]
  },
  {
   "cell_type": "code",
   "execution_count": 49,
   "metadata": {
    "scrolled": true
   },
   "outputs": [
    {
     "data": {
      "image/png": "[encoded data removed]",
      "text/plain": [
       "<matplotlib.figure.Figure at 0x7fb4fd937b70>"
      ]
     },
     "metadata": {},
     "output_type": "display_data"
    }
   ],
   "source": [
    "f, axarr = plt.subplots(2)\n",
    "axarr[0].plot(xgboost.evals_result_['validation_0']['mlogloss']);\n",
    "axarr[1].plot(list(range(440, 500)), xgboost.evals_result_['validation_0']['mlogloss'][440:]);"
   ]
  },
  {
   "cell_type": "markdown",
   "metadata": {},
   "source": [
    "Видно уже некоторое переобучение ближе к 500 деревьям. Судя по валидации, лучшее число деревьев - 340. Его и будем использовать."
   ]
  },
  {
   "cell_type": "code",
   "execution_count": 72,
   "metadata": {},
   "outputs": [
    {
     "data": {
      "text/plain": [
       "{'accuracy_score': 0.9568253968253968, 'log_loss': 0.15670733694691669}"
      ]
     },
     "execution_count": 72,
     "metadata": {},
     "output_type": "execute_result"
    }
   ],
   "source": [
    "def get_score(classifier):\n",
    "    score = {'accuracy_score': accuracy_score(y_pred=classifier.predict(X_test), y_true=y_test), \n",
    "                  'log_loss': log_loss(y_pred=classifier.predict_proba(X_test), y_true=y_test)}\n",
    "    return score\n",
    "    \n",
    "\n",
    "xgboost = XGBClassifier(learning_rate=0.2, n_jobs=4, random_state=12, n_estimators=340)\n",
    "xgboost.fit(X_train, y_train)\n",
    "get_score(xgboost)"
   ]
  },
  {
   "cell_type": "markdown",
   "metadata": {},
   "source": [
    "Зафиксируйте выбранное количество деревьев. Настройте параметры деревьев, начиная с самых значимых (`max_depth`, `min_child_weight`, `gamma`, `colsample_bytree`). Более подробно подробно про эти параметры вы можете почитать в документации, указанной выше. Не забывайте, что бустинг, как правило, хорошо работает на деревьях небольшой глубины.\n",
    "\n",
    "Правильно подбирать эти параметры по сетке, но данный перебор был бы чересчур трудоемким. Поэтому подбирайте их последовательно.\n",
    "\n",
    "Считать score на каждом шаге не нужно, сравнивайте только обученные классификаторы. Сохраняйте качество (accuracy и logloss) вашего классификатора после каждого настроенного параметра."
   ]
  },
  {
   "cell_type": "code",
   "execution_count": 33,
   "metadata": {},
   "outputs": [],
   "source": [
    "from tqdm import tqdm_notebook as tqdm #это я для себя использовал, чтобы знать, сколько считаться будет "
   ]
  },
  {
   "cell_type": "code",
   "execution_count": 50,
   "metadata": {
    "scrolled": true
   },
   "outputs": [
    {
     "data": {
      "application/vnd.jupyter.widget-view+json": {
       "model_id": "85837985a2ab4844ad79c85dc395da0d",
       "version_major": 2,
       "version_minor": 0
      },
      "text/html": [
       "<p>Failed to display Jupyter Widget of type <code>HBox</code>.</p>\n",
       "<p>\n",
       "  If you're reading this message in Jupyter Notebook or JupyterLab, it may mean\n",
       "  that the widgets JavaScript is still loading. If this message persists, it\n",
       "  likely means that the widgets JavaScript library is either not installed or\n",
       "  not enabled. See the <a href=\"https://ipywidgets.readthedocs.io/en/stable/user_install.html\">Jupyter\n",
       "  Widgets Documentation</a> for setup instructions.\n",
       "</p>\n",
       "<p>\n",
       "  If you're reading this message in another notebook frontend (for example, a static\n",
       "  rendering on GitHub or <a href=\"https://nbviewer.jupyter.org/\">NBViewer</a>),\n",
       "  it may mean that your frontend doesn't currently support widgets.\n",
       "</p>\n"
      ],
      "text/plain": [
       "HBox(children=(IntProgress(value=0, max=6), HTML(value='')))"
      ]
     },
     "metadata": {},
     "output_type": "display_data"
    },
    {
     "name": "stdout",
     "output_type": "stream",
     "text": [
      "2 {'accuracy_score': 0.94507936507936507, 'log_loss': 0.19084270969946629}\n",
      "3 {'accuracy_score': 0.9568253968253968, 'log_loss': 0.15670733694691669}\n",
      "4 {'accuracy_score': 0.95523809523809522, 'log_loss': 0.15029818570212156}\n",
      "5 {'accuracy_score': 0.95587301587301587, 'log_loss': 0.15005929065877033}\n",
      "6 {'accuracy_score': 0.95460317460317456, 'log_loss': 0.15702568933670508}\n",
      "7 {'accuracy_score': 0.95174603174603178, 'log_loss': 0.15843215004748121}\n",
      "\n"
     ]
    }
   ],
   "source": [
    "for max_depth in tqdm(range(2, 8)):\n",
    "    xgboost = XGBClassifier(n_estimators=340, n_jobs=4, random_state=12, learning_rate=0.2, max_depth=max_depth)\n",
    "    xgboost.fit(X_train, y_train)\n",
    "    print(max_depth, get_score(xgboost))"
   ]
  },
  {
   "cell_type": "code",
   "execution_count": 55,
   "metadata": {},
   "outputs": [
    {
     "data": {
      "application/vnd.jupyter.widget-view+json": {
       "model_id": "c53d42e9236249bcbb586c7bb8fbfc77",
       "version_major": 2,
       "version_minor": 0
      },
      "text/html": [
       "<p>Failed to display Jupyter Widget of type <code>HBox</code>.</p>\n",
       "<p>\n",
       "  If you're reading this message in Jupyter Notebook or JupyterLab, it may mean\n",
       "  that the widgets JavaScript is still loading. If this message persists, it\n",
       "  likely means that the widgets JavaScript library is either not installed or\n",
       "  not enabled. See the <a href=\"https://ipywidgets.readthedocs.io/en/stable/user_install.html\">Jupyter\n",
       "  Widgets Documentation</a> for setup instructions.\n",
       "</p>\n",
       "<p>\n",
       "  If you're reading this message in another notebook frontend (for example, a static\n",
       "  rendering on GitHub or <a href=\"https://nbviewer.jupyter.org/\">NBViewer</a>),\n",
       "  it may mean that your frontend doesn't currently support widgets.\n",
       "</p>\n"
      ],
      "text/plain": [
       "HBox(children=(IntProgress(value=0, max=10), HTML(value='')))"
      ]
     },
     "metadata": {},
     "output_type": "display_data"
    },
    {
     "name": "stdout",
     "output_type": "stream",
     "text": [
      "0.0 {'accuracy_score': 0.9568253968253968, 'log_loss': 0.15670733694691669}\n",
      "0.0555555555556 {'accuracy_score': 0.95523809523809522, 'log_loss': 0.15884613570892966}\n",
      "0.111111111111 {'accuracy_score': 0.95301587301587298, 'log_loss': 0.15940854689468417}\n",
      "0.166666666667 {'accuracy_score': 0.9514285714285714, 'log_loss': 0.16006861144106457}\n",
      "0.222222222222 {'accuracy_score': 0.9514285714285714, 'log_loss': 0.16278316606119381}\n",
      "0.277777777778 {'accuracy_score': 0.95269841269841271, 'log_loss': 0.16438614319049485}\n",
      "0.333333333333 {'accuracy_score': 0.94857142857142862, 'log_loss': 0.16665523639681318}\n",
      "0.388888888889 {'accuracy_score': 0.9501587301587302, 'log_loss': 0.16930747890631642}\n",
      "0.444444444444 {'accuracy_score': 0.94952380952380955, 'log_loss': 0.17112986567052585}\n",
      "0.5 {'accuracy_score': 0.94984126984126982, 'log_loss': 0.17456053271746391}\n",
      "\n"
     ]
    }
   ],
   "source": [
    "for gamma in tqdm(np.linspace(0, 0.5, 10)):\n",
    "    xgboost = XGBClassifier(n_estimators=340, n_jobs=4, random_state=12, \n",
    "                            learning_rate=0.2, max_depth=3, gamma=gamma)\n",
    "    xgboost.fit(X_train, y_train)\n",
    "    print(gamma, get_score(xgboost))"
   ]
  },
  {
   "cell_type": "code",
   "execution_count": 56,
   "metadata": {},
   "outputs": [
    {
     "data": {
      "application/vnd.jupyter.widget-view+json": {
       "model_id": "aba3177eaf814552b627a4875656908d",
       "version_major": 2,
       "version_minor": 0
      },
      "text/html": [
       "<p>Failed to display Jupyter Widget of type <code>HBox</code>.</p>\n",
       "<p>\n",
       "  If you're reading this message in Jupyter Notebook or JupyterLab, it may mean\n",
       "  that the widgets JavaScript is still loading. If this message persists, it\n",
       "  likely means that the widgets JavaScript library is either not installed or\n",
       "  not enabled. See the <a href=\"https://ipywidgets.readthedocs.io/en/stable/user_install.html\">Jupyter\n",
       "  Widgets Documentation</a> for setup instructions.\n",
       "</p>\n",
       "<p>\n",
       "  If you're reading this message in another notebook frontend (for example, a static\n",
       "  rendering on GitHub or <a href=\"https://nbviewer.jupyter.org/\">NBViewer</a>),\n",
       "  it may mean that your frontend doesn't currently support widgets.\n",
       "</p>\n"
      ],
      "text/plain": [
       "HBox(children=(IntProgress(value=0, max=7), HTML(value='')))"
      ]
     },
     "metadata": {},
     "output_type": "display_data"
    },
    {
     "name": "stdout",
     "output_type": "stream",
     "text": [
      "0.5 {'accuracy_score': 0.95492063492063495, 'log_loss': 0.15467971352770435}\n",
      "0.583333333333 {'accuracy_score': 0.9568253968253968, 'log_loss': 0.15540650666911285}\n",
      "0.666666666667 {'accuracy_score': 0.95936507936507931, 'log_loss': 0.15761704406841048}\n",
      "0.75 {'accuracy_score': 0.95587301587301587, 'log_loss': 0.15265542577120222}\n",
      "0.833333333333 {'accuracy_score': 0.95841269841269838, 'log_loss': 0.15456966715204379}\n",
      "0.916666666667 {'accuracy_score': 0.9555555555555556, 'log_loss': 0.1562331246833176}\n",
      "1.0 {'accuracy_score': 0.9568253968253968, 'log_loss': 0.15670733694691669}\n",
      "\n"
     ]
    }
   ],
   "source": [
    "for colsample_bytree in tqdm(np.linspace(0.5, 1, 7)):\n",
    "    xgboost = XGBClassifier(n_estimators=340, n_jobs=4, random_state=12, learning_rate=0.2, \n",
    "                            max_depth=3, colsample_bytree=colsample_bytree)\n",
    "    xgboost.fit(X_train, y_train)\n",
    "    print(colsample_bytree, get_score(xgboost))"
   ]
  },
  {
   "cell_type": "code",
   "execution_count": 57,
   "metadata": {},
   "outputs": [
    {
     "data": {
      "application/vnd.jupyter.widget-view+json": {
       "model_id": "d03c24ad1df8466c8e7274ed68ab4d85",
       "version_major": 2,
       "version_minor": 0
      },
      "text/html": [
       "<p>Failed to display Jupyter Widget of type <code>HBox</code>.</p>\n",
       "<p>\n",
       "  If you're reading this message in Jupyter Notebook or JupyterLab, it may mean\n",
       "  that the widgets JavaScript is still loading. If this message persists, it\n",
       "  likely means that the widgets JavaScript library is either not installed or\n",
       "  not enabled. See the <a href=\"https://ipywidgets.readthedocs.io/en/stable/user_install.html\">Jupyter\n",
       "  Widgets Documentation</a> for setup instructions.\n",
       "</p>\n",
       "<p>\n",
       "  If you're reading this message in another notebook frontend (for example, a static\n",
       "  rendering on GitHub or <a href=\"https://nbviewer.jupyter.org/\">NBViewer</a>),\n",
       "  it may mean that your frontend doesn't currently support widgets.\n",
       "</p>\n"
      ],
      "text/plain": [
       "HBox(children=(IntProgress(value=0, max=9), HTML(value='')))"
      ]
     },
     "metadata": {},
     "output_type": "display_data"
    },
    {
     "name": "stdout",
     "output_type": "stream",
     "text": [
      "1 {'accuracy_score': 0.95936507936507931, 'log_loss': 0.15761704406841048}\n",
      "2 {'accuracy_score': 0.95523809523809522, 'log_loss': 0.15857221079586359}\n",
      "3 {'accuracy_score': 0.9555555555555556, 'log_loss': 0.15710306400822155}\n",
      "4 {'accuracy_score': 0.95206349206349206, 'log_loss': 0.15911568062126843}\n",
      "5 {'accuracy_score': 0.95269841269841271, 'log_loss': 0.15979424175308005}\n",
      "6 {'accuracy_score': 0.95238095238095233, 'log_loss': 0.16264280721341484}\n",
      "7 {'accuracy_score': 0.95301587301587298, 'log_loss': 0.1621557073296665}\n",
      "8 {'accuracy_score': 0.95047619047619047, 'log_loss': 0.16433887742319228}\n",
      "9 {'accuracy_score': 0.9501587301587302, 'log_loss': 0.16458265854307089}\n",
      "\n"
     ]
    }
   ],
   "source": [
    "for min_child_weight in tqdm(range(1, 10)):\n",
    "    xgboost = XGBClassifier(n_estimators=340, n_jobs=4, random_state=12, learning_rate=0.2, \n",
    "                            max_depth=3, gamma=0, colsample_bytree=0.66667, min_child_weight=min_child_weight)\n",
    "    xgboost.fit(X_train, y_train)\n",
    "    print(min_child_weight, get_score(xgboost))"
   ]
  },
  {
   "cell_type": "markdown",
   "metadata": {},
   "source": [
    "Далее таким же образом настройте регуляризацию ($\\lambda, \\alpha$)."
   ]
  },
  {
   "cell_type": "code",
   "execution_count": 59,
   "metadata": {},
   "outputs": [
    {
     "data": {
      "application/vnd.jupyter.widget-view+json": {
       "model_id": "e98b73f352f04ae3ae67e5d639173763",
       "version_major": 2,
       "version_minor": 0
      },
      "text/html": [
       "<p>Failed to display Jupyter Widget of type <code>HBox</code>.</p>\n",
       "<p>\n",
       "  If you're reading this message in Jupyter Notebook or JupyterLab, it may mean\n",
       "  that the widgets JavaScript is still loading. If this message persists, it\n",
       "  likely means that the widgets JavaScript library is either not installed or\n",
       "  not enabled. See the <a href=\"https://ipywidgets.readthedocs.io/en/stable/user_install.html\">Jupyter\n",
       "  Widgets Documentation</a> for setup instructions.\n",
       "</p>\n",
       "<p>\n",
       "  If you're reading this message in another notebook frontend (for example, a static\n",
       "  rendering on GitHub or <a href=\"https://nbviewer.jupyter.org/\">NBViewer</a>),\n",
       "  it may mean that your frontend doesn't currently support widgets.\n",
       "</p>\n"
      ],
      "text/plain": [
       "HBox(children=(IntProgress(value=0, max=5), HTML(value='')))"
      ]
     },
     "metadata": {},
     "output_type": "display_data"
    },
    {
     "name": "stdout",
     "output_type": "stream",
     "text": [
      "\n",
      "0.0 {'accuracy_score': 0.95936507936507931, 'log_loss': 0.15761704406841048}\n",
      "0.25 {'accuracy_score': 0.95619047619047615, 'log_loss': 0.15554624840074893}\n",
      "0.5 {'accuracy_score': 0.95396825396825402, 'log_loss': 0.15496458314982081}\n",
      "0.75 {'accuracy_score': 0.95206349206349206, 'log_loss': 0.15727239694611575}\n",
      "1.0 {'accuracy_score': 0.95301587301587298, 'log_loss': 0.15896827074930209}\n",
      "\n"
     ]
    }
   ],
   "source": [
    "for reg_alpha in tqdm(np.linspace(0, 1, 5)):\n",
    "    xgboost = XGBClassifier(n_estimators=340, n_jobs=4, random_state=12, learning_rate=0.2, \n",
    "                            max_depth=3, gamma=0, colsample_bytree=0.66667, min_child_weight=1,\n",
    "                            reg_alpha=reg_alpha)\n",
    "    xgboost.fit(X_train, y_train)\n",
    "    print(reg_alpha, get_score(xgboost))"
   ]
  },
  {
   "cell_type": "code",
   "execution_count": 60,
   "metadata": {},
   "outputs": [
    {
     "data": {
      "application/vnd.jupyter.widget-view+json": {
       "model_id": "a27c90cdd25448d490e77c4c8e94a345",
       "version_major": 2,
       "version_minor": 0
      },
      "text/html": [
       "<p>Failed to display Jupyter Widget of type <code>HBox</code>.</p>\n",
       "<p>\n",
       "  If you're reading this message in Jupyter Notebook or JupyterLab, it may mean\n",
       "  that the widgets JavaScript is still loading. If this message persists, it\n",
       "  likely means that the widgets JavaScript library is either not installed or\n",
       "  not enabled. See the <a href=\"https://ipywidgets.readthedocs.io/en/stable/user_install.html\">Jupyter\n",
       "  Widgets Documentation</a> for setup instructions.\n",
       "</p>\n",
       "<p>\n",
       "  If you're reading this message in another notebook frontend (for example, a static\n",
       "  rendering on GitHub or <a href=\"https://nbviewer.jupyter.org/\">NBViewer</a>),\n",
       "  it may mean that your frontend doesn't currently support widgets.\n",
       "</p>\n"
      ],
      "text/plain": [
       "HBox(children=(IntProgress(value=0, max=5), HTML(value='')))"
      ]
     },
     "metadata": {},
     "output_type": "display_data"
    },
    {
     "name": "stdout",
     "output_type": "stream",
     "text": [
      "0.0 {'accuracy_score': 0.95746031746031746, 'log_loss': 0.16389517704864276}\n",
      "0.25 {'accuracy_score': 0.95619047619047615, 'log_loss': 0.15988853721465235}\n",
      "0.5 {'accuracy_score': 0.95587301587301587, 'log_loss': 0.15706865387639093}\n",
      "0.75 {'accuracy_score': 0.95587301587301587, 'log_loss': 0.15730266982507143}\n",
      "1.0 {'accuracy_score': 0.95936507936507931, 'log_loss': 0.15761704406841048}\n",
      "\n"
     ]
    }
   ],
   "source": [
    "for reg_lambda in tqdm(np.linspace(0, 1, 5)):\n",
    "    xgboost = XGBClassifier(n_estimators=340, n_jobs=4, random_state=12, learning_rate=0.2, \n",
    "                            max_depth=3, gamma=0, colsample_bytree=0.66667, min_child_weight=1,\n",
    "                            reg_alpha=0, reg_lambda=reg_lambda)\n",
    "    xgboost.fit(X_train, y_train)\n",
    "    print(reg_lambda, get_score(xgboost))"
   ]
  },
  {
   "cell_type": "markdown",
   "metadata": {},
   "source": [
    "После того, как все параметры настроены, уменьшите `learning_rate`, пропорционально увеличив число деревьев. Обучите итоговый классификатор."
   ]
  },
  {
   "cell_type": "markdown",
   "metadata": {},
   "source": [
    "## Увы\n",
    "Я попробовал это сделать, но все попытки приводили лишь к ухудшению скора. "
   ]
  },
  {
   "cell_type": "markdown",
   "metadata": {},
   "source": [
    "Постройте 2 графика:\n",
    "* по оси X отложены этапы настройки классификатора: по умолчанию, после выбора числа деревьев, после настройки каждого гиперпараметра, итоговый классификатор;\n",
    "* по оси Y на первом графике - accuracy на каждом этапе, на втором - logloss.\n",
    "\n",
    "Какой этап дал наиболее существенный прирост качества? Получилось ли у вас поднять качество выше, чем у базовых решений: kNN и Random Forest?"
   ]
  },
  {
   "cell_type": "code",
   "execution_count": 15,
   "metadata": {
    "scrolled": false
   },
   "outputs": [
    {
     "data": {
      "image/png": "[encoded data removed]",
      "text/plain": [
       "<matplotlib.figure.Figure at 0x7ff02dd711d0>"
      ]
     },
     "metadata": {},
     "output_type": "display_data"
    }
   ],
   "source": [
    "x = ['1.default',  '2.trees', '3.max_depth', '4.gamma', \n",
    "     '5.colsample_bytree', '6.min_child_weight', '7.reg_alpha', '8.reg_lambda']\n",
    "\n",
    "y_ll = [0.273825460057, 0.15670733694691669, 0.15670733694691669, 0.15670733694691669, 0.15761704406841048, \n",
    "        0.15761704406841048, 0.15761704406841048, 0.15761704406841048]\n",
    "y_acc = [0.92380952381, 0.9568253968253968, 0.9568253968253968, 0.9568253968253968, 0.95936507936507931, \n",
    "         0.95936507936507931, 0.95936507936507931, 0.95936507936507931] \n",
    "\n",
    "f, axarr = plt.subplots(2, figsize=(14,8))\n",
    "axarr[0].scatter(x, y_acc)\n",
    "axarr[0].set_title('Accuracy');\n",
    "axarr[1].scatter(x, y_ll)\n",
    "axarr[1].set_title('Logloss');"
   ]
  },
  {
   "cell_type": "markdown",
   "metadata": {},
   "source": [
    "Самым прибыльным шагом был тюнинг количества деревьев. В остальных гиперпараметрах оптимальными оказались либо дефолтные значения, либо относительно близкие к ним. Да, поднять качество по сравнению с хорошо выступившим kNN удалось. "
   ]
  },
  {
   "cell_type": "markdown",
   "metadata": {},
   "source": [
    "### Keras\n",
    "(6 баллов)"
   ]
  },
  {
   "cell_type": "markdown",
   "metadata": {},
   "source": [
    "[Установите библиотеку keras](https://keras.io/#installation). Возможно, вам также придется [установить библиотеку tensorflow](https://www.tensorflow.org/install/)."
   ]
  },
  {
   "cell_type": "code",
   "execution_count": 40,
   "metadata": {},
   "outputs": [],
   "source": [
    "import keras\n",
    "from keras.models import Sequential\n",
    "from keras.layers import Dense, Activation, Dropout\n",
    "from keras.optimizers import SGD\n",
    "from keras.regularizers import l2\n",
    "from keras.utils import to_categorical"
   ]
  },
  {
   "cell_type": "markdown",
   "metadata": {},
   "source": [
    "Метки классов для keras необходимо задать не номером, а в виде индикаторов, показывающих принадлежность каждому из классов. Ниже приведен код, делающих это."
   ]
  },
  {
   "cell_type": "code",
   "execution_count": 17,
   "metadata": {},
   "outputs": [],
   "source": [
    "num_classes = 10\n",
    "y_train = keras.utils.to_categorical(y_train, num_classes)\n",
    "y_test = keras.utils.to_categorical(y_test, num_classes)\n",
    "\n",
    "X_train = X_train / 255.0\n",
    "X_test = X_test / 255.0"
   ]
  },
  {
   "cell_type": "markdown",
   "metadata": {},
   "source": [
    "В качестве базового решения можете взять модель, которая демонстрировалась на лекции по нейронным сетям. \"Соберите\" сеть, обучите ее и сделайте предсказание. В качестве `batch_size` возьмите 1-2% объема обучающей выборки."
   ]
  },
  {
   "cell_type": "code",
   "execution_count": 18,
   "metadata": {
    "scrolled": true
   },
   "outputs": [
    {
     "name": "stdout",
     "output_type": "stream",
     "text": [
      "Train on 9450 samples, validate on 3150 samples\n",
      "Epoch 1/30\n",
      "9450/9450 [==============================] - 3s - loss: 2.2839 - acc: 0.1875 - val_loss: 2.2625 - val_acc: 0.2940\n",
      "Epoch 2/30\n",
      "9450/9450 [==============================] - 0s - loss: 2.2365 - acc: 0.4314 - val_loss: 2.2142 - val_acc: 0.4813\n",
      "Epoch 3/30\n",
      "9450/9450 [==============================] - 0s - loss: 2.1819 - acc: 0.5402 - val_loss: 2.1549 - val_acc: 0.5356\n",
      "Epoch 4/30\n",
      "9450/9450 [==============================] - 0s - loss: 2.1128 - acc: 0.5708 - val_loss: 2.0782 - val_acc: 0.5740\n",
      "Epoch 5/30\n",
      "9450/9450 [==============================] - 0s - loss: 2.0222 - acc: 0.6121 - val_loss: 1.9768 - val_acc: 0.6063\n",
      "Epoch 6/30\n",
      "9450/9450 [==============================] - 0s - loss: 1.9038 - acc: 0.6422 - val_loss: 1.8459 - val_acc: 0.6489\n",
      "Epoch 7/30\n",
      "9450/9450 [==============================] - 0s - loss: 1.7550 - acc: 0.6734 - val_loss: 1.6859 - val_acc: 0.6889\n",
      "Epoch 8/30\n",
      "9450/9450 [==============================] - 0s - loss: 1.5824 - acc: 0.7040 - val_loss: 1.5087 - val_acc: 0.7041\n",
      "Epoch 9/30\n",
      "9450/9450 [==============================] - 0s - loss: 1.4006 - acc: 0.7308 - val_loss: 1.3321 - val_acc: 0.7368\n",
      "Epoch 10/30\n",
      "9450/9450 [==============================] - 0s - loss: 1.2298 - acc: 0.7613 - val_loss: 1.1751 - val_acc: 0.7616\n",
      "Epoch 11/30\n",
      "9450/9450 [==============================] - 0s - loss: 1.0828 - acc: 0.7856 - val_loss: 1.0411 - val_acc: 0.7835\n",
      "Epoch 12/30\n",
      "9450/9450 [==============================] - 0s - loss: 0.9633 - acc: 0.8038 - val_loss: 0.9351 - val_acc: 0.7997\n",
      "Epoch 13/30\n",
      "9450/9450 [==============================] - 0s - loss: 0.8680 - acc: 0.8160 - val_loss: 0.8500 - val_acc: 0.8127\n",
      "Epoch 14/30\n",
      "9450/9450 [==============================] - 0s - loss: 0.7917 - acc: 0.8292 - val_loss: 0.7831 - val_acc: 0.8222\n",
      "Epoch 15/30\n",
      "9450/9450 [==============================] - 0s - loss: 0.7303 - acc: 0.8371 - val_loss: 0.7279 - val_acc: 0.8292\n",
      "Epoch 16/30\n",
      "9450/9450 [==============================] - 0s - loss: 0.6803 - acc: 0.8442 - val_loss: 0.6854 - val_acc: 0.8375\n",
      "Epoch 17/30\n",
      "9450/9450 [==============================] - 0s - loss: 0.6393 - acc: 0.8501 - val_loss: 0.6456 - val_acc: 0.8460\n",
      "Epoch 18/30\n",
      "9450/9450 [==============================] - 0s - loss: 0.6039 - acc: 0.8563 - val_loss: 0.6152 - val_acc: 0.8460\n",
      "Epoch 19/30\n",
      "9450/9450 [==============================] - 0s - loss: 0.5751 - acc: 0.8601 - val_loss: 0.5867 - val_acc: 0.8533\n",
      "Epoch 20/30\n",
      "9450/9450 [==============================] - 0s - loss: 0.5495 - acc: 0.8647 - val_loss: 0.5667 - val_acc: 0.8530\n",
      "Epoch 21/30\n",
      "9450/9450 [==============================] - 0s - loss: 0.5282 - acc: 0.8684 - val_loss: 0.5441 - val_acc: 0.8603\n",
      "Epoch 22/30\n",
      "9450/9450 [==============================] - 0s - loss: 0.5087 - acc: 0.8699 - val_loss: 0.5288 - val_acc: 0.8600\n",
      "Epoch 23/30\n",
      "9450/9450 [==============================] - 0s - loss: 0.4922 - acc: 0.8734 - val_loss: 0.5114 - val_acc: 0.8644\n",
      "Epoch 24/30\n",
      "9450/9450 [==============================] - 0s - loss: 0.4770 - acc: 0.8774 - val_loss: 0.4998 - val_acc: 0.8648\n",
      "Epoch 25/30\n",
      "9450/9450 [==============================] - 0s - loss: 0.4641 - acc: 0.8786 - val_loss: 0.4855 - val_acc: 0.8714\n",
      "Epoch 26/30\n",
      "9450/9450 [==============================] - 0s - loss: 0.4522 - acc: 0.8812 - val_loss: 0.4743 - val_acc: 0.8727\n",
      "Epoch 27/30\n",
      "9450/9450 [==============================] - 0s - loss: 0.4415 - acc: 0.8836 - val_loss: 0.4658 - val_acc: 0.8721\n",
      "Epoch 28/30\n",
      "9450/9450 [==============================] - 0s - loss: 0.4315 - acc: 0.8857 - val_loss: 0.4548 - val_acc: 0.8749\n",
      "Epoch 29/30\n",
      "9450/9450 [==============================] - 0s - loss: 0.4224 - acc: 0.8870 - val_loss: 0.4461 - val_acc: 0.8778\n",
      "Epoch 30/30\n",
      "9450/9450 [==============================] - 0s - loss: 0.4141 - acc: 0.8894 - val_loss: 0.4390 - val_acc: 0.8806\n"
     ]
    }
   ],
   "source": [
    "model = Sequential()\n",
    "l2_reg = 10 ** -6\n",
    "\n",
    "model.add(Dense(\n",
    "    units=512,\n",
    "    kernel_initializer='uniform',\n",
    "    kernel_regularizer=l2(l2_reg),\n",
    "    input_dim=len(X_train[0])\n",
    "))\n",
    "model.add(Activation('relu'))\n",
    "model.add(Dense(\n",
    "    units=512,\n",
    "    kernel_initializer='uniform',\n",
    "    kernel_regularizer=l2(l2_reg)\n",
    "))\n",
    "model.add(Activation('relu'))\n",
    "model.add(Dense(\n",
    "    units=num_classes,\n",
    "    kernel_initializer='uniform',\n",
    "    kernel_regularizer=l2(l2_reg)\n",
    "))\n",
    "model.add(Activation('softmax'))\n",
    "\n",
    "sgd = SGD(lr=0.01, nesterov=True)\n",
    "\n",
    "model.compile(\n",
    "    loss='categorical_crossentropy',\n",
    "    optimizer=sgd,\n",
    "    metrics=['accuracy']\n",
    ")\n",
    "\n",
    "history = model.fit(\n",
    "    X_train, y_train,\n",
    "    epochs=30,\n",
    "    batch_size=200,\n",
    "    verbose=1,\n",
    "    validation_data=(X_test, y_test)\n",
    ")"
   ]
  },
  {
   "cell_type": "markdown",
   "metadata": {},
   "source": [
    "Давайте попробуем подобрать структуру сети. Каких-то четких инструкций здесь нет, это довольно творческий процесс. Попробуйте варьировать следующие параметры:\n",
    "* число Dense слоев (рекомендуется брать не более пяти); не забывайте после каждого Dense слоя добавлять слой активации; помните, что при большом числе слоев обучение может идти медленно и может потребоваться существенное число эпох для того, что наблюдать прирост качества.\n",
    "* количество нейронов на слоях; как правило, сети проектируют так, чтобы слои сужались: сначала шли слои с большим количеством нейронов, потом - с меньшим.\n",
    "* слои Dropout - вы можете добавить эти слои после скрытых слоев активации.\n",
    "\n",
    "Также, как и в случае с xgboost, сохраняйте наилучший результат по качеству на каждом шаге.\n",
    "\n",
    "Составьте 6-7 разных моделей и посмотрите, какое на них будет качество классификации. Сильно ли зависит результат и время обучения от конфигурации модели?\n",
    "\n",
    "Ниже дано описание класса, с помощью которого можно логировать время обучения. Просто передайте в `fit` параметр `callbacks=[time_callback]`. После обучения вы можете получить время на каждой эпохе с помощью `time_callback.times`"
   ]
  },
  {
   "cell_type": "code",
   "execution_count": 19,
   "metadata": {},
   "outputs": [],
   "source": [
    "# https://stackoverflow.com/questions/43178668/record-the-computation-time-for-each-epoch-in-keras-during-model-fit\n",
    "import time \n",
    "class TimeHistory(keras.callbacks.Callback):\n",
    "    def on_train_begin(self, logs={}):\n",
    "        self.times = []\n",
    "\n",
    "    def on_epoch_begin(self, batch, logs={}):\n",
    "        self.epoch_time_start = time.time()\n",
    "\n",
    "    def on_epoch_end(self, batch, logs={}):\n",
    "        self.times.append(time.time() - self.epoch_time_start)\n",
    "        \n",
    "time_callback = TimeHistory()"
   ]
  },
  {
   "cell_type": "markdown",
   "metadata": {},
   "source": [
    "### Начнем с простого "
   ]
  },
  {
   "cell_type": "code",
   "execution_count": 20,
   "metadata": {
    "scrolled": true
   },
   "outputs": [
    {
     "name": "stdout",
     "output_type": "stream",
     "text": [
      "Train on 9450 samples, validate on 3150 samples\n",
      "Epoch 1/100\n",
      "0s - loss: 1.8699 - acc: 0.4794 - val_loss: 1.5015 - val_acc: 0.6857\n",
      "Epoch 2/100\n",
      "0s - loss: 1.2572 - acc: 0.7562 - val_loss: 1.0942 - val_acc: 0.7819\n",
      "Epoch 3/100\n",
      "0s - loss: 0.9545 - acc: 0.8138 - val_loss: 0.8796 - val_acc: 0.8181\n",
      "Epoch 4/100\n",
      "0s - loss: 0.7887 - acc: 0.8338 - val_loss: 0.7552 - val_acc: 0.8289\n",
      "Epoch 5/100\n",
      "0s - loss: 0.6870 - acc: 0.8477 - val_loss: 0.6730 - val_acc: 0.8390\n",
      "Epoch 6/100\n",
      "0s - loss: 0.6180 - acc: 0.8578 - val_loss: 0.6155 - val_acc: 0.8514\n",
      "Epoch 7/100\n",
      "0s - loss: 0.5685 - acc: 0.8661 - val_loss: 0.5730 - val_acc: 0.8597\n",
      "Epoch 8/100\n",
      "0s - loss: 0.5309 - acc: 0.8705 - val_loss: 0.5387 - val_acc: 0.8635\n",
      "Epoch 9/100\n",
      "0s - loss: 0.5012 - acc: 0.8779 - val_loss: 0.5136 - val_acc: 0.8651\n",
      "Epoch 10/100\n",
      "0s - loss: 0.4768 - acc: 0.8830 - val_loss: 0.4909 - val_acc: 0.8705\n",
      "Epoch 11/100\n",
      "0s - loss: 0.4565 - acc: 0.8865 - val_loss: 0.4729 - val_acc: 0.8778\n",
      "Epoch 12/100\n",
      "0s - loss: 0.4396 - acc: 0.8892 - val_loss: 0.4584 - val_acc: 0.8784\n",
      "Epoch 13/100\n",
      "0s - loss: 0.4247 - acc: 0.8919 - val_loss: 0.4452 - val_acc: 0.8813\n",
      "Epoch 14/100\n",
      "0s - loss: 0.4119 - acc: 0.8947 - val_loss: 0.4336 - val_acc: 0.8844\n",
      "Epoch 15/100\n",
      "0s - loss: 0.4004 - acc: 0.8952 - val_loss: 0.4236 - val_acc: 0.8857\n",
      "Epoch 16/100\n",
      "0s - loss: 0.3903 - acc: 0.8971 - val_loss: 0.4147 - val_acc: 0.8892\n",
      "Epoch 17/100\n",
      "0s - loss: 0.3808 - acc: 0.8993 - val_loss: 0.4064 - val_acc: 0.8898\n",
      "Epoch 18/100\n",
      "0s - loss: 0.3727 - acc: 0.9012 - val_loss: 0.3990 - val_acc: 0.8914\n",
      "Epoch 19/100\n",
      "0s - loss: 0.3653 - acc: 0.9040 - val_loss: 0.3924 - val_acc: 0.8949\n",
      "Epoch 20/100\n",
      "0s - loss: 0.3580 - acc: 0.9046 - val_loss: 0.3870 - val_acc: 0.8943\n",
      "Epoch 21/100\n",
      "0s - loss: 0.3515 - acc: 0.9056 - val_loss: 0.3818 - val_acc: 0.8946\n",
      "Epoch 22/100\n",
      "0s - loss: 0.3454 - acc: 0.9070 - val_loss: 0.3766 - val_acc: 0.8968\n",
      "Epoch 23/100\n",
      "0s - loss: 0.3400 - acc: 0.9091 - val_loss: 0.3719 - val_acc: 0.8987\n",
      "Epoch 24/100\n",
      "0s - loss: 0.3348 - acc: 0.9102 - val_loss: 0.3674 - val_acc: 0.8978\n",
      "Epoch 25/100\n",
      "0s - loss: 0.3297 - acc: 0.9103 - val_loss: 0.3628 - val_acc: 0.9006\n",
      "Epoch 26/100\n",
      "0s - loss: 0.3249 - acc: 0.9123 - val_loss: 0.3593 - val_acc: 0.8990\n",
      "Epoch 27/100\n",
      "0s - loss: 0.3204 - acc: 0.9127 - val_loss: 0.3559 - val_acc: 0.8990\n",
      "Epoch 28/100\n",
      "0s - loss: 0.3163 - acc: 0.9128 - val_loss: 0.3528 - val_acc: 0.9019\n",
      "Epoch 29/100\n",
      "0s - loss: 0.3122 - acc: 0.9141 - val_loss: 0.3492 - val_acc: 0.9016\n",
      "Epoch 30/100\n",
      "0s - loss: 0.3085 - acc: 0.9147 - val_loss: 0.3466 - val_acc: 0.9022\n",
      "Epoch 31/100\n",
      "0s - loss: 0.3047 - acc: 0.9171 - val_loss: 0.3438 - val_acc: 0.9044\n",
      "Epoch 32/100\n",
      "0s - loss: 0.3011 - acc: 0.9164 - val_loss: 0.3407 - val_acc: 0.9035\n",
      "Epoch 33/100\n",
      "0s - loss: 0.2976 - acc: 0.9174 - val_loss: 0.3379 - val_acc: 0.9041\n",
      "Epoch 34/100\n",
      "0s - loss: 0.2942 - acc: 0.9196 - val_loss: 0.3357 - val_acc: 0.9048\n",
      "Epoch 35/100\n",
      "0s - loss: 0.2913 - acc: 0.9198 - val_loss: 0.3329 - val_acc: 0.9067\n",
      "Epoch 36/100\n",
      "0s - loss: 0.2883 - acc: 0.9206 - val_loss: 0.3308 - val_acc: 0.9057\n",
      "Epoch 37/100\n",
      "0s - loss: 0.2853 - acc: 0.9205 - val_loss: 0.3289 - val_acc: 0.9048\n",
      "Epoch 38/100\n",
      "0s - loss: 0.2824 - acc: 0.9219 - val_loss: 0.3270 - val_acc: 0.9067\n",
      "Epoch 39/100\n",
      "0s - loss: 0.2794 - acc: 0.9231 - val_loss: 0.3245 - val_acc: 0.9067\n",
      "Epoch 40/100\n",
      "0s - loss: 0.2768 - acc: 0.9240 - val_loss: 0.3232 - val_acc: 0.9079\n",
      "Epoch 41/100\n",
      "0s - loss: 0.2742 - acc: 0.9249 - val_loss: 0.3212 - val_acc: 0.9102\n",
      "Epoch 42/100\n",
      "0s - loss: 0.2716 - acc: 0.9256 - val_loss: 0.3194 - val_acc: 0.9102\n",
      "Epoch 43/100\n",
      "0s - loss: 0.2693 - acc: 0.9259 - val_loss: 0.3166 - val_acc: 0.9102\n",
      "Epoch 44/100\n",
      "0s - loss: 0.2668 - acc: 0.9268 - val_loss: 0.3153 - val_acc: 0.9108\n",
      "Epoch 45/100\n",
      "0s - loss: 0.2645 - acc: 0.9275 - val_loss: 0.3131 - val_acc: 0.9124\n",
      "Epoch 46/100\n",
      "0s - loss: 0.2623 - acc: 0.9280 - val_loss: 0.3124 - val_acc: 0.9130\n",
      "Epoch 47/100\n",
      "0s - loss: 0.2600 - acc: 0.9291 - val_loss: 0.3108 - val_acc: 0.9140\n",
      "Epoch 48/100\n",
      "0s - loss: 0.2579 - acc: 0.9304 - val_loss: 0.3090 - val_acc: 0.9146\n",
      "Epoch 49/100\n",
      "0s - loss: 0.2556 - acc: 0.9296 - val_loss: 0.3075 - val_acc: 0.9133\n",
      "Epoch 50/100\n",
      "0s - loss: 0.2536 - acc: 0.9309 - val_loss: 0.3054 - val_acc: 0.9146\n",
      "Epoch 51/100\n",
      "0s - loss: 0.2514 - acc: 0.9314 - val_loss: 0.3043 - val_acc: 0.9162\n",
      "Epoch 52/100\n",
      "0s - loss: 0.2495 - acc: 0.9308 - val_loss: 0.3030 - val_acc: 0.9175\n",
      "Epoch 53/100\n",
      "0s - loss: 0.2475 - acc: 0.9326 - val_loss: 0.3016 - val_acc: 0.9165\n",
      "Epoch 54/100\n",
      "0s - loss: 0.2455 - acc: 0.9328 - val_loss: 0.3001 - val_acc: 0.9178\n",
      "Epoch 55/100\n",
      "0s - loss: 0.2437 - acc: 0.9330 - val_loss: 0.2989 - val_acc: 0.9178\n",
      "Epoch 56/100\n",
      "0s - loss: 0.2418 - acc: 0.9332 - val_loss: 0.2973 - val_acc: 0.9178\n",
      "Epoch 57/100\n",
      "0s - loss: 0.2400 - acc: 0.9346 - val_loss: 0.2963 - val_acc: 0.9184\n",
      "Epoch 58/100\n",
      "0s - loss: 0.2381 - acc: 0.9343 - val_loss: 0.2947 - val_acc: 0.9197\n",
      "Epoch 59/100\n",
      "0s - loss: 0.2364 - acc: 0.9351 - val_loss: 0.2933 - val_acc: 0.9181\n",
      "Epoch 60/100\n",
      "0s - loss: 0.2346 - acc: 0.9354 - val_loss: 0.2926 - val_acc: 0.9178\n",
      "Epoch 61/100\n",
      "0s - loss: 0.2329 - acc: 0.9347 - val_loss: 0.2916 - val_acc: 0.9206\n",
      "Epoch 62/100\n",
      "0s - loss: 0.2311 - acc: 0.9361 - val_loss: 0.2908 - val_acc: 0.9197\n",
      "Epoch 63/100\n",
      "0s - loss: 0.2295 - acc: 0.9370 - val_loss: 0.2890 - val_acc: 0.9206\n",
      "Epoch 64/100\n",
      "0s - loss: 0.2278 - acc: 0.9379 - val_loss: 0.2885 - val_acc: 0.9194\n",
      "Epoch 65/100\n",
      "0s - loss: 0.2262 - acc: 0.9378 - val_loss: 0.2874 - val_acc: 0.9206\n",
      "Epoch 66/100\n",
      "0s - loss: 0.2246 - acc: 0.9387 - val_loss: 0.2862 - val_acc: 0.9213\n",
      "Epoch 67/100\n",
      "0s - loss: 0.2232 - acc: 0.9386 - val_loss: 0.2847 - val_acc: 0.9222\n",
      "Epoch 68/100\n",
      "0s - loss: 0.2215 - acc: 0.9402 - val_loss: 0.2840 - val_acc: 0.9210\n",
      "Epoch 69/100\n",
      "0s - loss: 0.2201 - acc: 0.9397 - val_loss: 0.2834 - val_acc: 0.9225\n",
      "Epoch 70/100\n",
      "0s - loss: 0.2184 - acc: 0.9414 - val_loss: 0.2817 - val_acc: 0.9213\n",
      "Epoch 71/100\n",
      "0s - loss: 0.2172 - acc: 0.9412 - val_loss: 0.2813 - val_acc: 0.9229\n",
      "Epoch 72/100\n",
      "0s - loss: 0.2156 - acc: 0.9421 - val_loss: 0.2802 - val_acc: 0.9229\n",
      "Epoch 73/100\n",
      "0s - loss: 0.2142 - acc: 0.9420 - val_loss: 0.2791 - val_acc: 0.9225\n",
      "Epoch 74/100\n",
      "0s - loss: 0.2126 - acc: 0.9431 - val_loss: 0.2791 - val_acc: 0.9232\n",
      "Epoch 75/100\n",
      "0s - loss: 0.2112 - acc: 0.9429 - val_loss: 0.2780 - val_acc: 0.9235\n",
      "Epoch 76/100\n",
      "0s - loss: 0.2100 - acc: 0.9441 - val_loss: 0.2763 - val_acc: 0.9235\n",
      "Epoch 77/100\n",
      "0s - loss: 0.2085 - acc: 0.9444 - val_loss: 0.2754 - val_acc: 0.9225\n",
      "Epoch 78/100\n",
      "0s - loss: 0.2071 - acc: 0.9455 - val_loss: 0.2741 - val_acc: 0.9229\n",
      "Epoch 79/100\n",
      "0s - loss: 0.2057 - acc: 0.9455 - val_loss: 0.2736 - val_acc: 0.9244\n",
      "Epoch 80/100\n",
      "0s - loss: 0.2046 - acc: 0.9450 - val_loss: 0.2728 - val_acc: 0.9244\n",
      "Epoch 81/100\n",
      "0s - loss: 0.2032 - acc: 0.9468 - val_loss: 0.2720 - val_acc: 0.9241\n",
      "Epoch 82/100\n",
      "0s - loss: 0.2020 - acc: 0.9469 - val_loss: 0.2711 - val_acc: 0.9248\n",
      "Epoch 83/100\n",
      "0s - loss: 0.2005 - acc: 0.9473 - val_loss: 0.2703 - val_acc: 0.9248\n",
      "Epoch 84/100\n",
      "0s - loss: 0.1991 - acc: 0.9479 - val_loss: 0.2701 - val_acc: 0.9238\n",
      "Epoch 85/100\n",
      "0s - loss: 0.1981 - acc: 0.9475 - val_loss: 0.2687 - val_acc: 0.9260\n",
      "Epoch 86/100\n",
      "0s - loss: 0.1968 - acc: 0.9485 - val_loss: 0.2688 - val_acc: 0.9263\n",
      "Epoch 87/100\n",
      "0s - loss: 0.1955 - acc: 0.9489 - val_loss: 0.2682 - val_acc: 0.9260\n",
      "Epoch 88/100\n",
      "0s - loss: 0.1944 - acc: 0.9498 - val_loss: 0.2664 - val_acc: 0.9263\n",
      "Epoch 89/100\n",
      "0s - loss: 0.1932 - acc: 0.9496 - val_loss: 0.2659 - val_acc: 0.9260\n",
      "Epoch 90/100\n",
      "0s - loss: 0.1919 - acc: 0.9498 - val_loss: 0.2652 - val_acc: 0.9279\n",
      "Epoch 91/100\n",
      "0s - loss: 0.1907 - acc: 0.9504 - val_loss: 0.2644 - val_acc: 0.9283\n",
      "Epoch 92/100\n",
      "0s - loss: 0.1895 - acc: 0.9503 - val_loss: 0.2639 - val_acc: 0.9289\n",
      "Epoch 93/100\n",
      "0s - loss: 0.1884 - acc: 0.9503 - val_loss: 0.2632 - val_acc: 0.9273\n",
      "Epoch 94/100\n",
      "0s - loss: 0.1872 - acc: 0.9512 - val_loss: 0.2634 - val_acc: 0.9276\n",
      "Epoch 95/100\n",
      "0s - loss: 0.1862 - acc: 0.9519 - val_loss: 0.2615 - val_acc: 0.9270\n",
      "Epoch 96/100\n",
      "0s - loss: 0.1850 - acc: 0.9523 - val_loss: 0.2613 - val_acc: 0.9286\n",
      "Epoch 97/100\n",
      "0s - loss: 0.1839 - acc: 0.9521 - val_loss: 0.2598 - val_acc: 0.9292\n",
      "Epoch 98/100\n",
      "0s - loss: 0.1828 - acc: 0.9521 - val_loss: 0.2593 - val_acc: 0.9283\n",
      "Epoch 99/100\n",
      "0s - loss: 0.1817 - acc: 0.9528 - val_loss: 0.2589 - val_acc: 0.9292\n",
      "Epoch 100/100\n",
      "0s - loss: 0.1806 - acc: 0.9530 - val_loss: 0.2583 - val_acc: 0.9302\n"
     ]
    }
   ],
   "source": [
    "model = Sequential()\n",
    "\n",
    "model.add(Dense(800, input_dim=len(X_train[0]), activation=\"relu\", kernel_initializer=\"normal\"))\n",
    "model.add(Dense(10, activation=\"softmax\", kernel_initializer=\"normal\"))\n",
    "\n",
    "model.compile(loss=\"categorical_crossentropy\", optimizer=\"SGD\", metrics=[\"accuracy\"])\n",
    "\n",
    "history = model.fit(X_train, y_train, batch_size=128,\n",
    "                    epochs=100, validation_data=(X_test, y_test),\n",
    "                    verbose=2, callbacks=[time_callback])"
   ]
  },
  {
   "cell_type": "markdown",
   "metadata": {},
   "source": [
    "### Больше слоев"
   ]
  },
  {
   "cell_type": "code",
   "execution_count": 21,
   "metadata": {
    "scrolled": true
   },
   "outputs": [
    {
     "name": "stdout",
     "output_type": "stream",
     "text": [
      "Train on 9450 samples, validate on 3150 samples\n",
      "Epoch 1/100\n",
      "0s - loss: 2.2208 - acc: 0.2847 - val_loss: 2.1400 - val_acc: 0.4489\n",
      "Epoch 2/100\n",
      "0s - loss: 2.0239 - acc: 0.5563 - val_loss: 1.9006 - val_acc: 0.6267\n",
      "Epoch 3/100\n",
      "0s - loss: 1.7312 - acc: 0.6764 - val_loss: 1.5731 - val_acc: 0.7286\n",
      "Epoch 4/100\n",
      "0s - loss: 1.3876 - acc: 0.7616 - val_loss: 1.2408 - val_acc: 0.7743\n",
      "Epoch 5/100\n",
      "0s - loss: 1.0886 - acc: 0.8046 - val_loss: 0.9883 - val_acc: 0.8184\n",
      "Epoch 6/100\n",
      "0s - loss: 0.8784 - acc: 0.8303 - val_loss: 0.8188 - val_acc: 0.8321\n",
      "Epoch 7/100\n",
      "0s - loss: 0.7397 - acc: 0.8450 - val_loss: 0.7079 - val_acc: 0.8460\n",
      "Epoch 8/100\n",
      "0s - loss: 0.6462 - acc: 0.8560 - val_loss: 0.6315 - val_acc: 0.8498\n",
      "Epoch 9/100\n",
      "0s - loss: 0.5806 - acc: 0.8634 - val_loss: 0.5768 - val_acc: 0.8568\n",
      "Epoch 10/100\n",
      "0s - loss: 0.5329 - acc: 0.8701 - val_loss: 0.5359 - val_acc: 0.8597\n",
      "Epoch 11/100\n",
      "0s - loss: 0.4959 - acc: 0.8752 - val_loss: 0.5050 - val_acc: 0.8683\n",
      "Epoch 12/100\n",
      "0s - loss: 0.4666 - acc: 0.8795 - val_loss: 0.4825 - val_acc: 0.8644\n",
      "Epoch 13/100\n",
      "0s - loss: 0.4434 - acc: 0.8848 - val_loss: 0.4632 - val_acc: 0.8721\n",
      "Epoch 14/100\n",
      "0s - loss: 0.4238 - acc: 0.8875 - val_loss: 0.4441 - val_acc: 0.8768\n",
      "Epoch 15/100\n",
      "0s - loss: 0.4073 - acc: 0.8902 - val_loss: 0.4288 - val_acc: 0.8825\n",
      "Epoch 16/100\n",
      "0s - loss: 0.3932 - acc: 0.8930 - val_loss: 0.4168 - val_acc: 0.8835\n",
      "Epoch 17/100\n",
      "0s - loss: 0.3809 - acc: 0.8956 - val_loss: 0.4068 - val_acc: 0.8873\n",
      "Epoch 18/100\n",
      "0s - loss: 0.3701 - acc: 0.8986 - val_loss: 0.3969 - val_acc: 0.8886\n",
      "Epoch 19/100\n",
      "0s - loss: 0.3601 - acc: 0.9005 - val_loss: 0.3891 - val_acc: 0.8902\n",
      "Epoch 20/100\n",
      "0s - loss: 0.3507 - acc: 0.9036 - val_loss: 0.3812 - val_acc: 0.8924\n",
      "Epoch 21/100\n",
      "0s - loss: 0.3431 - acc: 0.9060 - val_loss: 0.3750 - val_acc: 0.8937\n",
      "Epoch 22/100\n",
      "0s - loss: 0.3354 - acc: 0.9067 - val_loss: 0.3710 - val_acc: 0.8933\n",
      "Epoch 23/100\n",
      "0s - loss: 0.3283 - acc: 0.9103 - val_loss: 0.3641 - val_acc: 0.8949\n",
      "Epoch 24/100\n",
      "0s - loss: 0.3223 - acc: 0.9107 - val_loss: 0.3581 - val_acc: 0.8971\n",
      "Epoch 25/100\n",
      "0s - loss: 0.3161 - acc: 0.9125 - val_loss: 0.3539 - val_acc: 0.8990\n",
      "Epoch 26/100\n",
      "0s - loss: 0.3104 - acc: 0.9144 - val_loss: 0.3503 - val_acc: 0.8984\n",
      "Epoch 27/100\n",
      "0s - loss: 0.3049 - acc: 0.9148 - val_loss: 0.3478 - val_acc: 0.8984\n",
      "Epoch 28/100\n",
      "0s - loss: 0.3000 - acc: 0.9160 - val_loss: 0.3406 - val_acc: 0.9029\n",
      "Epoch 29/100\n",
      "0s - loss: 0.2948 - acc: 0.9188 - val_loss: 0.3374 - val_acc: 0.9044\n",
      "Epoch 30/100\n",
      "0s - loss: 0.2906 - acc: 0.9188 - val_loss: 0.3342 - val_acc: 0.9054\n",
      "Epoch 31/100\n",
      "0s - loss: 0.2853 - acc: 0.9203 - val_loss: 0.3328 - val_acc: 0.9048\n",
      "Epoch 32/100\n",
      "0s - loss: 0.2817 - acc: 0.9213 - val_loss: 0.3269 - val_acc: 0.9054\n",
      "Epoch 33/100\n",
      "0s - loss: 0.2778 - acc: 0.9231 - val_loss: 0.3245 - val_acc: 0.9063\n",
      "Epoch 34/100\n",
      "0s - loss: 0.2735 - acc: 0.9238 - val_loss: 0.3215 - val_acc: 0.9083\n",
      "Epoch 35/100\n",
      "0s - loss: 0.2698 - acc: 0.9253 - val_loss: 0.3189 - val_acc: 0.9102\n",
      "Epoch 36/100\n",
      "0s - loss: 0.2661 - acc: 0.9259 - val_loss: 0.3168 - val_acc: 0.9108\n",
      "Epoch 37/100\n",
      "0s - loss: 0.2621 - acc: 0.9268 - val_loss: 0.3142 - val_acc: 0.9114\n",
      "Epoch 38/100\n",
      "0s - loss: 0.2589 - acc: 0.9269 - val_loss: 0.3104 - val_acc: 0.9130\n",
      "Epoch 39/100\n",
      "0s - loss: 0.2554 - acc: 0.9283 - val_loss: 0.3096 - val_acc: 0.9137\n",
      "Epoch 40/100\n",
      "0s - loss: 0.2524 - acc: 0.9290 - val_loss: 0.3080 - val_acc: 0.9143\n",
      "Epoch 41/100\n",
      "0s - loss: 0.2490 - acc: 0.9296 - val_loss: 0.3056 - val_acc: 0.9137\n",
      "Epoch 42/100\n",
      "0s - loss: 0.2461 - acc: 0.9296 - val_loss: 0.3024 - val_acc: 0.9156\n",
      "Epoch 43/100\n",
      "0s - loss: 0.2432 - acc: 0.9309 - val_loss: 0.3011 - val_acc: 0.9162\n",
      "Epoch 44/100\n",
      "0s - loss: 0.2399 - acc: 0.9314 - val_loss: 0.2993 - val_acc: 0.9162\n",
      "Epoch 45/100\n",
      "0s - loss: 0.2370 - acc: 0.9331 - val_loss: 0.2979 - val_acc: 0.9156\n",
      "Epoch 46/100\n",
      "0s - loss: 0.2344 - acc: 0.9337 - val_loss: 0.2950 - val_acc: 0.9168\n",
      "Epoch 47/100\n",
      "0s - loss: 0.2313 - acc: 0.9349 - val_loss: 0.2916 - val_acc: 0.9200\n",
      "Epoch 48/100\n",
      "0s - loss: 0.2289 - acc: 0.9344 - val_loss: 0.2897 - val_acc: 0.9197\n",
      "Epoch 49/100\n",
      "0s - loss: 0.2264 - acc: 0.9369 - val_loss: 0.2904 - val_acc: 0.9181\n",
      "Epoch 50/100\n",
      "0s - loss: 0.2231 - acc: 0.9377 - val_loss: 0.2894 - val_acc: 0.9162\n",
      "Epoch 51/100\n",
      "0s - loss: 0.2211 - acc: 0.9374 - val_loss: 0.2852 - val_acc: 0.9213\n",
      "Epoch 52/100\n",
      "0s - loss: 0.2181 - acc: 0.9384 - val_loss: 0.2830 - val_acc: 0.9200\n",
      "Epoch 53/100\n",
      "0s - loss: 0.2160 - acc: 0.9401 - val_loss: 0.2819 - val_acc: 0.9219\n",
      "Epoch 54/100\n",
      "0s - loss: 0.2132 - acc: 0.9396 - val_loss: 0.2792 - val_acc: 0.9229\n",
      "Epoch 55/100\n",
      "0s - loss: 0.2111 - acc: 0.9413 - val_loss: 0.2794 - val_acc: 0.9219\n",
      "Epoch 56/100\n",
      "0s - loss: 0.2083 - acc: 0.9422 - val_loss: 0.2787 - val_acc: 0.9216\n",
      "Epoch 57/100\n",
      "0s - loss: 0.2061 - acc: 0.9432 - val_loss: 0.2764 - val_acc: 0.9222\n",
      "Epoch 58/100\n",
      "0s - loss: 0.2032 - acc: 0.9442 - val_loss: 0.2742 - val_acc: 0.9210\n",
      "Epoch 59/100\n",
      "0s - loss: 0.2016 - acc: 0.9439 - val_loss: 0.2732 - val_acc: 0.9241\n",
      "Epoch 60/100\n",
      "0s - loss: 0.1991 - acc: 0.9439 - val_loss: 0.2731 - val_acc: 0.9225\n",
      "Epoch 61/100\n",
      "0s - loss: 0.1972 - acc: 0.9466 - val_loss: 0.2706 - val_acc: 0.9219\n",
      "Epoch 62/100\n",
      "0s - loss: 0.1948 - acc: 0.9463 - val_loss: 0.2703 - val_acc: 0.9229\n",
      "Epoch 63/100\n",
      "0s - loss: 0.1927 - acc: 0.9470 - val_loss: 0.2685 - val_acc: 0.9235\n",
      "Epoch 64/100\n",
      "0s - loss: 0.1903 - acc: 0.9484 - val_loss: 0.2687 - val_acc: 0.9238\n",
      "Epoch 65/100\n",
      "0s - loss: 0.1882 - acc: 0.9476 - val_loss: 0.2655 - val_acc: 0.9244\n",
      "Epoch 66/100\n",
      "0s - loss: 0.1865 - acc: 0.9497 - val_loss: 0.2659 - val_acc: 0.9235\n",
      "Epoch 67/100\n",
      "0s - loss: 0.1842 - acc: 0.9490 - val_loss: 0.2631 - val_acc: 0.9267\n",
      "Epoch 68/100\n",
      "0s - loss: 0.1824 - acc: 0.9502 - val_loss: 0.2624 - val_acc: 0.9273\n",
      "Epoch 69/100\n",
      "0s - loss: 0.1804 - acc: 0.9510 - val_loss: 0.2612 - val_acc: 0.9289\n",
      "Epoch 70/100\n",
      "0s - loss: 0.1785 - acc: 0.9514 - val_loss: 0.2590 - val_acc: 0.9273\n",
      "Epoch 71/100\n",
      "0s - loss: 0.1765 - acc: 0.9512 - val_loss: 0.2601 - val_acc: 0.9286\n",
      "Epoch 72/100\n",
      "0s - loss: 0.1746 - acc: 0.9529 - val_loss: 0.2589 - val_acc: 0.9251\n",
      "Epoch 73/100\n",
      "0s - loss: 0.1727 - acc: 0.9531 - val_loss: 0.2577 - val_acc: 0.9276\n",
      "Epoch 74/100\n",
      "0s - loss: 0.1707 - acc: 0.9539 - val_loss: 0.2546 - val_acc: 0.9283\n",
      "Epoch 75/100\n",
      "0s - loss: 0.1687 - acc: 0.9548 - val_loss: 0.2561 - val_acc: 0.9267\n",
      "Epoch 76/100\n",
      "0s - loss: 0.1671 - acc: 0.9558 - val_loss: 0.2532 - val_acc: 0.9279\n",
      "Epoch 77/100\n",
      "0s - loss: 0.1653 - acc: 0.9566 - val_loss: 0.2525 - val_acc: 0.9283\n",
      "Epoch 78/100\n",
      "0s - loss: 0.1634 - acc: 0.9566 - val_loss: 0.2518 - val_acc: 0.9305\n",
      "Epoch 79/100\n",
      "0s - loss: 0.1617 - acc: 0.9580 - val_loss: 0.2513 - val_acc: 0.9289\n",
      "Epoch 80/100\n",
      "0s - loss: 0.1601 - acc: 0.9580 - val_loss: 0.2506 - val_acc: 0.9305\n",
      "Epoch 81/100\n",
      "0s - loss: 0.1584 - acc: 0.9584 - val_loss: 0.2489 - val_acc: 0.9317\n",
      "Epoch 82/100\n",
      "0s - loss: 0.1569 - acc: 0.9583 - val_loss: 0.2481 - val_acc: 0.9314\n",
      "Epoch 83/100\n",
      "0s - loss: 0.1549 - acc: 0.9589 - val_loss: 0.2471 - val_acc: 0.9314\n",
      "Epoch 84/100\n",
      "0s - loss: 0.1530 - acc: 0.9604 - val_loss: 0.2488 - val_acc: 0.9279\n",
      "Epoch 85/100\n",
      "0s - loss: 0.1518 - acc: 0.9602 - val_loss: 0.2459 - val_acc: 0.9292\n",
      "Epoch 86/100\n",
      "0s - loss: 0.1501 - acc: 0.9611 - val_loss: 0.2448 - val_acc: 0.9314\n",
      "Epoch 87/100\n",
      "0s - loss: 0.1481 - acc: 0.9616 - val_loss: 0.2459 - val_acc: 0.9311\n",
      "Epoch 88/100\n",
      "0s - loss: 0.1468 - acc: 0.9622 - val_loss: 0.2443 - val_acc: 0.9298\n",
      "Epoch 89/100\n",
      "0s - loss: 0.1450 - acc: 0.9630 - val_loss: 0.2441 - val_acc: 0.9330\n",
      "Epoch 90/100\n",
      "0s - loss: 0.1437 - acc: 0.9628 - val_loss: 0.2415 - val_acc: 0.9311\n",
      "Epoch 91/100\n",
      "0s - loss: 0.1419 - acc: 0.9637 - val_loss: 0.2414 - val_acc: 0.9333\n",
      "Epoch 92/100\n",
      "0s - loss: 0.1405 - acc: 0.9646 - val_loss: 0.2412 - val_acc: 0.9295\n",
      "Epoch 93/100\n",
      "0s - loss: 0.1392 - acc: 0.9639 - val_loss: 0.2400 - val_acc: 0.9321\n",
      "Epoch 94/100\n",
      "0s - loss: 0.1375 - acc: 0.9648 - val_loss: 0.2397 - val_acc: 0.9324\n",
      "Epoch 95/100\n",
      "0s - loss: 0.1363 - acc: 0.9642 - val_loss: 0.2392 - val_acc: 0.9333\n",
      "Epoch 96/100\n",
      "0s - loss: 0.1346 - acc: 0.9655 - val_loss: 0.2384 - val_acc: 0.9308\n",
      "Epoch 97/100\n",
      "0s - loss: 0.1333 - acc: 0.9660 - val_loss: 0.2383 - val_acc: 0.9337\n",
      "Epoch 98/100\n",
      "0s - loss: 0.1317 - acc: 0.9668 - val_loss: 0.2361 - val_acc: 0.9324\n",
      "Epoch 99/100\n",
      "0s - loss: 0.1302 - acc: 0.9675 - val_loss: 0.2357 - val_acc: 0.9330\n",
      "Epoch 100/100\n",
      "0s - loss: 0.1291 - acc: 0.9675 - val_loss: 0.2353 - val_acc: 0.9324\n"
     ]
    }
   ],
   "source": [
    "model = Sequential()\n",
    "\n",
    "model.add(Dense(800, input_dim=len(X_train[0]), activation=\"relu\", kernel_initializer=\"normal\"))\n",
    "model.add(Dense(70, activation=\"relu\", kernel_initializer=\"normal\"))\n",
    "model.add(Dense(10, activation=\"softmax\", kernel_initializer=\"normal\"))\n",
    "\n",
    "model.compile(loss=\"categorical_crossentropy\", optimizer=\"SGD\", metrics=[\"accuracy\"])\n",
    "\n",
    "history = model.fit(X_train, y_train, batch_size=128,\n",
    "                    epochs=100, validation_data=(X_test, y_test),\n",
    "                    verbose=2, callbacks=[time_callback])"
   ]
  },
  {
   "cell_type": "markdown",
   "metadata": {},
   "source": [
    "### Дропаут"
   ]
  },
  {
   "cell_type": "code",
   "execution_count": 22,
   "metadata": {
    "scrolled": true
   },
   "outputs": [
    {
     "name": "stdout",
     "output_type": "stream",
     "text": [
      "Train on 9450 samples, validate on 3150 samples\n",
      "Epoch 1/100\n",
      "0s - loss: 2.2395 - acc: 0.2106 - val_loss: 2.1631 - val_acc: 0.3806\n",
      "Epoch 2/100\n",
      "0s - loss: 2.0876 - acc: 0.3742 - val_loss: 1.9670 - val_acc: 0.5584\n",
      "Epoch 3/100\n",
      "0s - loss: 1.8602 - acc: 0.5073 - val_loss: 1.6925 - val_acc: 0.6343\n",
      "Epoch 4/100\n",
      "0s - loss: 1.5881 - acc: 0.5927 - val_loss: 1.3985 - val_acc: 0.7048\n",
      "Epoch 5/100\n",
      "0s - loss: 1.3238 - acc: 0.6519 - val_loss: 1.1492 - val_acc: 0.7590\n",
      "Epoch 6/100\n",
      "0s - loss: 1.1447 - acc: 0.6810 - val_loss: 0.9695 - val_acc: 0.8000\n",
      "Epoch 7/100\n",
      "0s - loss: 0.9985 - acc: 0.7178 - val_loss: 0.8426 - val_acc: 0.8165\n",
      "Epoch 8/100\n",
      "0s - loss: 0.9051 - acc: 0.7393 - val_loss: 0.7520 - val_acc: 0.8270\n",
      "Epoch 9/100\n",
      "0s - loss: 0.8193 - acc: 0.7600 - val_loss: 0.6835 - val_acc: 0.8333\n",
      "Epoch 10/100\n",
      "0s - loss: 0.7628 - acc: 0.7722 - val_loss: 0.6324 - val_acc: 0.8394\n",
      "Epoch 11/100\n",
      "0s - loss: 0.7144 - acc: 0.7847 - val_loss: 0.5934 - val_acc: 0.8463\n",
      "Epoch 12/100\n",
      "0s - loss: 0.6738 - acc: 0.8032 - val_loss: 0.5611 - val_acc: 0.8530\n",
      "Epoch 13/100\n",
      "0s - loss: 0.6389 - acc: 0.8090 - val_loss: 0.5320 - val_acc: 0.8629\n",
      "Epoch 14/100\n",
      "0s - loss: 0.6124 - acc: 0.8200 - val_loss: 0.5096 - val_acc: 0.8667\n",
      "Epoch 15/100\n",
      "0s - loss: 0.5942 - acc: 0.8230 - val_loss: 0.4900 - val_acc: 0.8721\n",
      "Epoch 16/100\n",
      "0s - loss: 0.5719 - acc: 0.8296 - val_loss: 0.4739 - val_acc: 0.8749\n",
      "Epoch 17/100\n",
      "0s - loss: 0.5578 - acc: 0.8337 - val_loss: 0.4586 - val_acc: 0.8784\n",
      "Epoch 18/100\n",
      "0s - loss: 0.5454 - acc: 0.8385 - val_loss: 0.4478 - val_acc: 0.8784\n",
      "Epoch 19/100\n",
      "0s - loss: 0.5250 - acc: 0.8444 - val_loss: 0.4360 - val_acc: 0.8810\n",
      "Epoch 20/100\n",
      "0s - loss: 0.5102 - acc: 0.8487 - val_loss: 0.4248 - val_acc: 0.8825\n",
      "Epoch 21/100\n",
      "0s - loss: 0.4929 - acc: 0.8521 - val_loss: 0.4162 - val_acc: 0.8844\n",
      "Epoch 22/100\n",
      "0s - loss: 0.4875 - acc: 0.8547 - val_loss: 0.4078 - val_acc: 0.8873\n",
      "Epoch 23/100\n",
      "0s - loss: 0.4818 - acc: 0.8559 - val_loss: 0.3996 - val_acc: 0.8895\n",
      "Epoch 24/100\n",
      "0s - loss: 0.4689 - acc: 0.8616 - val_loss: 0.3913 - val_acc: 0.8930\n",
      "Epoch 25/100\n",
      "0s - loss: 0.4565 - acc: 0.8657 - val_loss: 0.3848 - val_acc: 0.8930\n",
      "Epoch 26/100\n",
      "0s - loss: 0.4573 - acc: 0.8639 - val_loss: 0.3785 - val_acc: 0.8965\n",
      "Epoch 27/100\n",
      "0s - loss: 0.4388 - acc: 0.8717 - val_loss: 0.3729 - val_acc: 0.9000\n",
      "Epoch 28/100\n",
      "0s - loss: 0.4328 - acc: 0.8728 - val_loss: 0.3666 - val_acc: 0.8981\n",
      "Epoch 29/100\n",
      "0s - loss: 0.4282 - acc: 0.8741 - val_loss: 0.3634 - val_acc: 0.8987\n",
      "Epoch 30/100\n",
      "0s - loss: 0.4117 - acc: 0.8750 - val_loss: 0.3554 - val_acc: 0.9006\n",
      "Epoch 31/100\n",
      "0s - loss: 0.4083 - acc: 0.8775 - val_loss: 0.3534 - val_acc: 0.9013\n",
      "Epoch 32/100\n",
      "0s - loss: 0.4037 - acc: 0.8790 - val_loss: 0.3485 - val_acc: 0.9025\n",
      "Epoch 33/100\n",
      "0s - loss: 0.4004 - acc: 0.8816 - val_loss: 0.3423 - val_acc: 0.9041\n",
      "Epoch 34/100\n",
      "0s - loss: 0.3843 - acc: 0.8863 - val_loss: 0.3384 - val_acc: 0.9060\n",
      "Epoch 35/100\n",
      "0s - loss: 0.3905 - acc: 0.8869 - val_loss: 0.3346 - val_acc: 0.9060\n",
      "Epoch 36/100\n",
      "0s - loss: 0.3821 - acc: 0.8895 - val_loss: 0.3307 - val_acc: 0.9076\n",
      "Epoch 37/100\n",
      "0s - loss: 0.3720 - acc: 0.8927 - val_loss: 0.3280 - val_acc: 0.9079\n",
      "Epoch 38/100\n",
      "0s - loss: 0.3709 - acc: 0.8892 - val_loss: 0.3247 - val_acc: 0.9089\n",
      "Epoch 39/100\n",
      "0s - loss: 0.3646 - acc: 0.8913 - val_loss: 0.3218 - val_acc: 0.9095\n",
      "Epoch 40/100\n",
      "0s - loss: 0.3646 - acc: 0.8933 - val_loss: 0.3188 - val_acc: 0.9114\n",
      "Epoch 41/100\n",
      "0s - loss: 0.3596 - acc: 0.8924 - val_loss: 0.3152 - val_acc: 0.9121\n",
      "Epoch 42/100\n",
      "0s - loss: 0.3514 - acc: 0.8962 - val_loss: 0.3123 - val_acc: 0.9130\n",
      "Epoch 43/100\n",
      "0s - loss: 0.3560 - acc: 0.8947 - val_loss: 0.3105 - val_acc: 0.9133\n",
      "Epoch 44/100\n",
      "0s - loss: 0.3422 - acc: 0.8980 - val_loss: 0.3087 - val_acc: 0.9133\n",
      "Epoch 45/100\n",
      "0s - loss: 0.3486 - acc: 0.8988 - val_loss: 0.3046 - val_acc: 0.9130\n",
      "Epoch 46/100\n",
      "0s - loss: 0.3438 - acc: 0.8992 - val_loss: 0.3019 - val_acc: 0.9159\n",
      "Epoch 47/100\n",
      "0s - loss: 0.3386 - acc: 0.8980 - val_loss: 0.2995 - val_acc: 0.9159\n",
      "Epoch 48/100\n",
      "0s - loss: 0.3330 - acc: 0.8996 - val_loss: 0.2967 - val_acc: 0.9159\n",
      "Epoch 49/100\n",
      "0s - loss: 0.3292 - acc: 0.9038 - val_loss: 0.2949 - val_acc: 0.9165\n",
      "Epoch 50/100\n",
      "0s - loss: 0.3254 - acc: 0.9037 - val_loss: 0.2925 - val_acc: 0.9171\n",
      "Epoch 51/100\n",
      "0s - loss: 0.3203 - acc: 0.9061 - val_loss: 0.2890 - val_acc: 0.9187\n",
      "Epoch 52/100\n",
      "0s - loss: 0.3203 - acc: 0.9030 - val_loss: 0.2885 - val_acc: 0.9187\n",
      "Epoch 53/100\n",
      "0s - loss: 0.3165 - acc: 0.9061 - val_loss: 0.2848 - val_acc: 0.9203\n",
      "Epoch 54/100\n",
      "0s - loss: 0.3100 - acc: 0.9104 - val_loss: 0.2831 - val_acc: 0.9197\n",
      "Epoch 55/100\n",
      "0s - loss: 0.3091 - acc: 0.9083 - val_loss: 0.2808 - val_acc: 0.9213\n",
      "Epoch 56/100\n",
      "0s - loss: 0.3064 - acc: 0.9103 - val_loss: 0.2795 - val_acc: 0.9222\n",
      "Epoch 57/100\n",
      "0s - loss: 0.3098 - acc: 0.9057 - val_loss: 0.2780 - val_acc: 0.9229\n",
      "Epoch 58/100\n",
      "0s - loss: 0.2998 - acc: 0.9112 - val_loss: 0.2757 - val_acc: 0.9244\n",
      "Epoch 59/100\n",
      "0s - loss: 0.3003 - acc: 0.9092 - val_loss: 0.2754 - val_acc: 0.9251\n",
      "Epoch 60/100\n",
      "0s - loss: 0.2962 - acc: 0.9128 - val_loss: 0.2721 - val_acc: 0.9257\n",
      "Epoch 61/100\n",
      "0s - loss: 0.2873 - acc: 0.9141 - val_loss: 0.2697 - val_acc: 0.9251\n",
      "Epoch 62/100\n",
      "0s - loss: 0.2882 - acc: 0.9143 - val_loss: 0.2677 - val_acc: 0.9254\n",
      "Epoch 63/100\n",
      "0s - loss: 0.2825 - acc: 0.9152 - val_loss: 0.2665 - val_acc: 0.9257\n",
      "Epoch 64/100\n",
      "0s - loss: 0.2869 - acc: 0.9129 - val_loss: 0.2659 - val_acc: 0.9254\n",
      "Epoch 65/100\n",
      "0s - loss: 0.2773 - acc: 0.9198 - val_loss: 0.2639 - val_acc: 0.9270\n",
      "Epoch 66/100\n",
      "0s - loss: 0.2750 - acc: 0.9213 - val_loss: 0.2617 - val_acc: 0.9257\n",
      "Epoch 67/100\n",
      "0s - loss: 0.2753 - acc: 0.9199 - val_loss: 0.2593 - val_acc: 0.9279\n",
      "Epoch 68/100\n",
      "0s - loss: 0.2689 - acc: 0.9220 - val_loss: 0.2577 - val_acc: 0.9292\n",
      "Epoch 69/100\n",
      "0s - loss: 0.2735 - acc: 0.9208 - val_loss: 0.2567 - val_acc: 0.9292\n",
      "Epoch 70/100\n",
      "0s - loss: 0.2720 - acc: 0.9203 - val_loss: 0.2554 - val_acc: 0.9302\n",
      "Epoch 71/100\n",
      "0s - loss: 0.2654 - acc: 0.9222 - val_loss: 0.2541 - val_acc: 0.9295\n",
      "Epoch 72/100\n",
      "0s - loss: 0.2632 - acc: 0.9226 - val_loss: 0.2528 - val_acc: 0.9305\n",
      "Epoch 73/100\n",
      "0s - loss: 0.2607 - acc: 0.9250 - val_loss: 0.2507 - val_acc: 0.9305\n",
      "Epoch 74/100\n",
      "0s - loss: 0.2597 - acc: 0.9219 - val_loss: 0.2489 - val_acc: 0.9311\n",
      "Epoch 75/100\n",
      "0s - loss: 0.2519 - acc: 0.9267 - val_loss: 0.2481 - val_acc: 0.9311\n",
      "Epoch 76/100\n",
      "0s - loss: 0.2562 - acc: 0.9243 - val_loss: 0.2473 - val_acc: 0.9295\n",
      "Epoch 77/100\n",
      "0s - loss: 0.2500 - acc: 0.9262 - val_loss: 0.2455 - val_acc: 0.9321\n",
      "Epoch 78/100\n",
      "0s - loss: 0.2441 - acc: 0.9287 - val_loss: 0.2438 - val_acc: 0.9311\n",
      "Epoch 79/100\n",
      "0s - loss: 0.2434 - acc: 0.9258 - val_loss: 0.2425 - val_acc: 0.9314\n",
      "Epoch 80/100\n",
      "0s - loss: 0.2427 - acc: 0.9267 - val_loss: 0.2414 - val_acc: 0.9327\n",
      "Epoch 81/100\n",
      "0s - loss: 0.2402 - acc: 0.9272 - val_loss: 0.2411 - val_acc: 0.9321\n",
      "Epoch 82/100\n",
      "0s - loss: 0.2383 - acc: 0.9295 - val_loss: 0.2392 - val_acc: 0.9333\n",
      "Epoch 83/100\n",
      "0s - loss: 0.2416 - acc: 0.9288 - val_loss: 0.2375 - val_acc: 0.9349\n",
      "Epoch 84/100\n",
      "0s - loss: 0.2422 - acc: 0.9283 - val_loss: 0.2371 - val_acc: 0.9337\n",
      "Epoch 85/100\n",
      "0s - loss: 0.2350 - acc: 0.9279 - val_loss: 0.2361 - val_acc: 0.9349\n",
      "Epoch 86/100\n",
      "0s - loss: 0.2321 - acc: 0.9296 - val_loss: 0.2346 - val_acc: 0.9352\n",
      "Epoch 87/100\n",
      "0s - loss: 0.2270 - acc: 0.9325 - val_loss: 0.2329 - val_acc: 0.9346\n",
      "Epoch 88/100\n",
      "0s - loss: 0.2275 - acc: 0.9325 - val_loss: 0.2319 - val_acc: 0.9346\n",
      "Epoch 89/100\n",
      "0s - loss: 0.2234 - acc: 0.9328 - val_loss: 0.2314 - val_acc: 0.9356\n",
      "Epoch 90/100\n",
      "0s - loss: 0.2287 - acc: 0.9317 - val_loss: 0.2302 - val_acc: 0.9349\n",
      "Epoch 91/100\n",
      "0s - loss: 0.2240 - acc: 0.9332 - val_loss: 0.2288 - val_acc: 0.9349\n",
      "Epoch 92/100\n",
      "0s - loss: 0.2181 - acc: 0.9353 - val_loss: 0.2276 - val_acc: 0.9356\n",
      "Epoch 93/100\n",
      "0s - loss: 0.2223 - acc: 0.9328 - val_loss: 0.2263 - val_acc: 0.9362\n",
      "Epoch 94/100\n",
      "0s - loss: 0.2186 - acc: 0.9350 - val_loss: 0.2247 - val_acc: 0.9359\n",
      "Epoch 95/100\n",
      "0s - loss: 0.2126 - acc: 0.9369 - val_loss: 0.2239 - val_acc: 0.9365\n",
      "Epoch 96/100\n",
      "0s - loss: 0.2111 - acc: 0.9367 - val_loss: 0.2236 - val_acc: 0.9368\n",
      "Epoch 97/100\n",
      "0s - loss: 0.2158 - acc: 0.9348 - val_loss: 0.2225 - val_acc: 0.9375\n",
      "Epoch 98/100\n",
      "0s - loss: 0.2126 - acc: 0.9371 - val_loss: 0.2207 - val_acc: 0.9375\n",
      "Epoch 99/100\n",
      "0s - loss: 0.2116 - acc: 0.9375 - val_loss: 0.2201 - val_acc: 0.9375\n",
      "Epoch 100/100\n",
      "0s - loss: 0.2073 - acc: 0.9393 - val_loss: 0.2200 - val_acc: 0.9371\n"
     ]
    }
   ],
   "source": [
    "model = Sequential()\n",
    "\n",
    "model.add(Dense(800, input_dim=len(X_train[0]), activation=\"relu\", kernel_initializer=\"normal\"))\n",
    "model.add(Dropout(rate=0.25, seed=1))\n",
    "model.add(Dense(70, activation=\"relu\", kernel_initializer=\"normal\"))\n",
    "model.add(Dropout(rate=0.25, seed=2))\n",
    "model.add(Dense(10, activation=\"softmax\", kernel_initializer=\"normal\"))\n",
    "\n",
    "model.compile(loss=\"categorical_crossentropy\", optimizer=\"SGD\", metrics=[\"accuracy\"])\n",
    "\n",
    "history = model.fit(X_train, y_train, batch_size=128,\n",
    "                    epochs=100, validation_data=(X_test, y_test),\n",
    "                    verbose=2, callbacks=[time_callback])"
   ]
  },
  {
   "cell_type": "markdown",
   "metadata": {},
   "source": [
    "### Попробуем не сужать сетку "
   ]
  },
  {
   "cell_type": "code",
   "execution_count": 23,
   "metadata": {
    "scrolled": true
   },
   "outputs": [
    {
     "name": "stdout",
     "output_type": "stream",
     "text": [
      "Train on 9450 samples, validate on 3150 samples\n",
      "Epoch 1/100\n",
      "0s - loss: 2.2135 - acc: 0.2104 - val_loss: 2.0154 - val_acc: 0.5565\n",
      "Epoch 2/100\n",
      "0s - loss: 1.9201 - acc: 0.4392 - val_loss: 1.6342 - val_acc: 0.7365\n",
      "Epoch 3/100\n",
      "0s - loss: 1.5528 - acc: 0.5964 - val_loss: 1.1968 - val_acc: 0.7933\n",
      "Epoch 4/100\n",
      "0s - loss: 1.1949 - acc: 0.6807 - val_loss: 0.8696 - val_acc: 0.8222\n",
      "Epoch 5/100\n",
      "0s - loss: 0.9538 - acc: 0.7316 - val_loss: 0.6891 - val_acc: 0.8425\n",
      "Epoch 6/100\n",
      "0s - loss: 0.8045 - acc: 0.7676 - val_loss: 0.5947 - val_acc: 0.8457\n",
      "Epoch 7/100\n",
      "0s - loss: 0.7242 - acc: 0.7800 - val_loss: 0.5363 - val_acc: 0.8505\n",
      "Epoch 8/100\n",
      "0s - loss: 0.6623 - acc: 0.7980 - val_loss: 0.4909 - val_acc: 0.8632\n",
      "Epoch 9/100\n",
      "0s - loss: 0.6146 - acc: 0.8104 - val_loss: 0.4617 - val_acc: 0.8702\n",
      "Epoch 10/100\n",
      "0s - loss: 0.5814 - acc: 0.8220 - val_loss: 0.4402 - val_acc: 0.8740\n",
      "Epoch 11/100\n",
      "0s - loss: 0.5465 - acc: 0.8366 - val_loss: 0.4194 - val_acc: 0.8803\n",
      "Epoch 12/100\n",
      "0s - loss: 0.5194 - acc: 0.8394 - val_loss: 0.4045 - val_acc: 0.8841\n",
      "Epoch 13/100\n",
      "0s - loss: 0.5008 - acc: 0.8483 - val_loss: 0.3926 - val_acc: 0.8876\n",
      "Epoch 14/100\n",
      "0s - loss: 0.4884 - acc: 0.8516 - val_loss: 0.3789 - val_acc: 0.8911\n",
      "Epoch 15/100\n",
      "0s - loss: 0.4724 - acc: 0.8567 - val_loss: 0.3707 - val_acc: 0.8956\n",
      "Epoch 16/100\n",
      "0s - loss: 0.4616 - acc: 0.8628 - val_loss: 0.3639 - val_acc: 0.8946\n",
      "Epoch 17/100\n",
      "0s - loss: 0.4403 - acc: 0.8678 - val_loss: 0.3532 - val_acc: 0.8987\n",
      "Epoch 18/100\n",
      "0s - loss: 0.4263 - acc: 0.8738 - val_loss: 0.3451 - val_acc: 0.9016\n",
      "Epoch 19/100\n",
      "0s - loss: 0.4196 - acc: 0.8750 - val_loss: 0.3387 - val_acc: 0.9060\n",
      "Epoch 20/100\n",
      "0s - loss: 0.4018 - acc: 0.8801 - val_loss: 0.3350 - val_acc: 0.9044\n",
      "Epoch 21/100\n",
      "0s - loss: 0.3992 - acc: 0.8796 - val_loss: 0.3314 - val_acc: 0.9038\n",
      "Epoch 22/100\n",
      "0s - loss: 0.3938 - acc: 0.8813 - val_loss: 0.3226 - val_acc: 0.9079\n",
      "Epoch 23/100\n",
      "0s - loss: 0.3755 - acc: 0.8854 - val_loss: 0.3197 - val_acc: 0.9092\n",
      "Epoch 24/100\n",
      "0s - loss: 0.3762 - acc: 0.8868 - val_loss: 0.3167 - val_acc: 0.9063\n",
      "Epoch 25/100\n",
      "0s - loss: 0.3634 - acc: 0.8931 - val_loss: 0.3096 - val_acc: 0.9105\n",
      "Epoch 26/100\n",
      "0s - loss: 0.3599 - acc: 0.8967 - val_loss: 0.3045 - val_acc: 0.9114\n",
      "Epoch 27/100\n",
      "0s - loss: 0.3558 - acc: 0.8937 - val_loss: 0.3036 - val_acc: 0.9127\n",
      "Epoch 28/100\n",
      "0s - loss: 0.3457 - acc: 0.8968 - val_loss: 0.2991 - val_acc: 0.9127\n",
      "Epoch 29/100\n",
      "0s - loss: 0.3319 - acc: 0.8988 - val_loss: 0.2954 - val_acc: 0.9146\n",
      "Epoch 30/100\n",
      "0s - loss: 0.3365 - acc: 0.8988 - val_loss: 0.2896 - val_acc: 0.9168\n",
      "Epoch 31/100\n",
      "0s - loss: 0.3287 - acc: 0.9038 - val_loss: 0.2879 - val_acc: 0.9159\n",
      "Epoch 32/100\n",
      "0s - loss: 0.3193 - acc: 0.9085 - val_loss: 0.2851 - val_acc: 0.9181\n",
      "Epoch 33/100\n",
      "0s - loss: 0.3172 - acc: 0.9048 - val_loss: 0.2819 - val_acc: 0.9187\n",
      "Epoch 34/100\n",
      "0s - loss: 0.3036 - acc: 0.9091 - val_loss: 0.2782 - val_acc: 0.9190\n",
      "Epoch 35/100\n",
      "0s - loss: 0.3076 - acc: 0.9079 - val_loss: 0.2764 - val_acc: 0.9175\n",
      "Epoch 36/100\n",
      "0s - loss: 0.3035 - acc: 0.9063 - val_loss: 0.2741 - val_acc: 0.9184\n",
      "Epoch 37/100\n",
      "0s - loss: 0.2941 - acc: 0.9126 - val_loss: 0.2706 - val_acc: 0.9210\n",
      "Epoch 38/100\n",
      "0s - loss: 0.2952 - acc: 0.9108 - val_loss: 0.2652 - val_acc: 0.9229\n",
      "Epoch 39/100\n",
      "0s - loss: 0.2916 - acc: 0.9128 - val_loss: 0.2635 - val_acc: 0.9229\n",
      "Epoch 40/100\n",
      "0s - loss: 0.2844 - acc: 0.9152 - val_loss: 0.2631 - val_acc: 0.9219\n",
      "Epoch 41/100\n",
      "0s - loss: 0.2823 - acc: 0.9153 - val_loss: 0.2603 - val_acc: 0.9241\n",
      "Epoch 42/100\n",
      "0s - loss: 0.2787 - acc: 0.9176 - val_loss: 0.2580 - val_acc: 0.9254\n",
      "Epoch 43/100\n",
      "0s - loss: 0.2743 - acc: 0.9163 - val_loss: 0.2561 - val_acc: 0.9260\n",
      "Epoch 44/100\n",
      "0s - loss: 0.2670 - acc: 0.9182 - val_loss: 0.2535 - val_acc: 0.9260\n",
      "Epoch 45/100\n",
      "0s - loss: 0.2656 - acc: 0.9216 - val_loss: 0.2527 - val_acc: 0.9260\n",
      "Epoch 46/100\n",
      "0s - loss: 0.2573 - acc: 0.9233 - val_loss: 0.2495 - val_acc: 0.9283\n",
      "Epoch 47/100\n",
      "0s - loss: 0.2617 - acc: 0.9223 - val_loss: 0.2461 - val_acc: 0.9308\n",
      "Epoch 48/100\n",
      "0s - loss: 0.2544 - acc: 0.9251 - val_loss: 0.2449 - val_acc: 0.9295\n",
      "Epoch 49/100\n",
      "0s - loss: 0.2482 - acc: 0.9248 - val_loss: 0.2431 - val_acc: 0.9305\n",
      "Epoch 50/100\n",
      "0s - loss: 0.2478 - acc: 0.9266 - val_loss: 0.2419 - val_acc: 0.9308\n",
      "Epoch 51/100\n",
      "0s - loss: 0.2386 - acc: 0.9268 - val_loss: 0.2394 - val_acc: 0.9337\n",
      "Epoch 52/100\n",
      "0s - loss: 0.2433 - acc: 0.9248 - val_loss: 0.2376 - val_acc: 0.9317\n",
      "Epoch 53/100\n",
      "0s - loss: 0.2340 - acc: 0.9296 - val_loss: 0.2363 - val_acc: 0.9333\n",
      "Epoch 54/100\n",
      "0s - loss: 0.2363 - acc: 0.9276 - val_loss: 0.2338 - val_acc: 0.9346\n",
      "Epoch 55/100\n",
      "0s - loss: 0.2371 - acc: 0.9290 - val_loss: 0.2346 - val_acc: 0.9330\n",
      "Epoch 56/100\n",
      "0s - loss: 0.2324 - acc: 0.9317 - val_loss: 0.2303 - val_acc: 0.9337\n",
      "Epoch 57/100\n",
      "0s - loss: 0.2275 - acc: 0.9312 - val_loss: 0.2300 - val_acc: 0.9359\n",
      "Epoch 58/100\n",
      "0s - loss: 0.2259 - acc: 0.9320 - val_loss: 0.2291 - val_acc: 0.9337\n",
      "Epoch 59/100\n",
      "0s - loss: 0.2204 - acc: 0.9345 - val_loss: 0.2275 - val_acc: 0.9365\n",
      "Epoch 60/100\n",
      "0s - loss: 0.2137 - acc: 0.9361 - val_loss: 0.2258 - val_acc: 0.9375\n",
      "Epoch 61/100\n",
      "0s - loss: 0.2114 - acc: 0.9371 - val_loss: 0.2233 - val_acc: 0.9371\n",
      "Epoch 62/100\n",
      "0s - loss: 0.2084 - acc: 0.9383 - val_loss: 0.2221 - val_acc: 0.9375\n",
      "Epoch 63/100\n",
      "0s - loss: 0.2067 - acc: 0.9372 - val_loss: 0.2202 - val_acc: 0.9365\n",
      "Epoch 64/100\n",
      "0s - loss: 0.2092 - acc: 0.9374 - val_loss: 0.2189 - val_acc: 0.9378\n",
      "Epoch 65/100\n",
      "0s - loss: 0.2053 - acc: 0.9388 - val_loss: 0.2194 - val_acc: 0.9394\n",
      "Epoch 66/100\n",
      "0s - loss: 0.2013 - acc: 0.9381 - val_loss: 0.2170 - val_acc: 0.9365\n",
      "Epoch 67/100\n",
      "0s - loss: 0.2008 - acc: 0.9366 - val_loss: 0.2168 - val_acc: 0.9394\n",
      "Epoch 68/100\n",
      "0s - loss: 0.1920 - acc: 0.9440 - val_loss: 0.2154 - val_acc: 0.9390\n",
      "Epoch 69/100\n",
      "0s - loss: 0.1943 - acc: 0.9407 - val_loss: 0.2132 - val_acc: 0.9413\n",
      "Epoch 70/100\n",
      "0s - loss: 0.1899 - acc: 0.9420 - val_loss: 0.2117 - val_acc: 0.9397\n",
      "Epoch 71/100\n",
      "0s - loss: 0.1924 - acc: 0.9386 - val_loss: 0.2118 - val_acc: 0.9394\n",
      "Epoch 72/100\n",
      "0s - loss: 0.1878 - acc: 0.9443 - val_loss: 0.2113 - val_acc: 0.9400\n",
      "Epoch 73/100\n",
      "0s - loss: 0.1852 - acc: 0.9439 - val_loss: 0.2094 - val_acc: 0.9406\n",
      "Epoch 74/100\n",
      "0s - loss: 0.1809 - acc: 0.9439 - val_loss: 0.2088 - val_acc: 0.9403\n",
      "Epoch 75/100\n",
      "0s - loss: 0.1819 - acc: 0.9454 - val_loss: 0.2077 - val_acc: 0.9410\n",
      "Epoch 76/100\n",
      "0s - loss: 0.1836 - acc: 0.9439 - val_loss: 0.2064 - val_acc: 0.9410\n",
      "Epoch 77/100\n",
      "0s - loss: 0.1801 - acc: 0.9461 - val_loss: 0.2054 - val_acc: 0.9410\n",
      "Epoch 78/100\n",
      "0s - loss: 0.1757 - acc: 0.9471 - val_loss: 0.2043 - val_acc: 0.9419\n",
      "Epoch 79/100\n",
      "0s - loss: 0.1715 - acc: 0.9484 - val_loss: 0.2024 - val_acc: 0.9416\n",
      "Epoch 80/100\n",
      "0s - loss: 0.1758 - acc: 0.9442 - val_loss: 0.2036 - val_acc: 0.9419\n",
      "Epoch 81/100\n",
      "0s - loss: 0.1705 - acc: 0.9484 - val_loss: 0.2026 - val_acc: 0.9416\n",
      "Epoch 82/100\n",
      "0s - loss: 0.1686 - acc: 0.9494 - val_loss: 0.2013 - val_acc: 0.9425\n",
      "Epoch 83/100\n",
      "0s - loss: 0.1632 - acc: 0.9484 - val_loss: 0.2009 - val_acc: 0.9429\n",
      "Epoch 84/100\n",
      "0s - loss: 0.1701 - acc: 0.9470 - val_loss: 0.1980 - val_acc: 0.9429\n",
      "Epoch 85/100\n",
      "0s - loss: 0.1662 - acc: 0.9495 - val_loss: 0.1979 - val_acc: 0.9435\n",
      "Epoch 86/100\n",
      "0s - loss: 0.1586 - acc: 0.9496 - val_loss: 0.1978 - val_acc: 0.9441\n",
      "Epoch 87/100\n",
      "0s - loss: 0.1555 - acc: 0.9512 - val_loss: 0.1975 - val_acc: 0.9438\n",
      "Epoch 88/100\n",
      "0s - loss: 0.1599 - acc: 0.9513 - val_loss: 0.1983 - val_acc: 0.9438\n",
      "Epoch 89/100\n",
      "0s - loss: 0.1604 - acc: 0.9502 - val_loss: 0.1950 - val_acc: 0.9441\n",
      "Epoch 90/100\n",
      "0s - loss: 0.1530 - acc: 0.9533 - val_loss: 0.1936 - val_acc: 0.9444\n",
      "Epoch 91/100\n",
      "0s - loss: 0.1527 - acc: 0.9542 - val_loss: 0.1948 - val_acc: 0.9460\n",
      "Epoch 92/100\n",
      "0s - loss: 0.1512 - acc: 0.9540 - val_loss: 0.1915 - val_acc: 0.9454\n",
      "Epoch 93/100\n",
      "0s - loss: 0.1476 - acc: 0.9535 - val_loss: 0.1916 - val_acc: 0.9451\n",
      "Epoch 94/100\n",
      "0s - loss: 0.1464 - acc: 0.9540 - val_loss: 0.1910 - val_acc: 0.9444\n",
      "Epoch 95/100\n",
      "0s - loss: 0.1424 - acc: 0.9577 - val_loss: 0.1913 - val_acc: 0.9470\n",
      "Epoch 96/100\n",
      "0s - loss: 0.1476 - acc: 0.9546 - val_loss: 0.1910 - val_acc: 0.9441\n",
      "Epoch 97/100\n",
      "0s - loss: 0.1438 - acc: 0.9558 - val_loss: 0.1912 - val_acc: 0.9448\n",
      "Epoch 98/100\n",
      "0s - loss: 0.1386 - acc: 0.9585 - val_loss: 0.1903 - val_acc: 0.9473\n",
      "Epoch 99/100\n",
      "0s - loss: 0.1391 - acc: 0.9586 - val_loss: 0.1908 - val_acc: 0.9454\n",
      "Epoch 100/100\n",
      "0s - loss: 0.1411 - acc: 0.9556 - val_loss: 0.1876 - val_acc: 0.9467\n"
     ]
    }
   ],
   "source": [
    "model = Sequential()\n",
    "\n",
    "model.add(Dense(500, input_dim=len(X_train[0]), activation=\"relu\", kernel_initializer=\"normal\"))\n",
    "model.add(Dropout(rate=0.25, seed=1))\n",
    "model.add(Dense(500, activation=\"relu\", kernel_initializer=\"normal\"))\n",
    "model.add(Dropout(rate=0.25, seed=2))\n",
    "model.add(Dense(500, activation=\"relu\", kernel_initializer=\"normal\"))\n",
    "model.add(Dropout(rate=0.25, seed=2))\n",
    "model.add(Dense(10, activation=\"softmax\", kernel_initializer=\"normal\"))\n",
    "\n",
    "model.compile(loss=\"categorical_crossentropy\", optimizer=\"SGD\", metrics=[\"accuracy\"])\n",
    "\n",
    "history = model.fit(X_train, y_train, batch_size=128,\n",
    "                    epochs=100, validation_data=(X_test, y_test),\n",
    "                    verbose=2, callbacks=[time_callback])"
   ]
  },
  {
   "cell_type": "markdown",
   "metadata": {},
   "source": [
    "### Больше слоев!!!"
   ]
  },
  {
   "cell_type": "code",
   "execution_count": 26,
   "metadata": {
    "scrolled": true
   },
   "outputs": [
    {
     "name": "stdout",
     "output_type": "stream",
     "text": [
      "Train on 9450 samples, validate on 3150 samples\n",
      "Epoch 1/100\n",
      "0s - loss: 2.3193 - acc: 0.1304 - val_loss: 2.1431 - val_acc: 0.3984\n",
      "Epoch 2/100\n",
      "0s - loss: 2.1774 - acc: 0.2180 - val_loss: 1.9053 - val_acc: 0.5714\n",
      "Epoch 3/100\n",
      "0s - loss: 1.9418 - acc: 0.3471 - val_loss: 1.4520 - val_acc: 0.6311\n",
      "Epoch 4/100\n",
      "0s - loss: 1.5557 - acc: 0.4728 - val_loss: 0.9966 - val_acc: 0.7305\n",
      "Epoch 5/100\n",
      "0s - loss: 1.2435 - acc: 0.5671 - val_loss: 0.7808 - val_acc: 0.7641\n",
      "Epoch 6/100\n",
      "0s - loss: 1.0531 - acc: 0.6241 - val_loss: 0.6633 - val_acc: 0.8025\n",
      "Epoch 7/100\n",
      "0s - loss: 0.9199 - acc: 0.6803 - val_loss: 0.5884 - val_acc: 0.8143\n",
      "Epoch 8/100\n",
      "0s - loss: 0.8253 - acc: 0.7175 - val_loss: 0.5257 - val_acc: 0.8352\n",
      "Epoch 9/100\n",
      "0s - loss: 0.7569 - acc: 0.7451 - val_loss: 0.4888 - val_acc: 0.8486\n",
      "Epoch 10/100\n",
      "0s - loss: 0.6916 - acc: 0.7709 - val_loss: 0.4527 - val_acc: 0.8616\n",
      "Epoch 11/100\n",
      "0s - loss: 0.6275 - acc: 0.7939 - val_loss: 0.4226 - val_acc: 0.8711\n",
      "Epoch 12/100\n",
      "0s - loss: 0.6106 - acc: 0.8008 - val_loss: 0.4144 - val_acc: 0.8711\n",
      "Epoch 13/100\n",
      "0s - loss: 0.5715 - acc: 0.8166 - val_loss: 0.3846 - val_acc: 0.8806\n",
      "Epoch 14/100\n",
      "0s - loss: 0.5454 - acc: 0.8242 - val_loss: 0.3757 - val_acc: 0.8829\n",
      "Epoch 15/100\n",
      "0s - loss: 0.5254 - acc: 0.8290 - val_loss: 0.3597 - val_acc: 0.8908\n",
      "Epoch 16/100\n",
      "0s - loss: 0.5012 - acc: 0.8423 - val_loss: 0.3468 - val_acc: 0.8946\n",
      "Epoch 17/100\n",
      "0s - loss: 0.4815 - acc: 0.8479 - val_loss: 0.3352 - val_acc: 0.8981\n",
      "Epoch 18/100\n",
      "0s - loss: 0.4721 - acc: 0.8547 - val_loss: 0.3283 - val_acc: 0.8946\n",
      "Epoch 19/100\n",
      "0s - loss: 0.4536 - acc: 0.8562 - val_loss: 0.3199 - val_acc: 0.9035\n",
      "Epoch 20/100\n",
      "0s - loss: 0.4382 - acc: 0.8632 - val_loss: 0.3110 - val_acc: 0.9063\n",
      "Epoch 21/100\n",
      "0s - loss: 0.4271 - acc: 0.8649 - val_loss: 0.3023 - val_acc: 0.9105\n",
      "Epoch 22/100\n",
      "0s - loss: 0.4102 - acc: 0.8726 - val_loss: 0.2966 - val_acc: 0.9114\n",
      "Epoch 23/100\n",
      "0s - loss: 0.3879 - acc: 0.8759 - val_loss: 0.2927 - val_acc: 0.9114\n",
      "Epoch 24/100\n",
      "0s - loss: 0.3866 - acc: 0.8824 - val_loss: 0.2832 - val_acc: 0.9162\n",
      "Epoch 25/100\n",
      "0s - loss: 0.3742 - acc: 0.8831 - val_loss: 0.2815 - val_acc: 0.9168\n",
      "Epoch 26/100\n",
      "0s - loss: 0.3655 - acc: 0.8883 - val_loss: 0.2743 - val_acc: 0.9187\n",
      "Epoch 27/100\n",
      "0s - loss: 0.3571 - acc: 0.8844 - val_loss: 0.2699 - val_acc: 0.9203\n",
      "Epoch 28/100\n",
      "0s - loss: 0.3443 - acc: 0.8924 - val_loss: 0.2645 - val_acc: 0.9206\n",
      "Epoch 29/100\n",
      "0s - loss: 0.3382 - acc: 0.8960 - val_loss: 0.2599 - val_acc: 0.9222\n",
      "Epoch 30/100\n",
      "0s - loss: 0.3256 - acc: 0.9004 - val_loss: 0.2572 - val_acc: 0.9241\n",
      "Epoch 31/100\n",
      "0s - loss: 0.3302 - acc: 0.8967 - val_loss: 0.2559 - val_acc: 0.9229\n",
      "Epoch 32/100\n",
      "0s - loss: 0.3174 - acc: 0.9030 - val_loss: 0.2500 - val_acc: 0.9260\n",
      "Epoch 33/100\n",
      "0s - loss: 0.3040 - acc: 0.9077 - val_loss: 0.2477 - val_acc: 0.9276\n",
      "Epoch 34/100\n",
      "0s - loss: 0.2996 - acc: 0.9079 - val_loss: 0.2402 - val_acc: 0.9270\n",
      "Epoch 35/100\n",
      "0s - loss: 0.2913 - acc: 0.9098 - val_loss: 0.2383 - val_acc: 0.9292\n",
      "Epoch 36/100\n",
      "0s - loss: 0.2812 - acc: 0.9116 - val_loss: 0.2356 - val_acc: 0.9298\n",
      "Epoch 37/100\n",
      "0s - loss: 0.2808 - acc: 0.9122 - val_loss: 0.2329 - val_acc: 0.9308\n",
      "Epoch 38/100\n",
      "0s - loss: 0.2787 - acc: 0.9142 - val_loss: 0.2294 - val_acc: 0.9321\n",
      "Epoch 39/100\n",
      "0s - loss: 0.2663 - acc: 0.9172 - val_loss: 0.2309 - val_acc: 0.9305\n",
      "Epoch 40/100\n",
      "0s - loss: 0.2614 - acc: 0.9167 - val_loss: 0.2269 - val_acc: 0.9321\n",
      "Epoch 41/100\n",
      "0s - loss: 0.2572 - acc: 0.9196 - val_loss: 0.2225 - val_acc: 0.9343\n",
      "Epoch 42/100\n",
      "0s - loss: 0.2500 - acc: 0.9210 - val_loss: 0.2241 - val_acc: 0.9330\n",
      "Epoch 43/100\n",
      "0s - loss: 0.2477 - acc: 0.9223 - val_loss: 0.2217 - val_acc: 0.9371\n",
      "Epoch 44/100\n",
      "0s - loss: 0.2352 - acc: 0.9279 - val_loss: 0.2180 - val_acc: 0.9384\n",
      "Epoch 45/100\n",
      "0s - loss: 0.2346 - acc: 0.9261 - val_loss: 0.2154 - val_acc: 0.9371\n",
      "Epoch 46/100\n",
      "0s - loss: 0.2292 - acc: 0.9302 - val_loss: 0.2132 - val_acc: 0.9378\n",
      "Epoch 47/100\n",
      "0s - loss: 0.2247 - acc: 0.9331 - val_loss: 0.2114 - val_acc: 0.9387\n",
      "Epoch 48/100\n",
      "0s - loss: 0.2272 - acc: 0.9272 - val_loss: 0.2094 - val_acc: 0.9406\n",
      "Epoch 49/100\n",
      "0s - loss: 0.2204 - acc: 0.9305 - val_loss: 0.2123 - val_acc: 0.9390\n",
      "Epoch 50/100\n",
      "0s - loss: 0.2146 - acc: 0.9324 - val_loss: 0.2076 - val_acc: 0.9400\n",
      "Epoch 51/100\n",
      "0s - loss: 0.2154 - acc: 0.9331 - val_loss: 0.2031 - val_acc: 0.9429\n",
      "Epoch 52/100\n",
      "0s - loss: 0.2040 - acc: 0.9361 - val_loss: 0.2036 - val_acc: 0.9429\n",
      "Epoch 53/100\n",
      "0s - loss: 0.2019 - acc: 0.9400 - val_loss: 0.2044 - val_acc: 0.9422\n",
      "Epoch 54/100\n",
      "0s - loss: 0.1977 - acc: 0.9398 - val_loss: 0.2013 - val_acc: 0.9444\n",
      "Epoch 55/100\n",
      "0s - loss: 0.1909 - acc: 0.9425 - val_loss: 0.2032 - val_acc: 0.9451\n",
      "Epoch 56/100\n",
      "0s - loss: 0.1907 - acc: 0.9422 - val_loss: 0.2004 - val_acc: 0.9451\n",
      "Epoch 57/100\n",
      "0s - loss: 0.1836 - acc: 0.9436 - val_loss: 0.1978 - val_acc: 0.9460\n",
      "Epoch 58/100\n",
      "0s - loss: 0.1894 - acc: 0.9417 - val_loss: 0.1989 - val_acc: 0.9444\n",
      "Epoch 59/100\n",
      "0s - loss: 0.1912 - acc: 0.9381 - val_loss: 0.1957 - val_acc: 0.9457\n",
      "Epoch 60/100\n",
      "0s - loss: 0.1753 - acc: 0.9443 - val_loss: 0.1943 - val_acc: 0.9476\n",
      "Epoch 61/100\n",
      "0s - loss: 0.1803 - acc: 0.9416 - val_loss: 0.1948 - val_acc: 0.9457\n",
      "Epoch 62/100\n",
      "0s - loss: 0.1769 - acc: 0.9432 - val_loss: 0.1962 - val_acc: 0.9463\n",
      "Epoch 63/100\n",
      "0s - loss: 0.1665 - acc: 0.9468 - val_loss: 0.1950 - val_acc: 0.9463\n",
      "Epoch 64/100\n",
      "0s - loss: 0.1641 - acc: 0.9471 - val_loss: 0.1929 - val_acc: 0.9479\n",
      "Epoch 65/100\n",
      "0s - loss: 0.1585 - acc: 0.9486 - val_loss: 0.1933 - val_acc: 0.9476\n",
      "Epoch 66/100\n",
      "0s - loss: 0.1616 - acc: 0.9472 - val_loss: 0.1919 - val_acc: 0.9479\n",
      "Epoch 67/100\n",
      "0s - loss: 0.1569 - acc: 0.9471 - val_loss: 0.1898 - val_acc: 0.9476\n",
      "Epoch 68/100\n",
      "0s - loss: 0.1576 - acc: 0.9498 - val_loss: 0.1893 - val_acc: 0.9483\n",
      "Epoch 69/100\n",
      "0s - loss: 0.1522 - acc: 0.9511 - val_loss: 0.1892 - val_acc: 0.9498\n",
      "Epoch 70/100\n",
      "0s - loss: 0.1524 - acc: 0.9497 - val_loss: 0.1868 - val_acc: 0.9479\n",
      "Epoch 71/100\n",
      "0s - loss: 0.1477 - acc: 0.9538 - val_loss: 0.1914 - val_acc: 0.9486\n",
      "Epoch 72/100\n",
      "0s - loss: 0.1470 - acc: 0.9533 - val_loss: 0.1863 - val_acc: 0.9489\n",
      "Epoch 73/100\n",
      "0s - loss: 0.1394 - acc: 0.9539 - val_loss: 0.1867 - val_acc: 0.9492\n",
      "Epoch 74/100\n",
      "0s - loss: 0.1390 - acc: 0.9581 - val_loss: 0.1899 - val_acc: 0.9486\n",
      "Epoch 75/100\n",
      "0s - loss: 0.1395 - acc: 0.9559 - val_loss: 0.1890 - val_acc: 0.9483\n",
      "Epoch 76/100\n",
      "0s - loss: 0.1343 - acc: 0.9595 - val_loss: 0.1903 - val_acc: 0.9495\n",
      "Epoch 77/100\n",
      "0s - loss: 0.1354 - acc: 0.9534 - val_loss: 0.1861 - val_acc: 0.9502\n",
      "Epoch 78/100\n",
      "0s - loss: 0.1380 - acc: 0.9554 - val_loss: 0.1848 - val_acc: 0.9502\n",
      "Epoch 79/100\n",
      "0s - loss: 0.1260 - acc: 0.9606 - val_loss: 0.1869 - val_acc: 0.9505\n",
      "Epoch 80/100\n",
      "0s - loss: 0.1256 - acc: 0.9600 - val_loss: 0.1858 - val_acc: 0.9502\n",
      "Epoch 81/100\n",
      "0s - loss: 0.1222 - acc: 0.9625 - val_loss: 0.1863 - val_acc: 0.9514\n",
      "Epoch 82/100\n",
      "0s - loss: 0.1227 - acc: 0.9608 - val_loss: 0.1870 - val_acc: 0.9502\n",
      "Epoch 83/100\n",
      "0s - loss: 0.1212 - acc: 0.9608 - val_loss: 0.1835 - val_acc: 0.9505\n",
      "Epoch 84/100\n",
      "0s - loss: 0.1189 - acc: 0.9623 - val_loss: 0.1876 - val_acc: 0.9495\n",
      "Epoch 85/100\n",
      "0s - loss: 0.1158 - acc: 0.9631 - val_loss: 0.1849 - val_acc: 0.9505\n",
      "Epoch 86/100\n",
      "0s - loss: 0.1124 - acc: 0.9641 - val_loss: 0.1863 - val_acc: 0.9492\n",
      "Epoch 87/100\n",
      "0s - loss: 0.1129 - acc: 0.9620 - val_loss: 0.1887 - val_acc: 0.9530\n",
      "Epoch 88/100\n",
      "0s - loss: 0.1085 - acc: 0.9661 - val_loss: 0.1868 - val_acc: 0.9517\n",
      "Epoch 89/100\n",
      "0s - loss: 0.1103 - acc: 0.9641 - val_loss: 0.1830 - val_acc: 0.9502\n",
      "Epoch 90/100\n",
      "0s - loss: 0.1090 - acc: 0.9649 - val_loss: 0.1863 - val_acc: 0.9517\n",
      "Epoch 91/100\n",
      "0s - loss: 0.1052 - acc: 0.9657 - val_loss: 0.1866 - val_acc: 0.9498\n",
      "Epoch 92/100\n",
      "0s - loss: 0.1043 - acc: 0.9663 - val_loss: 0.1832 - val_acc: 0.9511\n",
      "Epoch 93/100\n",
      "0s - loss: 0.1049 - acc: 0.9661 - val_loss: 0.1861 - val_acc: 0.9514\n",
      "Epoch 94/100\n",
      "0s - loss: 0.1022 - acc: 0.9666 - val_loss: 0.1863 - val_acc: 0.9505\n",
      "Epoch 95/100\n",
      "0s - loss: 0.1044 - acc: 0.9649 - val_loss: 0.1855 - val_acc: 0.9514\n",
      "Epoch 96/100\n",
      "0s - loss: 0.0981 - acc: 0.9694 - val_loss: 0.1861 - val_acc: 0.9505\n",
      "Epoch 97/100\n",
      "0s - loss: 0.0983 - acc: 0.9690 - val_loss: 0.1830 - val_acc: 0.9527\n",
      "Epoch 98/100\n",
      "0s - loss: 0.0976 - acc: 0.9699 - val_loss: 0.1864 - val_acc: 0.9527\n",
      "Epoch 99/100\n",
      "0s - loss: 0.0916 - acc: 0.9705 - val_loss: 0.1845 - val_acc: 0.9521\n",
      "Epoch 100/100\n",
      "0s - loss: 0.0960 - acc: 0.9697 - val_loss: 0.1870 - val_acc: 0.9505\n"
     ]
    }
   ],
   "source": [
    "model = Sequential()\n",
    "\n",
    "model.add(Dense(800, input_dim=len(X_train[0]), activation=\"relu\", kernel_initializer=\"normal\"))\n",
    "model.add(Dropout(rate=0.25, seed=1))\n",
    "model.add(Dense(800, activation=\"relu\", kernel_initializer=\"normal\"))\n",
    "model.add(Dropout(rate=0.25, seed=2))\n",
    "model.add(Dense(800, activation=\"relu\", kernel_initializer=\"normal\"))\n",
    "model.add(Dropout(rate=0.25, seed=2))\n",
    "model.add(Dense(500, activation=\"relu\", kernel_initializer=\"normal\"))\n",
    "model.add(Dropout(rate=0.25, seed=2))\n",
    "model.add(Dense(500, activation=\"relu\", kernel_initializer=\"normal\"))\n",
    "model.add(Dropout(rate=0.25, seed=2))\n",
    "model.add(Dense(500, activation=\"relu\", kernel_initializer=\"normal\"))\n",
    "model.add(Dropout(rate=0.25, seed=2))\n",
    "model.add(Dense(10, activation=\"softmax\", kernel_initializer=\"normal\"))\n",
    "\n",
    "model.compile(loss=\"categorical_crossentropy\", optimizer=\"SGD\", metrics=[\"accuracy\"])\n",
    "\n",
    "history = model.fit(X_train, y_train, batch_size=128,\n",
    "                    epochs=100, validation_data=(X_test, y_test),\n",
    "                    verbose=2, callbacks=[time_callback])"
   ]
  },
  {
   "cell_type": "markdown",
   "metadata": {},
   "source": [
    "Выберите 1-2 модели, которые дали наилучший результат. Подберите параметры в них: попробуйте выбрать различные функции активации, коэффициент Dropout, коэффициенты регуляризации. Проведите порядка 10 экспериментов. Как настройка слоев влияет на качество модели? Сильно ли различается результат?\n",
    "\n",
    "Коэффициенты регуляризации передаются в Dense слои с помощью `kernel_regularizer=l2(l2_coef)`. Рекомендуется провести эксперимент с коэффициентами от $10^{-6}$ до $10^{-4}$."
   ]
  },
  {
   "cell_type": "markdown",
   "metadata": {},
   "source": [
    "Попытайтесь подобрать для SGD начальный `learning_rate`, темп его снижения `decay`. Диапазоны параметров, с которыми рекомендуется провести эксперименты:\n",
    "- `learning rate`: от 0.005 до 0.1,\n",
    "- `decay`: от $10^{-9}$ до $10^{-5}$."
   ]
  },
  {
   "cell_type": "markdown",
   "metadata": {},
   "source": [
    "Возьмем последнюю модель, будем тюнить ее. "
   ]
  },
  {
   "cell_type": "code",
   "execution_count": 34,
   "metadata": {},
   "outputs": [
    {
     "data": {
      "application/vnd.jupyter.widget-view+json": {
       "model_id": "6bd394bf0228462e89a82faa5313ab71",
       "version_major": 2,
       "version_minor": 0
      },
      "text/html": [
       "<p>Failed to display Jupyter Widget of type <code>HBox</code>.</p>\n",
       "<p>\n",
       "  If you're reading this message in Jupyter Notebook or JupyterLab, it may mean\n",
       "  that the widgets JavaScript is still loading. If this message persists, it\n",
       "  likely means that the widgets JavaScript library is either not installed or\n",
       "  not enabled. See the <a href=\"https://ipywidgets.readthedocs.io/en/stable/user_install.html\">Jupyter\n",
       "  Widgets Documentation</a> for setup instructions.\n",
       "</p>\n",
       "<p>\n",
       "  If you're reading this message in another notebook frontend (for example, a static\n",
       "  rendering on GitHub or <a href=\"https://nbviewer.jupyter.org/\">NBViewer</a>),\n",
       "  it may mean that your frontend doesn't currently support widgets.\n",
       "</p>\n"
      ],
      "text/plain": [
       "HBox(children=(IntProgress(value=0, max=5), HTML(value='')))"
      ]
     },
     "metadata": {},
     "output_type": "display_data"
    },
    {
     "name": "stdout",
     "output_type": "stream",
     "text": [
      "2976/3150 [===========================>..] - ETA: 0s\n"
     ]
    }
   ],
   "source": [
    "scores = []\n",
    "\n",
    "regs = [0.000001, 0.00005, 0.00001, 0.0005, 0.0001]\n",
    "\n",
    "for l in tqdm(regs):\n",
    "    model = Sequential()\n",
    "\n",
    "    model.add(Dense(800, input_dim=len(X_train[0]), activation=\"relu\", \n",
    "                    kernel_initializer=\"normal\", kernel_regularizer=l2(l)))\n",
    "    model.add(Dropout(rate=0.25, seed=1))\n",
    "    model.add(Dense(800, activation=\"relu\", kernel_initializer=\"normal\", kernel_regularizer=l2(l)))\n",
    "    model.add(Dropout(rate=0.25, seed=2))\n",
    "    model.add(Dense(800, activation=\"relu\", kernel_initializer=\"normal\", kernel_regularizer=l2(l)))\n",
    "    model.add(Dropout(rate=0.25, seed=2))\n",
    "    model.add(Dense(500, activation=\"relu\", kernel_initializer=\"normal\", kernel_regularizer=l2(l)))\n",
    "    model.add(Dropout(rate=0.25, seed=2))\n",
    "    model.add(Dense(500, activation=\"relu\", kernel_initializer=\"normal\", kernel_regularizer=l2(l)))\n",
    "    model.add(Dropout(rate=0.25, seed=2))\n",
    "    model.add(Dense(500, activation=\"relu\", kernel_initializer=\"normal\", kernel_regularizer=l2(l)))\n",
    "    model.add(Dropout(rate=0.25, seed=2))\n",
    "    model.add(Dense(10, activation=\"softmax\", kernel_initializer=\"normal\"))\n",
    "\n",
    "    model.compile(loss=\"categorical_crossentropy\", optimizer=\"SGD\", metrics=[\"accuracy\"])\n",
    "\n",
    "    history = model.fit(X_train, y_train, batch_size=128,\n",
    "                        epochs=100, validation_data=(X_test, y_test),\n",
    "                        verbose=0, callbacks=[time_callback])\n",
    "    scores.append(model.evaluate(X_test, y_test)[1])"
   ]
  },
  {
   "cell_type": "code",
   "execution_count": 39,
   "metadata": {},
   "outputs": [
    {
     "name": "stdout",
     "output_type": "stream",
     "text": [
      "4\n",
      "0.954603174603\n"
     ]
    }
   ],
   "source": [
    "print(np.argmax(scores))\n",
    "print(np.max(scores))"
   ]
  },
  {
   "cell_type": "markdown",
   "metadata": {},
   "source": [
    "Лучший коэф. регуляризации получился 0.0001."
   ]
  },
  {
   "cell_type": "code",
   "execution_count": 43,
   "metadata": {},
   "outputs": [
    {
     "data": {
      "application/vnd.jupyter.widget-view+json": {
       "model_id": "bc896c074790446cafc6a9dc9965db88",
       "version_major": 2,
       "version_minor": 0
      },
      "text/html": [
       "<p>Failed to display Jupyter Widget of type <code>HBox</code>.</p>\n",
       "<p>\n",
       "  If you're reading this message in Jupyter Notebook or JupyterLab, it may mean\n",
       "  that the widgets JavaScript is still loading. If this message persists, it\n",
       "  likely means that the widgets JavaScript library is either not installed or\n",
       "  not enabled. See the <a href=\"https://ipywidgets.readthedocs.io/en/stable/user_install.html\">Jupyter\n",
       "  Widgets Documentation</a> for setup instructions.\n",
       "</p>\n",
       "<p>\n",
       "  If you're reading this message in another notebook frontend (for example, a static\n",
       "  rendering on GitHub or <a href=\"https://nbviewer.jupyter.org/\">NBViewer</a>),\n",
       "  it may mean that your frontend doesn't currently support widgets.\n",
       "</p>\n"
      ],
      "text/plain": [
       "HBox(children=(IntProgress(value=0, max=4), HTML(value='')))"
      ]
     },
     "metadata": {},
     "output_type": "display_data"
    },
    {
     "name": "stdout",
     "output_type": "stream",
     "text": [
      "\n",
      "2720/3150 [========================>.....] - ETA: 0s\n",
      "7\n",
      "0.959682539683\n"
     ]
    }
   ],
   "source": [
    "l = 0.0001\n",
    "\n",
    "lrates = [0.005, 0.01, 0.05, 0.1]\n",
    "\n",
    "for lr in tqdm(lrates):\n",
    "    model = Sequential()\n",
    "    model.add(Dense(800, input_dim=len(X_train[0]), activation=\"relu\", \n",
    "                    kernel_initializer=\"normal\", kernel_regularizer=l2(l)))\n",
    "    model.add(Dropout(rate=0.25, seed=1))\n",
    "    model.add(Dense(800, activation=\"relu\", kernel_initializer=\"normal\", kernel_regularizer=l2(l)))\n",
    "    model.add(Dropout(rate=0.25, seed=2))\n",
    "    model.add(Dense(800, activation=\"relu\", kernel_initializer=\"normal\", kernel_regularizer=l2(l)))\n",
    "    model.add(Dropout(rate=0.25, seed=2))\n",
    "    model.add(Dense(500, activation=\"relu\", kernel_initializer=\"normal\", kernel_regularizer=l2(l)))\n",
    "    model.add(Dropout(rate=0.25, seed=2))\n",
    "    model.add(Dense(500, activation=\"relu\", kernel_initializer=\"normal\", kernel_regularizer=l2(l)))\n",
    "    model.add(Dropout(rate=0.25, seed=2))\n",
    "    model.add(Dense(500, activation=\"relu\", kernel_initializer=\"normal\", kernel_regularizer=l2(l)))\n",
    "    model.add(Dropout(rate=0.25, seed=2))\n",
    "    model.add(Dense(10, activation=\"softmax\", kernel_initializer=\"normal\"))\n",
    "\n",
    "    model.compile(loss=\"categorical_crossentropy\", optimizer=SGD(lr=lr), metrics=[\"accuracy\"])\n",
    "\n",
    "    history = model.fit(X_train, y_train, batch_size=128,\n",
    "                        epochs=100, validation_data=(X_test, y_test),\n",
    "                        verbose=0, callbacks=[time_callback])\n",
    "    scores.append(model.evaluate(X_test, y_test)[1])\n",
    "print(np.argmax(scores))\n",
    "print(np.max(scores))"
   ]
  },
  {
   "cell_type": "markdown",
   "metadata": {},
   "source": [
    "Лучшая скорость обучения вышла 0.05"
   ]
  },
  {
   "cell_type": "code",
   "execution_count": 45,
   "metadata": {
    "scrolled": true
   },
   "outputs": [
    {
     "data": {
      "application/vnd.jupyter.widget-view+json": {
       "model_id": "235fa297a6aa4a999c57bff70f680ecd",
       "version_major": 2,
       "version_minor": 0
      },
      "text/html": [
       "<p>Failed to display Jupyter Widget of type <code>HBox</code>.</p>\n",
       "<p>\n",
       "  If you're reading this message in Jupyter Notebook or JupyterLab, it may mean\n",
       "  that the widgets JavaScript is still loading. If this message persists, it\n",
       "  likely means that the widgets JavaScript library is either not installed or\n",
       "  not enabled. See the <a href=\"https://ipywidgets.readthedocs.io/en/stable/user_install.html\">Jupyter\n",
       "  Widgets Documentation</a> for setup instructions.\n",
       "</p>\n",
       "<p>\n",
       "  If you're reading this message in another notebook frontend (for example, a static\n",
       "  rendering on GitHub or <a href=\"https://nbviewer.jupyter.org/\">NBViewer</a>),\n",
       "  it may mean that your frontend doesn't currently support widgets.\n",
       "</p>\n"
      ],
      "text/plain": [
       "HBox(children=(IntProgress(value=0, max=5), HTML(value='')))"
      ]
     },
     "metadata": {},
     "output_type": "display_data"
    },
    {
     "name": "stdout",
     "output_type": "stream",
     "text": [
      "3150/3150 [==============================] - 0s     \n",
      "3072/3150 [============================>.] - ETA: 0s\n",
      "12\n",
      "0.962222222222\n"
     ]
    }
   ],
   "source": [
    "decays = [0.000000001, 0.00000001, 0.0000001, 0.000001, 0.00001]\n",
    "for dec in tqdm(decays):\n",
    "    model = Sequential()\n",
    "    model.add(Dense(800, input_dim=len(X_train[0]), activation=\"relu\", \n",
    "                    kernel_initializer=\"normal\", kernel_regularizer=l2(l)))\n",
    "    model.add(Dropout(rate=0.25, seed=1))\n",
    "    model.add(Dense(800, activation=\"relu\", kernel_initializer=\"normal\", kernel_regularizer=l2(l)))\n",
    "    model.add(Dropout(rate=0.25, seed=2))\n",
    "    model.add(Dense(800, activation=\"relu\", kernel_initializer=\"normal\", kernel_regularizer=l2(l)))\n",
    "    model.add(Dropout(rate=0.25, seed=2))\n",
    "    model.add(Dense(500, activation=\"relu\", kernel_initializer=\"normal\", kernel_regularizer=l2(l)))\n",
    "    model.add(Dropout(rate=0.25, seed=2))\n",
    "    model.add(Dense(500, activation=\"relu\", kernel_initializer=\"normal\", kernel_regularizer=l2(l)))\n",
    "    model.add(Dropout(rate=0.25, seed=2))\n",
    "    model.add(Dense(500, activation=\"relu\", kernel_initializer=\"normal\", kernel_regularizer=l2(l)))\n",
    "    model.add(Dropout(rate=0.25, seed=2))\n",
    "    model.add(Dense(10, activation=\"softmax\", kernel_initializer=\"normal\"))\n",
    "\n",
    "    model.compile(loss=\"categorical_crossentropy\", optimizer=SGD(lr=lr), metrics=[\"accuracy\"])\n",
    "\n",
    "    history = model.fit(X_train, y_train, batch_size=128,\n",
    "                        epochs=100, validation_data=(X_test, y_test),\n",
    "                        verbose=0, callbacks=[time_callback])\n",
    "    scores.append(model.evaluate(X_test, y_test)[1])\n",
    "print(np.argmax(scores))\n",
    "print(np.max(scores))"
   ]
  },
  {
   "cell_type": "markdown",
   "metadata": {},
   "source": [
    "Лучший decay оказался равен 0.000001."
   ]
  },
  {
   "cell_type": "markdown",
   "metadata": {},
   "source": [
    "Выберите лучшую сеть, обучите ее и оцените качество. Сделайте графики зависимости качества классификации от этапа настройки параметров."
   ]
  },
  {
   "cell_type": "code",
   "execution_count": 48,
   "metadata": {},
   "outputs": [
    {
     "data": {
      "image/png": "[encoded data removed]",
      "text/plain": [
       "<matplotlib.figure.Figure at 0x7fef7c10dcc0>"
      ]
     },
     "metadata": {},
     "output_type": "display_data"
    }
   ],
   "source": [
    "x = ['1.baseline',  '2.шаманизм', '3.l2', '4.lr', '5.decay']\n",
    "\n",
    "y_acc = [0.8806, 0.9505, 0.954603174603, 0.959682539683, 0.962222222222] \n",
    "\n",
    "plt.figure(figsize=(14,8))\n",
    "plt.scatter(x, y_acc)\n",
    "plt.title('Accuracy');"
   ]
  },
  {
   "cell_type": "markdown",
   "metadata": {},
   "source": [
    "Самый большой скачок качества дал шаманизм со слоями и числом нейронов в них. Следующие шаги тоже дали ощутимый прирост, но не такой большой. \n"
   ]
  },
  {
   "cell_type": "markdown",
   "metadata": {},
   "source": [
    "### Сверточная сеть"
   ]
  },
  {
   "cell_type": "markdown",
   "metadata": {},
   "source": [
    "Конечно, правильно было бы попробовать и ее, но тогда задание получится чрезмерно трудоемким. =) Поэтому этот пункт необязателен к выполнению. Однако, вы можете самостоятельно разобраться в конструировании сверточных сетей и оценить качество их работы. Для построения сверточного блока вам необходимо реализовать последовательность свертки ([Convolution2D](https://keras.io/layers/convolutional/#conv2d)), нелинейности (ReLU) и пулинга ([MaxPooling2D](https://keras.io/layers/pooling/#maxpooling2d)). Почитайте документацию, посмотрите примеры сверточных сетей в аналогичных работах.\n",
    "\n",
    "Да, бонусные баллы (до +6) за реализацию этого пункта ставиться будут."
   ]
  },
  {
   "cell_type": "markdown",
   "metadata": {},
   "source": [
    "### Cделаем что-то вроде очень небольшой VGG "
   ]
  },
  {
   "cell_type": "code",
   "execution_count": 66,
   "metadata": {},
   "outputs": [],
   "source": [
    "from keras.optimizers import RMSprop #более эффективен, чем SDG \n",
    "from keras.preprocessing.image import ImageDataGenerator #будем применять аугментацию в реальном времени \n",
    "from keras.layers import Conv2D, MaxPool2D, Flatten \n",
    "from keras.callbacks import ReduceLROnPlateau #уменьшение learning rate на плато может помочь \n",
    "\n",
    "X_train = X_train.reshape(-1,28,28,1)\n",
    "X_test = X_test.reshape(-1,28,28,1)\n",
    "\n",
    "\n",
    "model = Sequential()\n",
    "\n",
    "model.add(Conv2D(filters=32, kernel_size=(5,5), padding='same', activation='relu', input_shape=(28,28,1)))\n",
    "model.add(Conv2D(filters=32, kernel_size=(5,5), padding='same', activation='relu'))\n",
    "model.add(MaxPool2D(pool_size=(2,2)))\n",
    "model.add(Dropout(rate=0.25))\n",
    "model.add(Conv2D(filters=64, kernel_size=(3,3), padding='same', activation='relu'))\n",
    "model.add(Conv2D(filters=64, kernel_size=(3,3), padding='same', activation='relu'))\n",
    "model.add(MaxPool2D(pool_size=(2,2), strides=(2,2)))\n",
    "model.add(Dropout(rate=0.25))\n",
    "model.add(Flatten())\n",
    "model.add(Dense(500, activation=\"relu\", kernel_initializer='normal'))\n",
    "model.add(Dropout(0.25))\n",
    "model.add(Dense(200, activation=\"relu\", kernel_initializer='normal'))\n",
    "model.add(Dropout(0.25))\n",
    "model.add(Dense(10, activation=\"softmax\"))\n",
    "\n",
    "model.compile(optimizer=RMSprop(), loss=\"categorical_crossentropy\", metrics=[\"accuracy\"])"
   ]
  },
  {
   "cell_type": "code",
   "execution_count": 62,
   "metadata": {},
   "outputs": [],
   "source": [
    "lr_reduction = ReduceLROnPlateau(monitor='val_acc', \n",
    "                                 patience=3, \n",
    "                                 factor=0.5, \n",
    "                                 min_lr=0.00001)"
   ]
  },
  {
   "cell_type": "code",
   "execution_count": 63,
   "metadata": {},
   "outputs": [],
   "source": [
    "epochs = 30 \n",
    "batch_size = 128"
   ]
  },
  {
   "cell_type": "code",
   "execution_count": 64,
   "metadata": {},
   "outputs": [],
   "source": [
    "data_gen = ImageDataGenerator(rotation_range=10,  #случайный поворот от 0 до 10 градусов\n",
    "                             zoom_range = 0.1, #случайный зум\n",
    "                             width_shift_range=0.1,  #случайный сдвиг по ширине\n",
    "                             height_shift_range=0.1,  #случайный сдвиг по высоте \n",
    "                            ) \n",
    "\n",
    "datagen.fit(X_train)"
   ]
  },
  {
   "cell_type": "code",
   "execution_count": 67,
   "metadata": {
    "scrolled": true
   },
   "outputs": [
    {
     "name": "stdout",
     "output_type": "stream",
     "text": [
      "Epoch 1/30\n",
      "3s - loss: 1.2690 - acc: 0.5647 - val_loss: 0.1923 - val_acc: 0.9416\n",
      "Epoch 2/30\n",
      "2s - loss: 0.3984 - acc: 0.8745 - val_loss: 0.1089 - val_acc: 0.9660\n",
      "Epoch 3/30\n",
      "2s - loss: 0.2676 - acc: 0.9166 - val_loss: 0.0851 - val_acc: 0.9762\n",
      "Epoch 4/30\n",
      "2s - loss: 0.1861 - acc: 0.9431 - val_loss: 0.0996 - val_acc: 0.9686\n",
      "Epoch 5/30\n",
      "2s - loss: 0.1655 - acc: 0.9496 - val_loss: 0.0780 - val_acc: 0.9778\n",
      "Epoch 6/30\n",
      "2s - loss: 0.1329 - acc: 0.9591 - val_loss: 0.0726 - val_acc: 0.9765\n",
      "Epoch 7/30\n",
      "2s - loss: 0.1301 - acc: 0.9602 - val_loss: 0.0510 - val_acc: 0.9844\n",
      "Epoch 8/30\n",
      "2s - loss: 0.1117 - acc: 0.9662 - val_loss: 0.0489 - val_acc: 0.9848\n",
      "Epoch 9/30\n",
      "2s - loss: 0.1031 - acc: 0.9691 - val_loss: 0.0454 - val_acc: 0.9860\n",
      "Epoch 10/30\n",
      "2s - loss: 0.0942 - acc: 0.9723 - val_loss: 0.0477 - val_acc: 0.9844\n",
      "Epoch 11/30\n",
      "2s - loss: 0.0898 - acc: 0.9718 - val_loss: 0.0469 - val_acc: 0.9829\n",
      "Epoch 12/30\n",
      "2s - loss: 0.0888 - acc: 0.9726 - val_loss: 0.0531 - val_acc: 0.9819\n",
      "Epoch 13/30\n",
      "2s - loss: 0.0770 - acc: 0.9764 - val_loss: 0.0386 - val_acc: 0.9873\n",
      "Epoch 14/30\n",
      "2s - loss: 0.0798 - acc: 0.9759 - val_loss: 0.0513 - val_acc: 0.9848\n",
      "Epoch 15/30\n",
      "2s - loss: 0.0765 - acc: 0.9767 - val_loss: 0.0349 - val_acc: 0.9902\n",
      "Epoch 16/30\n",
      "2s - loss: 0.0718 - acc: 0.9774 - val_loss: 0.0554 - val_acc: 0.9860\n",
      "Epoch 17/30\n",
      "2s - loss: 0.0713 - acc: 0.9799 - val_loss: 0.0311 - val_acc: 0.9914\n",
      "Epoch 18/30\n",
      "2s - loss: 0.0617 - acc: 0.9802 - val_loss: 0.0469 - val_acc: 0.9876\n",
      "Epoch 19/30\n",
      "2s - loss: 0.0648 - acc: 0.9809 - val_loss: 0.0387 - val_acc: 0.9873\n",
      "Epoch 20/30\n",
      "2s - loss: 0.0596 - acc: 0.9829 - val_loss: 0.0520 - val_acc: 0.9822\n",
      "Epoch 21/30\n",
      "\n",
      "Epoch 00020: reducing learning rate to 0.0005000000237487257.\n",
      "3s - loss: 0.0528 - acc: 0.9854 - val_loss: 0.0365 - val_acc: 0.9886\n",
      "Epoch 22/30\n",
      "2s - loss: 0.0455 - acc: 0.9866 - val_loss: 0.0333 - val_acc: 0.9898\n",
      "Epoch 23/30\n",
      "2s - loss: 0.0395 - acc: 0.9874 - val_loss: 0.0335 - val_acc: 0.9914\n",
      "Epoch 24/30\n",
      "2s - loss: 0.0405 - acc: 0.9878 - val_loss: 0.0247 - val_acc: 0.9927\n",
      "Epoch 25/30\n",
      "2s - loss: 0.0304 - acc: 0.9907 - val_loss: 0.0341 - val_acc: 0.9905\n",
      "Epoch 26/30\n",
      "2s - loss: 0.0393 - acc: 0.9881 - val_loss: 0.0410 - val_acc: 0.9886\n",
      "Epoch 27/30\n",
      "2s - loss: 0.0349 - acc: 0.9887 - val_loss: 0.0358 - val_acc: 0.9902\n",
      "Epoch 28/30\n",
      "\n",
      "Epoch 00027: reducing learning rate to 0.0002500000118743628.\n",
      "2s - loss: 0.0339 - acc: 0.9884 - val_loss: 0.0311 - val_acc: 0.9898\n",
      "Epoch 29/30\n",
      "2s - loss: 0.0323 - acc: 0.9895 - val_loss: 0.0331 - val_acc: 0.9902\n",
      "Epoch 30/30\n",
      "2s - loss: 0.0301 - acc: 0.9897 - val_loss: 0.0336 - val_acc: 0.9905\n"
     ]
    }
   ],
   "source": [
    "history = model.fit_generator(data_gen.flow(X_train, y_train, batch_size=batch_size),\n",
    "                              epochs=epochs, validation_data=(X_test, y_test),\n",
    "                              verbose=2, steps_per_epoch=X_train.shape[0] // batch_size,\n",
    "                              callbacks=[lr_reduction, time_callback])"
   ]
  },
  {
   "cell_type": "markdown",
   "metadata": {},
   "source": [
    "### Выводы\n",
    "(3 балла)"
   ]
  },
  {
   "cell_type": "markdown",
   "metadata": {},
   "source": [
    "Сравните наилучшую модель, полученную на xgboost, с наилучшей моделью, обученной с помощью keras.\n",
    "\n",
    "Как различаются точность, logloss, время обучения? Какую модель легче и удобнее настраивать? Какая модель вам показалась наиболее гибкой?\n",
    "\n",
    "Какие плюсы и минусы вы бы отметили у двух данных моделей машинного обучения?"
   ]
  },
  {
   "cell_type": "markdown",
   "metadata": {},
   "source": [
    "## Рассуждения \n",
    "XGBoost - очень хороший метод машинного обучения, но он не конкурент сверточным нейросетям в задачах на таких сложных объектах, как изображения, тексты, звуковые сигналы т.к. он не умеет извлекать иерархические признаки. \n",
    "Конечно, когда разговор идет о других задачах, то лучше использовать градиентный бустинг, потому что его легче настраивать, он быстрее работает, (как правило) требует меньше обучающих примеров, чем нейросети. \n",
    "\n",
    "Самая хорошая модель XGBoost сравнима по качеству с самым хорошим MLP. Сравнивать времена обучения не буду, т.к. XGBoost у меня собран под CPU, а tensorflow (вычислительный бэкенд Keras) - под GPU. "
   ]
  },
  {
   "cell_type": "markdown",
   "metadata": {
    "collapsed": true
   },
   "source": [
    "Обучите модели, взяв всю выборку (42000 объектов). Конечно, из-за перехода к более объемной выборке правильно будет подбирать параметры заново, но можете оставить текущие параметры, увеличив число деревьев в XGBoost или число эпох в нейронной сети, слегка снизив `learning_rate`). [Скачайте с kaggle](https://www.kaggle.com/c/digit-recognizer/data) набор тестовых данных, сделайте на них предсказание для каждой модели и отправьте оба результата (submit predictions) в Kaggle.\n",
    "\n",
    "Какой результат у вас получился? Сильно ли он отличается от того, что вы видели на эксперименте?"
   ]
  },
  {
   "cell_type": "code",
   "execution_count": 74,
   "metadata": {
    "scrolled": true
   },
   "outputs": [
    {
     "name": "stdout",
     "output_type": "stream",
     "text": [
      "Epoch 1/30\n",
      "9s - loss: 0.0434 - acc: 0.9873 - val_loss: 0.0170 - val_acc: 0.9946\n",
      "Epoch 2/30\n",
      "8s - loss: 0.0446 - acc: 0.9872 - val_loss: 0.0161 - val_acc: 0.9939\n",
      "Epoch 3/30\n",
      "8s - loss: 0.0431 - acc: 0.9875 - val_loss: 0.0152 - val_acc: 0.9948\n",
      "Epoch 4/30\n",
      "9s - loss: 0.0426 - acc: 0.9875 - val_loss: 0.0172 - val_acc: 0.9937\n",
      "Epoch 5/30\n",
      "9s - loss: 0.0372 - acc: 0.9892 - val_loss: 0.0153 - val_acc: 0.9949\n",
      "Epoch 6/30\n",
      "9s - loss: 0.0408 - acc: 0.9880 - val_loss: 0.0140 - val_acc: 0.9952\n",
      "Epoch 7/30\n",
      "8s - loss: 0.0402 - acc: 0.9878 - val_loss: 0.0173 - val_acc: 0.9937\n",
      "Epoch 8/30\n",
      "8s - loss: 0.0390 - acc: 0.9887 - val_loss: 0.0156 - val_acc: 0.9952\n",
      "Epoch 9/30\n",
      "8s - loss: 0.0353 - acc: 0.9892 - val_loss: 0.0170 - val_acc: 0.9945\n",
      "Epoch 10/30\n",
      "\n",
      "Epoch 00009: reducing learning rate to 0.0001250000059371814.\n",
      "8s - loss: 0.0354 - acc: 0.9894 - val_loss: 0.0156 - val_acc: 0.9950\n",
      "Epoch 11/30\n",
      "9s - loss: 0.0315 - acc: 0.9902 - val_loss: 0.0153 - val_acc: 0.9949\n",
      "Epoch 12/30\n",
      "9s - loss: 0.0305 - acc: 0.9908 - val_loss: 0.0148 - val_acc: 0.9948\n",
      "Epoch 13/30\n",
      "\n",
      "Epoch 00012: reducing learning rate to 6.25000029685907e-05.\n",
      "9s - loss: 0.0336 - acc: 0.9900 - val_loss: 0.0146 - val_acc: 0.9950\n",
      "Epoch 14/30\n",
      "8s - loss: 0.0317 - acc: 0.9908 - val_loss: 0.0143 - val_acc: 0.9950\n",
      "Epoch 15/30\n",
      "8s - loss: 0.0286 - acc: 0.9917 - val_loss: 0.0132 - val_acc: 0.9961\n",
      "Epoch 16/30\n",
      "8s - loss: 0.0301 - acc: 0.9911 - val_loss: 0.0140 - val_acc: 0.9952\n",
      "Epoch 17/30\n",
      "8s - loss: 0.0292 - acc: 0.9915 - val_loss: 0.0144 - val_acc: 0.9951\n",
      "Epoch 18/30\n",
      "8s - loss: 0.0311 - acc: 0.9909 - val_loss: 0.0130 - val_acc: 0.9956\n",
      "Epoch 19/30\n",
      "\n",
      "Epoch 00018: reducing learning rate to 3.125000148429535e-05.\n",
      "8s - loss: 0.0300 - acc: 0.9909 - val_loss: 0.0145 - val_acc: 0.9951\n",
      "Epoch 20/30\n",
      "8s - loss: 0.0266 - acc: 0.9918 - val_loss: 0.0134 - val_acc: 0.9956\n",
      "Epoch 21/30\n",
      "8s - loss: 0.0302 - acc: 0.9909 - val_loss: 0.0137 - val_acc: 0.9951\n",
      "Epoch 22/30\n",
      "\n",
      "Epoch 00021: reducing learning rate to 1.5625000742147677e-05.\n",
      "8s - loss: 0.0278 - acc: 0.9916 - val_loss: 0.0136 - val_acc: 0.9952\n",
      "Epoch 23/30\n",
      "8s - loss: 0.0280 - acc: 0.9911 - val_loss: 0.0132 - val_acc: 0.9954\n",
      "Epoch 24/30\n",
      "8s - loss: 0.0273 - acc: 0.9921 - val_loss: 0.0132 - val_acc: 0.9955\n",
      "Epoch 25/30\n",
      "\n",
      "Epoch 00024: reducing learning rate to 1e-05.\n",
      "8s - loss: 0.0256 - acc: 0.9923 - val_loss: 0.0135 - val_acc: 0.9955\n",
      "Epoch 26/30\n",
      "8s - loss: 0.0265 - acc: 0.9927 - val_loss: 0.0135 - val_acc: 0.9954\n",
      "Epoch 27/30\n",
      "8s - loss: 0.0282 - acc: 0.9917 - val_loss: 0.0133 - val_acc: 0.9952\n",
      "Epoch 28/30\n",
      "8s - loss: 0.0287 - acc: 0.9905 - val_loss: 0.0135 - val_acc: 0.9951\n",
      "Epoch 29/30\n",
      "8s - loss: 0.0281 - acc: 0.9914 - val_loss: 0.0133 - val_acc: 0.9951\n",
      "Epoch 30/30\n",
      "8s - loss: 0.0282 - acc: 0.9922 - val_loss: 0.0131 - val_acc: 0.9951\n"
     ]
    }
   ],
   "source": [
    "digits, labels = load_data(1)\n",
    "\n",
    "digits = digits / 255.0 \n",
    "test = pd.read_csv('test.csv') / 255.0\n",
    "\n",
    "\n",
    "X_train, X_test, y_train, y_test = train_test_split(digits, labels, test_size=0.2)\n",
    "\n",
    "num_classes = 10\n",
    "y_train = keras.utils.to_categorical(y_train, num_classes)\n",
    "y_test = keras.utils.to_categorical(y_test, num_classes)\n",
    "X_train = X_train.reshape(-1,28,28,1)\n",
    "X_test = X_test.reshape(-1,28,28,1)\n",
    "\n",
    "history = model.fit_generator(data_gen.flow(X_train, y_train, batch_size=batch_size),\n",
    "                              epochs=epochs, validation_data=(X_test, y_test),\n",
    "                              verbose=2, steps_per_epoch=X_train.shape[0] // batch_size,\n",
    "                              callbacks=[lr_reduction, time_callback])\n",
    "\n",
    "test = np.array(test).reshape(-1,28,28,1)\n",
    "\n",
    "cnn_preds = pd.Series(np.argmax(model.predict(test), axis=1), name='Label')\n",
    "submission = pd.concat([pd.Series(range(1,28001), name='ImageId'), cnn_preds], axis=1)\n",
    "submission.to_csv('hw_cnn_preds.csv', index=False)"
   ]
  },
  {
   "cell_type": "code",
   "execution_count": 78,
   "metadata": {
    "collapsed": true
   },
   "outputs": [
    {
     "data": {
      "text/plain": [
       "XGBClassifier(base_score=0.5, booster='gbtree', colsample_bylevel=1,\n",
       "       colsample_bytree=0.66667, gamma=0, learning_rate=0.2,\n",
       "       max_delta_step=0, max_depth=3, min_child_weight=1, missing=None,\n",
       "       n_estimators=340, n_jobs=4, nthread=None,\n",
       "       objective='multi:softprob', random_state=12, reg_alpha=0,\n",
       "       reg_lambda=1, scale_pos_weight=1, seed=None, silent=True,\n",
       "       subsample=1)"
      ]
     },
     "execution_count": 78,
     "metadata": {},
     "output_type": "execute_result"
    }
   ],
   "source": [
    "xgboost = XGBClassifier(n_estimators=340, n_jobs=4, random_state=12, learning_rate=0.2, \n",
    "                        max_depth=3, gamma=0, colsample_bytree=0.66667, min_child_weight=1)\n",
    "xgboost.fit(digits, labels)"
   ]
  },
  {
   "cell_type": "code",
   "execution_count": 86,
   "metadata": {},
   "outputs": [],
   "source": [
    "test = pd.read_csv('test.csv') / 255.0\n",
    "test = test.values\n",
    "y_xgb = xgboost.predict(test)"
   ]
  },
  {
   "cell_type": "code",
   "execution_count": 88,
   "metadata": {},
   "outputs": [],
   "source": [
    "xgb_preds = pd.Series(y_xgb, name='Label')\n",
    "submission = pd.concat([pd.Series(range(1,28001), name='ImageId'), xgb_preds], axis=1)\n",
    "submission.to_csv('hw_xgb_preds.csv', index=False)"
   ]
  },
  {
   "cell_type": "markdown",
   "metadata": {},
   "source": [
    "## Kaggle \n",
    "Сверточная сеть получила 0.99614 на паблик лидерборде. XGBoost получил 0.97028. "
   ]
  }
 ],
 "metadata": {
  "anaconda-cloud": {},
  "kernelspec": {
   "display_name": "Python 3",
   "language": "python",
   "name": "python3"
  },
  "language_info": {
   "codemirror_mode": {
    "name": "ipython",
    "version": 3
   },
   "file_extension": ".py",
   "mimetype": "text/x-python",
   "name": "python",
   "nbconvert_exporter": "python",
   "pygments_lexer": "ipython3",
   "version": "3.5.2"
  }
 },
 "nbformat": 4,
 "nbformat_minor": 1
}
