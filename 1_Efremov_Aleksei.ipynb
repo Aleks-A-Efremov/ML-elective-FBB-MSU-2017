{
 "cells": [
  {
   "cell_type": "markdown",
   "metadata": {},
   "source": [
    "### О задании\n",
    "Результат работы − отчет в формате ноутбуков IPython (ipynb-файл). Код пишется на Python3. Постарайтесь сделать ваш отчет интересным рассказом, последовательно отвечающим на вопросы из заданий. Помимо ответов на вопросы, в отчете также должен быть код, однако чем меньше кода, тем лучше всем: мне − меньше проверять, вам — проще найти ошибку или дополнить эксперимент. При проверке оценивается четкость ответов на вопросы, аккуратность отчета и кода.    \n",
    "Выполнение лабораторных работ занимает значительное время, поэтому не рекомендуем оставлять их на последний вечер перед сдачей."
   ]
  },
  {
   "cell_type": "markdown",
   "metadata": {},
   "source": [
    "### Оценивание и штрафы\n",
    "Каждая из задач имеет определенную «стоимость» (указана в скобках около задачи). «Похожие» решения считаются плагиатом и все задействованные студенты (в том числе те, у кого списали) получают за всю лабораторную работу 0 баллов. Если вы нашли решение какого-то из заданий в открытом источнике, необходимо в комментариях к коду указать ссылку на этот источник (скорее всего вы будете не единственным, кто это нашел, поэтому чтобы исключить подозрение в плагиате, необходима ссылка на источник).\n",
    "\n",
    "**Важно!!!** Прочитайте [руководство по написанию кода](https://pythonworld.ru/osnovy/pep-8-rukovodstvo-po-napisaniyu-koda-na-python.html). Работы, где будут грубо нарушены принципы оформления кода, будут штрафоваться!    \n",
    "Также помните, что самая главная ошибка, которую надо избегать, - дублирование кода."
   ]
  },
  {
   "cell_type": "markdown",
   "metadata": {},
   "source": [
    "### Правила сдачи\n",
    "Выполненную работу следует отправить на почту `nikmort@ya.ru` с указанием темы `[FBB hw <номер домашнего задани> Surname Name]`, например `FBB hw 2 Ivanov Petr`. Название отправляемого файла должно иметь следующий формат: `N_Surname_Name.ipynb`, где `N` — номер домашнего задания. Например, `2_Ivanov_Petr.ipynb`."
   ]
  },
  {
   "cell_type": "markdown",
   "metadata": {},
   "source": [
    "### Задача\n",
    "В этой работе вам необходимо будет обучать модели машинного обучения, подбирать гиперпараметры, сравнивать и смешивать модели. Вам предлагается решить задачу бинарной классификации, а именно построить алгоритм, определяющий превысит ли средний заработок человека порог $50k. Каждый объект выборки — человек, для которого известны следующие признаки:\n",
    " - age\n",
    " - workclass\n",
    " - fnlwgt\n",
    " - education\n",
    " - education-num\n",
    " - marital-status\n",
    " - occupation\n",
    " - relationship\n",
    " - race\n",
    " - sex\n",
    " - capital-gain\n",
    " - capital-loss\n",
    " - hours-per-week\n",
    " \n",
    "Более подробно про признаки можно почитать [здесь](http://archive.ics.uci.edu/ml/machine-learning-databases/adult/adult.names). Целевой признак записан в переменной *>50K,<=50K*."
   ]
  },
  {
   "cell_type": "markdown",
   "metadata": {},
   "source": [
    "### Метрика качества\n",
    "\n",
    "Многие модели машинного обучения позволяют не только отнести объект к какому-нибудь из классов, но и выдать вероятность принадлежности $\\tilde{y}(x)$ к этому классу. Например, в задаче бинарной классификации по умолчанию мы классифицируем объект первым классом, если вероятность принадлежности 1-ому классу будет больше 50%. Однако, можно перенастроить модель и относить объект к первому классу, если это вероятность будет больше некоторого параметра $\\theta$.\n",
    "\n",
    "$$y(x) = \n",
    "\\begin{cases}\n",
    "+1, &\\text{если} \\; \\tilde{y}(x) \\geq \\theta \\\\\n",
    "-1, &\\text{если} \\; \\tilde{y}(x) < \\theta\n",
    "\\end{cases}\n",
    "$$\n",
    "\n",
    "В таких случаях удобно работать с метрикой ROC-AUC."
   ]
  },
  {
   "cell_type": "markdown",
   "metadata": {},
   "source": [
    "Теоретическая задача **(5 баллов)**. Определим понятие доли дефектных пар ответов классификатора. Пусть дан классификатор $a(x)$, который возвращает оценки принадлежности объектов классам: чем больше ответ классификатора, тем более он уверен в том, что данный объект относится к классу $+1$. Отсортируем все объекты по неубыванию ответа классификатора $a$: $x_{(1)}, \\dots, x_{(\\ell)}$. Обозначим истинные ответы на этих объектах через $y_{(1)}, \\dots, y_{(\\ell)}$.\n",
    "Тогда доля дефектных пар записывается как\n",
    "$$  \\text{DP}(a, X^\\ell)\n",
    "    =\n",
    "    \\frac{2}{\\ell (\\ell - 1)}\n",
    "    \\sum_{i < j}^{\\ell}\n",
    "        \\left[\n",
    "            y_{(i)} > y_{(j)}\n",
    "        \\right].\n",
    "$$\n",
    "\n",
    "Как данный функционал связан с площадью под ROC-кривой?\n",
    "Ответ должен быть дан в виде формулы, связывающей DP и AUC. Ответ должен быть обоснован."
   ]
  },
  {
   "cell_type": "markdown",
   "metadata": {},
   "source": [
    "<hr style=\"height:1px;border:none;\" />\n",
    "**ОТВЕТ**\n",
    "\n",
    "Обозначим число объектов класса $+1$ за $l_{(+1)}$, а число объектов класса $-1$ за $l_{(-1)}$. \n",
    "Тогда \n",
    "\n",
    "$$  \\text{DP}(a, X^\\ell)\n",
    "    =\n",
    "    \\frac{2l_{(+1)}l_{(-1)}}{\\ell (\\ell - 1)}\n",
    "    (1 - AUC).\n",
    "$$\n",
    "\n",
    "$\\bf {Обоснование.}$\n",
    "\n",
    "Идем по отсортированным объектам справа налево: если данный объект принадлежит к классу $-1$, то AUC-ROC увеличивается на площадь прямоугольника, высота которого равна произведению количества ранее встреченных объектов класса $+1$ и величине скачка при встрече объекта класса $+1$, а ширина равна скачку при встрече объекта класса $-1$. Значит, когда мы дойдем до объекта, соответствующего минимальному порогу на ROC-кривой, AUC-ROC будет равна сумме таких прямоугольников. Выражение для этого следующее: \n",
    "$\n",
    "\\frac{1}{l_{(+1)}l_{(-1)}}\n",
    "\\sum_{i = 1}^{\\ell}\n",
    "    \\left[\n",
    "        y_{(i)} = -1\n",
    "    \\right]\n",
    "\\sum_{j = i + 1}^{\\ell}\n",
    "    \\left[\n",
    "        y_{(j)} = +1\n",
    "    \\right]\n",
    "$.\n",
    "Это эквивалентно такой форме записи:\n",
    "$\n",
    "\\frac{1}{l_{(+1)}l_{(-1)}}\n",
    "\\sum_{i = 1}^{\\ell}\n",
    "    \\sum_{j = i + 1}^{\\ell}\n",
    "    \\left[\n",
    "        y_{(i)} < y_{(j)}\n",
    "    \\right]\n",
    "$.\n",
    "Что, в свою очередь, эквивалентно данному выражению: $\n",
    "1 - \n",
    "\\frac{1}{l_{(+1)}l_{(-1)}}\n",
    "\\sum_{i < j}\n",
    "    \\left[\n",
    "        y_{(i)} > y_{(j)}\n",
    "    \\right]\n",
    "$ (поскольку вся площадь равна единице).\n",
    "\n",
    "Свяжем это с формулой DP и получим ответ, указанный выше:\n",
    "$$ \n",
    "AUC-ROC = 1 - \n",
    "\\frac{1}{l_{(+1)}l_{(-1)}}\n",
    "\\sum_{i < j}\n",
    "    \\left[\n",
    "        y_{(i)} > y_{(j)}\n",
    "    \\right]\n",
    "= \n",
    "\\frac{l_{(+1)}l_{(-1)}-\n",
    "    \\sum_{i < j}\n",
    "        \\left[\n",
    "            y_{(i)} > y_{(j)}\n",
    "        \\right]\n",
    "    }\n",
    "    {l_{(+1)}l_{(-1)}}\n",
    "$$\n",
    "\n",
    "Тогда\n",
    "\n",
    "$$\n",
    "1 - AUC-ROC = \n",
    "\\frac{l_{(+1)}l_{(-1)}\n",
    "    -l_{(+1)}l_{(-1)}\n",
    "    +\n",
    "    \\sum_{i < j}\n",
    "        \\left[\n",
    "            y_{(i)} > y_{(j)}\n",
    "        \\right]\n",
    "}\n",
    "    {l_{(+1)}l_{(-1)}}\n",
    "=\n",
    "\\frac{\n",
    "    \\sum_{i < j}\n",
    "        \\left[\n",
    "            y_{(i)} > y_{(j)}\n",
    "        \\right]\n",
    "}\n",
    "    {l_{(+1)}l_{(-1)}}\n",
    "$$\n",
    "\n",
    "Подставим это выражение в формулу DP вместо суммы \n",
    "$\\sum_{i < j}\n",
    "    \\left[\n",
    "        y_{(i)} > y_{(j)}\n",
    "    \\right]\n",
    "$ и домножим на $l_{(+1)}l_{(-1)}$. Получаем итог:\n",
    "\n",
    "$$  \\text{DP}(a, X^\\ell)\n",
    "    =\n",
    "    \\frac{2l_{(+1)}l_{(-1)}}{\\ell (\\ell - 1)}\n",
    "    (1 - AUC).\n",
    "$$\n",
    "<hr style=\"height:1px;border:none;\" />"
   ]
  },
  {
   "cell_type": "markdown",
   "metadata": {},
   "source": [
    "### Параметры и гиперпараметры модели\n",
    "\n",
    "В задачах машинного обучения следует различать параметры модели и гиперпараметры. Параметры настраиваются в ходе обучения алгоритмом обучения (например, структура решающего дерева - рассматриваемые признаки в узлах и пороги), а гиперпараметры задаются заранее (например, максимальная глубина решающего дерева или число соседей в методе ближайших соседей). Как правило, у каждой из модели несколько гиперпараметров и нет универсального набора гиперпараметров: для каждой задачи нужно подбирать свой.\n",
    "\n",
    "Для поиска наилучших гиперпараметров часто используют перебор по сетке (grid search): для каждого гиперпараметра выбирается несколько значений, перебираются все комбинации значений и выбирается комбинация, на которой модель показывает лучшее качество (с точки зрения метрики, которая оптимизируется)."
   ]
  },
  {
   "cell_type": "markdown",
   "metadata": {},
   "source": [
    "### Обучение и тестирование\n",
    "\n",
    "Обучение и тестирование модели проводится на непересекающихся множествах (train и test). Соотношения между размерами этих множеств - компромисс. В случае большой обучающий выборки получается более точный алгортим, но бОльший шум при оценки качества. При снижении объема обучающей выборки, алгоритм становится менее точным, зато получается менее шумная оценка качества.\n",
    "\n",
    "При решении задачи обучения по прецендентам приходится сравнивать различные модели и для каждой из моделей подбирать гиперпараметры. Для сравнения моделей необходимо измерять их качество. Качество можно либо измерять по описанной выше схеме, разделяя исходную выборку на обучающую и тренировочную, но в этом случае при большом переборе моделей и гиперпараметров произойдет переобучение на тестовую выборку (из-за того, что оценка качества, как правило, сильно зависит от разбиения выборки).\n",
    "\n",
    "Поэтому при сравнении моделей выборка разбивается разными способами на обучение и тест, а оценка качества вычисляется путем усреднения результатов на каждом из разбиений. Такой способ называется кросс-валидацией; есть различные схемы кросс-валидации:\n",
    "  - Leave-One-Out\n",
    "  - K-Fold\n",
    "  - Многократное случайное разбиение выборки\n",
    "\n",
    "Однако, такая процедура вычислительно затратна, особенно, если нужно перебрать большое число комбинаций гиперпараметров. Поэтому есть несколько способов упростить ее:\n",
    "\n",
    "- перебирать гиперпараметры с большим шагом; например, число деревьев для случайного леса перебирать в диапозоне `range(10, 100, 10)` вместо `range(10, 100, 1)`;\n",
    "- уменьшить количество фолдов в кросс-валидации (чревато зашумлением оценки качетсва);\n",
    "- оптимизировать гиперпараметры последовательно (есть риск пропустить хорошую комбинацию);\n",
    "- перебрать случайной подмножество из множество комбинаций гиперпараметров."
   ]
  },
  {
   "cell_type": "markdown",
   "metadata": {},
   "source": [
    "### Решение"
   ]
  },
  {
   "cell_type": "markdown",
   "metadata": {},
   "source": [
    "Загрузите набор данных *data.adult.csv* с помощью `pandas`. Чтобы посмотреть данные, можно вызвать для загруженного `DataFrame` метод `head`."
   ]
  },
  {
   "cell_type": "code",
   "execution_count": 1,
   "metadata": {},
   "outputs": [
    {
     "name": "stdout",
     "output_type": "stream",
     "text": [
      "(16280, 14)\n"
     ]
    },
    {
     "data": {
      "text/html": [
       "<div>\n",
       "<style>\n",
       "    .dataframe thead tr:only-child th {\n",
       "        text-align: right;\n",
       "    }\n",
       "\n",
       "    .dataframe thead th {\n",
       "        text-align: left;\n",
       "    }\n",
       "\n",
       "    .dataframe tbody tr th {\n",
       "        vertical-align: top;\n",
       "    }\n",
       "</style>\n",
       "<table border=\"1\" class=\"dataframe\">\n",
       "  <thead>\n",
       "    <tr style=\"text-align: right;\">\n",
       "      <th></th>\n",
       "      <th>age</th>\n",
       "      <th>workclass</th>\n",
       "      <th>fnlwgt</th>\n",
       "      <th>education</th>\n",
       "      <th>education-num</th>\n",
       "      <th>marital-status</th>\n",
       "      <th>occupation</th>\n",
       "      <th>relationship</th>\n",
       "      <th>race</th>\n",
       "      <th>sex</th>\n",
       "      <th>capital-gain</th>\n",
       "      <th>capital-loss</th>\n",
       "      <th>hours-per-week</th>\n",
       "      <th>&gt;50K,&lt;=50K</th>\n",
       "    </tr>\n",
       "  </thead>\n",
       "  <tbody>\n",
       "    <tr>\n",
       "      <th>0</th>\n",
       "      <td>34</td>\n",
       "      <td>Local-gov</td>\n",
       "      <td>284843</td>\n",
       "      <td>HS-grad</td>\n",
       "      <td>9</td>\n",
       "      <td>Never-married</td>\n",
       "      <td>Farming-fishing</td>\n",
       "      <td>Not-in-family</td>\n",
       "      <td>Black</td>\n",
       "      <td>Male</td>\n",
       "      <td>594</td>\n",
       "      <td>0</td>\n",
       "      <td>60</td>\n",
       "      <td>&lt;=50K</td>\n",
       "    </tr>\n",
       "    <tr>\n",
       "      <th>1</th>\n",
       "      <td>40</td>\n",
       "      <td>Private</td>\n",
       "      <td>190290</td>\n",
       "      <td>Some-college</td>\n",
       "      <td>10</td>\n",
       "      <td>Divorced</td>\n",
       "      <td>Sales</td>\n",
       "      <td>Not-in-family</td>\n",
       "      <td>White</td>\n",
       "      <td>Male</td>\n",
       "      <td>0</td>\n",
       "      <td>0</td>\n",
       "      <td>40</td>\n",
       "      <td>&lt;=50K</td>\n",
       "    </tr>\n",
       "    <tr>\n",
       "      <th>2</th>\n",
       "      <td>36</td>\n",
       "      <td>Local-gov</td>\n",
       "      <td>177858</td>\n",
       "      <td>Bachelors</td>\n",
       "      <td>13</td>\n",
       "      <td>Married-civ-spouse</td>\n",
       "      <td>Prof-specialty</td>\n",
       "      <td>Own-child</td>\n",
       "      <td>White</td>\n",
       "      <td>Male</td>\n",
       "      <td>0</td>\n",
       "      <td>0</td>\n",
       "      <td>40</td>\n",
       "      <td>&lt;=50K</td>\n",
       "    </tr>\n",
       "    <tr>\n",
       "      <th>3</th>\n",
       "      <td>22</td>\n",
       "      <td>Private</td>\n",
       "      <td>184756</td>\n",
       "      <td>Some-college</td>\n",
       "      <td>10</td>\n",
       "      <td>Never-married</td>\n",
       "      <td>Sales</td>\n",
       "      <td>Own-child</td>\n",
       "      <td>White</td>\n",
       "      <td>Female</td>\n",
       "      <td>0</td>\n",
       "      <td>0</td>\n",
       "      <td>30</td>\n",
       "      <td>&lt;=50K</td>\n",
       "    </tr>\n",
       "    <tr>\n",
       "      <th>4</th>\n",
       "      <td>47</td>\n",
       "      <td>Private</td>\n",
       "      <td>149700</td>\n",
       "      <td>Bachelors</td>\n",
       "      <td>13</td>\n",
       "      <td>Married-civ-spouse</td>\n",
       "      <td>Tech-support</td>\n",
       "      <td>Husband</td>\n",
       "      <td>White</td>\n",
       "      <td>Male</td>\n",
       "      <td>15024</td>\n",
       "      <td>0</td>\n",
       "      <td>40</td>\n",
       "      <td>&gt;50K</td>\n",
       "    </tr>\n",
       "  </tbody>\n",
       "</table>\n",
       "</div>"
      ],
      "text/plain": [
       "   age  workclass  fnlwgt     education  education-num      marital-status  \\\n",
       "0   34  Local-gov  284843       HS-grad              9       Never-married   \n",
       "1   40    Private  190290  Some-college             10            Divorced   \n",
       "2   36  Local-gov  177858     Bachelors             13  Married-civ-spouse   \n",
       "3   22    Private  184756  Some-college             10       Never-married   \n",
       "4   47    Private  149700     Bachelors             13  Married-civ-spouse   \n",
       "\n",
       "        occupation   relationship   race     sex  capital-gain  capital-loss  \\\n",
       "0  Farming-fishing  Not-in-family  Black    Male           594             0   \n",
       "1            Sales  Not-in-family  White    Male             0             0   \n",
       "2   Prof-specialty      Own-child  White    Male             0             0   \n",
       "3            Sales      Own-child  White  Female             0             0   \n",
       "4     Tech-support        Husband  White    Male         15024             0   \n",
       "\n",
       "   hours-per-week >50K,<=50K  \n",
       "0              60      <=50K  \n",
       "1              40      <=50K  \n",
       "2              40      <=50K  \n",
       "3              30      <=50K  \n",
       "4              40       >50K  "
      ]
     },
     "execution_count": 1,
     "metadata": {},
     "output_type": "execute_result"
    }
   ],
   "source": [
    "import pandas as pd\n",
    "\n",
    "df = pd.read_csv('data.adult.csv')\n",
    "\n",
    "print(df.shape)     #посмотрим, сколько объектов и признаков в нашем датасете\n",
    "df.head()           #и мельком глянем на него "
   ]
  },
  {
   "cell_type": "markdown",
   "metadata": {},
   "source": [
    "**(2 балла)** Для некоторых объектов могут быть пропущены значения некоторых признаков. Пропуски могут обозначаться либо значением `numpy.nan`, либо каким-то определенным значением, которое указывается в описании к набору данных. В данном датасете пропущенные значения обозначены как \"?\". \n",
    "\n",
    "Некоторые алгоритмы могут работать некорректно с пропущенными значениями. Примените к выборке один из методов обработки пропущенных значений. Обоснуйте свой выбор."
   ]
  },
  {
   "cell_type": "code",
   "execution_count": 2,
   "metadata": {},
   "outputs": [
    {
     "name": "stdout",
     "output_type": "stream",
     "text": [
      "workclass, 929\n",
      "occupation, 933\n",
      "(929, 14)\n",
      "(15347, 14)\n"
     ]
    }
   ],
   "source": [
    "def nan_cols(df):                           #посмотрим, где вообще есть пропуски, и посчитаем их \n",
    "    for x in df.columns:\n",
    "        if \"?\" in df[x].value_counts():\n",
    "            print(x, df[x].value_counts()['?'], sep=', ')\n",
    "nan_cols(df)\n",
    "\n",
    "print(df[(df['workclass'] == '?') & (df['occupation'] == '?')].shape)\n",
    "\n",
    "'''\n",
    "видим, что когда пропущено значение в workclass, то пропущено и в \n",
    "occupation, а еще у 4х объектов пропуск только в occupation\n",
    "выкинем объекты с пропусками из выборки\n",
    "'''\n",
    "\n",
    "df.drop(df[df['occupation']=='?'].index, inplace=True)\n",
    "df.index = list(range(len(df)))\n",
    "print(df.shape)"
   ]
  },
  {
   "cell_type": "markdown",
   "metadata": {},
   "source": [
    "<hr style=\"height:1px;border:none;\" />\n",
    "\n",
    "**Обоснование**\n",
    "\n",
    "Объектов с пропусками достаточно мало, поэтому избавление от них вряд ли сильно повлияет на обучение классификаторов. \n",
    "<hr style=\"height:1px;border:none;\" />"
   ]
  },
  {
   "cell_type": "markdown",
   "metadata": {},
   "source": [
    "Далее проделайте следующее:\n",
    " - Перемешайте объекты, чтобы исключить возможные последствия изначальной сортировки данных.\n",
    " - Выделите метки классов в отдельный вектор, удалите их из матрицы \"объект-признак\" и преобразуйте метки классов к бинарному формату (+1, -1).\n",
    " - Оставьте в датасете только вещественные признаки; сначала мы будем работать только с ними.\n",
    " \n",
    "Более подробно о работе с пропусками в Pandas можно прочитать например [здесь](http://pandas.pydata.org/pandas-docs/stable/missing_data.html). "
   ]
  },
  {
   "cell_type": "code",
   "execution_count": 3,
   "metadata": {
    "scrolled": true
   },
   "outputs": [
    {
     "data": {
      "text/html": [
       "<div>\n",
       "<style>\n",
       "    .dataframe thead tr:only-child th {\n",
       "        text-align: right;\n",
       "    }\n",
       "\n",
       "    .dataframe thead th {\n",
       "        text-align: left;\n",
       "    }\n",
       "\n",
       "    .dataframe tbody tr th {\n",
       "        vertical-align: top;\n",
       "    }\n",
       "</style>\n",
       "<table border=\"1\" class=\"dataframe\">\n",
       "  <thead>\n",
       "    <tr style=\"text-align: right;\">\n",
       "      <th></th>\n",
       "      <th>age</th>\n",
       "      <th>fnlwgt</th>\n",
       "      <th>education-num</th>\n",
       "      <th>capital-gain</th>\n",
       "      <th>capital-loss</th>\n",
       "      <th>hours-per-week</th>\n",
       "    </tr>\n",
       "  </thead>\n",
       "  <tbody>\n",
       "    <tr>\n",
       "      <th>9241</th>\n",
       "      <td>27</td>\n",
       "      <td>86681</td>\n",
       "      <td>13</td>\n",
       "      <td>0</td>\n",
       "      <td>0</td>\n",
       "      <td>40</td>\n",
       "    </tr>\n",
       "    <tr>\n",
       "      <th>1473</th>\n",
       "      <td>53</td>\n",
       "      <td>153486</td>\n",
       "      <td>6</td>\n",
       "      <td>0</td>\n",
       "      <td>0</td>\n",
       "      <td>40</td>\n",
       "    </tr>\n",
       "    <tr>\n",
       "      <th>2077</th>\n",
       "      <td>39</td>\n",
       "      <td>432555</td>\n",
       "      <td>9</td>\n",
       "      <td>0</td>\n",
       "      <td>1628</td>\n",
       "      <td>40</td>\n",
       "    </tr>\n",
       "    <tr>\n",
       "      <th>2690</th>\n",
       "      <td>42</td>\n",
       "      <td>165916</td>\n",
       "      <td>13</td>\n",
       "      <td>0</td>\n",
       "      <td>0</td>\n",
       "      <td>45</td>\n",
       "    </tr>\n",
       "    <tr>\n",
       "      <th>12337</th>\n",
       "      <td>34</td>\n",
       "      <td>386370</td>\n",
       "      <td>10</td>\n",
       "      <td>0</td>\n",
       "      <td>0</td>\n",
       "      <td>50</td>\n",
       "    </tr>\n",
       "  </tbody>\n",
       "</table>\n",
       "</div>"
      ],
      "text/plain": [
       "       age  fnlwgt  education-num  capital-gain  capital-loss  hours-per-week\n",
       "9241    27   86681             13             0             0              40\n",
       "1473    53  153486              6             0             0              40\n",
       "2077    39  432555              9             0          1628              40\n",
       "2690    42  165916             13             0             0              45\n",
       "12337   34  386370             10             0             0              50"
      ]
     },
     "execution_count": 3,
     "metadata": {},
     "output_type": "execute_result"
    }
   ],
   "source": [
    "from sklearn.utils import shuffle\n",
    "\n",
    "\n",
    "def get_conts():                   #найдем вещественные признаки, чтобы оставить только их\n",
    "    conts = []\n",
    "    for x in df.columns:\n",
    "        if 'int' == df[x].dtype or 'float' == df[x].dtype:\n",
    "            conts.append(x)\n",
    "    return conts    \n",
    "\n",
    "\n",
    "df = shuffle(df, random_state=38)   \n",
    "\n",
    "d = {'<=50K' : -1, '>50K' : 1}\n",
    "df['>50K,<=50K'] = df['>50K,<=50K'].map(d)\n",
    "y = df['>50K,<=50K']\n",
    "df.drop('>50K,<=50K', axis=1, inplace=True)      \n",
    "\n",
    "df = df[get_conts()]\n",
    "df.head()"
   ]
  },
  {
   "cell_type": "markdown",
   "metadata": {},
   "source": [
    "### Обучение классификаторов на вещественных признаках\n",
    "\n",
    "В начале посмотрим, как работает подбор параметров по сетке и как влияет на качество разбиение выборки. Сейчас и далее будем рассматривать 3 алгоритма:\n",
    " - [kNN](http://scikit-learn.org/stable/modules/generated/sklearn.neighbors.KNeighborsClassifier.html)\n",
    " - [DecisonTree](http://scikit-learn.org/stable/modules/generated/sklearn.tree.DecisionTreeClassifier.html#sklearn.tree.DecisionTreeClassifier)\n",
    " - [RandomForest](http://scikit-learn.org/stable/modules/generated/sklearn.ensemble.RandomForestClassifier.html)"
   ]
  },
  {
   "cell_type": "markdown",
   "metadata": {},
   "source": [
    "Для начала оптимизируем один гиперпараметр у каждой из первых двух моделей:\n",
    " - kNN — число соседей (*n_neighbors*)\n",
    " - DecisonTree — глубина дерева (*max_depth*)\n",
    " \n",
    "Остальные параметры пусть принимают значения по умолчанию. Для подбора гиперпараметров воспользуйтесь перебором по сетке, который реализован в классе [GridSearchCV](http://scikit-learn.org/stable/modules/generated/sklearn.model_selection.GridSearchCV.html#sklearn.model_selection.GridSearchCV). В качестве схемы кросс-валидации используйте 5-Fold CV: [KFoldCV](http://scikit-learn.org/stable/modules/generated/sklearn.model_selection.KFold.html#sklearn.model_selection.KFold)."
   ]
  },
  {
   "cell_type": "code",
   "execution_count": 65,
   "metadata": {
    "collapsed": true
   },
   "outputs": [],
   "source": [
    "from sklearn.neighbors import KNeighborsClassifier as knn\n",
    "from sklearn.tree import DecisionTreeClassifier as dtc\n",
    "from sklearn.ensemble import RandomForestClassifier as rfc\n",
    "from sklearn.model_selection import GridSearchCV as gscv\n",
    "from sklearn.model_selection import KFold, cross_val_score\n",
    "from sklearn.metrics import roc_auc_score\n",
    "import numpy as np"
   ]
  },
  {
   "cell_type": "code",
   "execution_count": 66,
   "metadata": {},
   "outputs": [
    {
     "data": {
      "text/plain": [
       "GridSearchCV(cv=KFold(n_splits=5, random_state=38, shuffle=True),\n",
       "       error_score='raise',\n",
       "       estimator=KNeighborsClassifier(algorithm='auto', leaf_size=30, metric='minkowski',\n",
       "           metric_params=None, n_jobs=1, n_neighbors=5, p=2,\n",
       "           weights='uniform'),\n",
       "       fit_params={}, iid=True, n_jobs=4,\n",
       "       param_grid={'n_neighbors': array([ 1,  2, ..., 68, 69])},\n",
       "       pre_dispatch='2*n_jobs', refit=True, return_train_score=True,\n",
       "       scoring='roc_auc', verbose=0)"
      ]
     },
     "execution_count": 66,
     "metadata": {},
     "output_type": "execute_result"
    }
   ],
   "source": [
    "kf = KFold(n_splits=5, shuffle=True, random_state=38)\n",
    "\n",
    "params_knn = {'n_neighbors': np.arange(1, 70)}\n",
    "grid_knn = gscv(knn(), params_knn, cv=kf, n_jobs=4, scoring='roc_auc')\n",
    "grid_knn.fit(df, y)"
   ]
  },
  {
   "cell_type": "code",
   "execution_count": 59,
   "metadata": {},
   "outputs": [
    {
     "data": {
      "text/plain": [
       "GridSearchCV(cv=KFold(n_splits=5, random_state=38, shuffle=True),\n",
       "       error_score='raise',\n",
       "       estimator=DecisionTreeClassifier(class_weight=None, criterion='gini', max_depth=None,\n",
       "            max_features=None, max_leaf_nodes=None,\n",
       "            min_impurity_split=1e-07, min_samples_leaf=1,\n",
       "            min_samples_split=2, min_weight_fraction_leaf=0.0,\n",
       "            presort=False, random_state=38, splitter='best'),\n",
       "       fit_params={}, iid=True, n_jobs=4,\n",
       "       param_grid={'max_depth': array([ 1,  2,  3,  4,  5,  6,  7,  8,  9, 10, 11, 12, 13, 14, 15, 16, 17,\n",
       "       18, 19, 20, 21, 22, 23, 24, 25, 26, 27, 28, 29, 30, 31, 32, 33, 34,\n",
       "       35, 36, 37, 38, 39, 40, 41, 42, 43, 44, 45, 46, 47, 48, 49])},\n",
       "       pre_dispatch='2*n_jobs', refit=True, return_train_score=True,\n",
       "       scoring='roc_auc', verbose=0)"
      ]
     },
     "execution_count": 59,
     "metadata": {},
     "output_type": "execute_result"
    }
   ],
   "source": [
    "params_dt = {'max_depth': np.arange(1, 50)}\n",
    "grid_dt = gscv(dtc(random_state=38), params_dt, cv=kf, n_jobs=4, scoring='roc_auc')\n",
    "grid_dt.fit(df, y)"
   ]
  },
  {
   "cell_type": "markdown",
   "metadata": {},
   "source": [
    "**(6 баллов)** Для каждого алгоритма подберите оптимальные значения указанных гиперпараметров. Постройте график среднего значения качества по кросс-валидации алгоритма при заданном значении гиперпараметра, на котором также отобразите доверительный интервал (значение качества на каждом фолде, среднее значение качества и много другой полезной информации можно получить из поля [*cv results_*](http://scikit-learn.org/stable/modules/generated/sklearn.model_selection.GridSearchCV.html#sklearn.model_selection.GridSearchCV)). Построение графика стоит выделить в отдельную функцию - это избавит вас от дублирования кода при выполнении дальнейшего задания.\n",
    "\n",
    "\n",
    "\n",
    "Что вы можете сказать о получившихся графиках?"
   ]
  },
  {
   "cell_type": "code",
   "execution_count": 67,
   "metadata": {
    "collapsed": true
   },
   "outputs": [],
   "source": [
    "%matplotlib inline\n",
    "import matplotlib.pyplot as plt\n",
    "\n",
    "#эта функция - позаимствованный и адаптированный кусок plot_quality_intervals \n",
    "#из classifier_training.ipynb с третьго семинара\n",
    "def get_plot(scores, stds, values, name):\n",
    "    plt.figure(figsize=(18, 8))\n",
    "    plt.plot(values, scores)\n",
    "    plt.fill_between(values, scores + stds, scores - stds, alpha = 0.2, facecolor='blue')\n",
    "    plt.xlim(1, max(values))\n",
    "    plt.ylim(np.min(scores - stds) - 0.1, 1)\n",
    "    plt.xticks(np.arange(1, max(values), max(values)//10))\n",
    "    plt.xlabel(name)\n",
    "    plt.ylabel('ROC-AUC')"
   ]
  },
  {
   "cell_type": "code",
   "execution_count": 68,
   "metadata": {
    "scrolled": false
   },
   "outputs": [
    {
     "name": "stdout",
     "output_type": "stream",
     "text": [
      "The best k for kNN:  3\n",
      "The best depth for Decision Tree:  7\n"
     ]
    },
    {
     "data": {
      "image/png": "[encoded data removed]",
      "text/plain": [
       "<matplotlib.figure.Figure at 0x7fa8ae858128>"
      ]
     },
     "metadata": {},
     "output_type": "display_data"
    },
    {
     "data": {
      "image/png": "[encoded data removed]",
      "text/plain": [
       "<matplotlib.figure.Figure at 0x7fa8ae8582e8>"
      ]
     },
     "metadata": {},
     "output_type": "display_data"
    }
   ],
   "source": [
    "def get_ssv(grid, param_name):                  #функция получает аргументы для get_plot из gridsearcher'ов\n",
    "    mean_scores = grid.cv_results_['mean_test_score']\n",
    "    mean_stds = grid.cv_results_['std_test_score']\n",
    "    param_values = [grid.cv_results_['params'][i][param_name] for i in range(len(grid.cv_results_['params']))]\n",
    "    return get_plot(mean_scores, mean_stds, param_values, param_name)\n",
    "    \n",
    "    \n",
    "print('The best k for kNN: ', grid_knn.best_params_['n_neighbors'])\n",
    "print('The best depth for Decision Tree: ', grid_dt.best_params_['max_depth'])\n",
    "get_ssv(grid_knn, 'n_neighbors')\n",
    "get_ssv(grid_dt, 'max_depth')"
   ]
  },
  {
   "cell_type": "markdown",
   "metadata": {},
   "source": [
    "<hr style=\"height:1px;border:none\" />\n",
    "\n",
    "$\\bf {Рассужения}$\n",
    "\n",
    "\n",
    "**График 1:**\n",
    "\n",
    "На первом графике, изображающем качество классификации объектов алгоритмом k ближайших соседей при различном количестве соседей, видно, что сначала качество модели растет с увеличением числа соседей, затем выходит на небольшое плато, после чего начинает просаживаться. И это неудивительно, ведь при небольшом числе соседей малейший шум в данных сильно влияет на классификацию: рядом с классифицируемым объектом может случайно оказаться небольшое число объектов другого класса из тренировочной выборки. При большем числе соседей это перестаёт иметь влияние. Одноко мы видим постепенную просадку в качестве с увеличением числа соседей. Возможно, потому что посреди одного класса есть \"островки\" из объектов другого класса, и при большом количестве соседей эти островки будет поглощёны чужим классом.\n",
    "\n",
    "**График 2:**\n",
    "\n",
    "На нём изображена зависимость качества классификации объектов решающим деревом от глубины дерева. При небольшой глубине дерева качество низкое, т.к. решение выносится по очень маленькому числу условий \"если... - то...\". Например, при высоте дерева, равной 1, решение выносится с учетом значения лишь одного признака. При увеличении высоты дерева качество растет и достигает своего максимума при глубине 7, а после этого начинает падать, т.к. дерево переобучается, \"запоминая\" объекты. \n",
    "<hr style=\"height:1px;border:none;\" />"
   ]
  },
  {
   "cell_type": "markdown",
   "metadata": {},
   "source": [
    "**(3 балла)** Также подберём число деревьев (*n_estimators*) в алгоритме RandomForest. В общем случае Random Forest не переобучается с увеличением количества деревьев. Подберите значение гиперпараметра, на которой ощутимый прирост качества перестает наблюдаться. Обратите внимание, что для проведения этого эксперимента не нужно с нуля обучать много случайных лесов с различными количествами деревьев. Обучите один случайный лес с максимальным интересным количеством деревьев, а затем рассмотрите подмножества деревьев разных размеров, состоящих из деревьев построенного леса (поле [*estimators_*](http://scikit-learn.org/stable/modules/generated/sklearn.ensemble.RandomForestClassifier.html)). В дальнейших экспериментах используйте подобранное количество деревьев."
   ]
  },
  {
   "cell_type": "code",
   "execution_count": 62,
   "metadata": {},
   "outputs": [
    {
     "name": "stdout",
     "output_type": "stream",
     "text": [
      "The best number of trees in the Random Forest:  197\n"
     ]
    },
    {
     "data": {
      "image/png": "[encoded data removed]",
      "text/plain": [
       "<matplotlib.figure.Figure at 0x7fa8dcc41390>"
      ]
     },
     "metadata": {},
     "output_type": "display_data"
    }
   ],
   "source": [
    "params_rf = {'n_estimators': np.arange(1, 200, 4)}\n",
    "grid_rf = gscv(rfc(random_state=38), params_rf, cv=kf, n_jobs=4, scoring='roc_auc')\n",
    "grid_rf.fit(df, y)\n",
    "\n",
    "print('The best number of trees in the Random Forest: ', grid_rf.best_params_['n_estimators'])\n",
    "get_ssv(grid_rf, 'n_estimators')"
   ]
  },
  {
   "cell_type": "markdown",
   "metadata": {},
   "source": [
    "<hr style=\"height:1px;border:none\" />\n",
    "**Рассуждения**\n",
    "\n",
    "На графике видно, что в целом качество случайного леса несильно, но уступает качеству одного дерева с оптимальной глубиной. Думаю, проблема в том, что по дефолту дерево в случайном лесе строится до максимальной глубины, что сильно ухудшает качество предсказания на отложенных данных, а в случае решающего дерева мы как раз подбирали глубину. Максимально высокое качество в данном случае наблюдается при количестве деревьев, равном 197.\n",
    "Виден выход на плато после количества деревьев, примерно равном 20. \n",
    "<hr style=\"height:1px;border:none\" />"
   ]
  },
  {
   "cell_type": "markdown",
   "metadata": {},
   "source": [
    "**(2 балла)** Качество алгоритмов может зависеть не только от значений гиперпараметров, но и от предобратки исходных признаков. Некоторые из рассматриваемых нами алгоритмов чувствительны к масштабу признаков. Посмотрим, насколько различны распределения признаков. Постройте гистограммы для признаков *age*, *fnlwgt*, *capital-gain*.\n",
    "\n",
    "Глядя на получившиеся графики, скажите в чем заключается особенность данных? На какие алгоритмы это может повлиять? Почему?"
   ]
  },
  {
   "cell_type": "code",
   "execution_count": 75,
   "metadata": {},
   "outputs": [
    {
     "data": {
      "text/plain": [
       "array([[<matplotlib.axes._subplots.AxesSubplot object at 0x7f793bda0780>,\n",
       "        <matplotlib.axes._subplots.AxesSubplot object at 0x7f793bd5da90>],\n",
       "       [<matplotlib.axes._subplots.AxesSubplot object at 0x7f793bd2b828>,\n",
       "        <matplotlib.axes._subplots.AxesSubplot object at 0x7f793bd7c9e8>]], dtype=object)"
      ]
     },
     "execution_count": 75,
     "metadata": {},
     "output_type": "execute_result"
    },
    {
     "data": {
      "image/png": "[encoded data removed]",
      "text/plain": [
       "<matplotlib.figure.Figure at 0x7f793bda0be0>"
      ]
     },
     "metadata": {},
     "output_type": "display_data"
    }
   ],
   "source": [
    "df[['age', 'fnlwgt', 'capital-gain']].hist(figsize=(20,20))"
   ]
  },
  {
   "cell_type": "markdown",
   "metadata": {},
   "source": [
    "<hr style=\"height:1px;border:none\" />\n",
    "**Рассуждения о данных**\n",
    "\n",
    "Видно, что эти признаки имеют очень разный масштаб, что будет влиять на работу метрических классификаторов, потому что там считается расстояние между объектами. На работу логических это не повлияет, поскольку при разбиении выборки в каждом узле дерева используется порог для данного признака. \n",
    "<hr style=\"height:1px;border:none\" />"
   ]
  },
  {
   "cell_type": "markdown",
   "metadata": {},
   "source": [
    "Масштабирование признаков можно выполнить, например, одним из следующих способов:\n",
    " - $x_{new} = \\dfrac{x - \\mu}{\\sigma}$, где $\\mu, \\sigma$ — среднее и стандартное отклонение значения признака по всей выборке (см. функцию [scale](http://scikit-learn.org/stable/modules/generated/sklearn.preprocessing.scale.html))\n",
    " - $x_{new} = \\dfrac{x - x_{min}}{x_{max} - x_{min}}$, где $[x_{min}, x_{max}]$ — минимальный интервал значений признака\n",
    "\n",
    "Похожие схемы масштабирования приведены в классах [StandardScaler](http://scikit-learn.org/stable/modules/generated/sklearn.preprocessing.StandardScaler.html#sklearn.preprocessing.StandardScaler) и [MinMaxScaler](http://scikit-learn.org/stable/modules/generated/sklearn.preprocessing.MinMaxScaler.html#sklearn.preprocessing.MinMaxScaler).\n",
    " \n",
    "**(2 балла)** Масштабируйте все вещественные признаки одним из указанных способов и подберите оптимальные значения гиперпараметров аналогично пункту выше.\n",
    "\n",
    "Изменилось ли качество у некоторых алгоритмов и почему?"
   ]
  },
  {
   "cell_type": "code",
   "execution_count": 63,
   "metadata": {},
   "outputs": [
    {
     "data": {
      "text/html": [
       "<div>\n",
       "<style>\n",
       "    .dataframe thead tr:only-child th {\n",
       "        text-align: right;\n",
       "    }\n",
       "\n",
       "    .dataframe thead th {\n",
       "        text-align: left;\n",
       "    }\n",
       "\n",
       "    .dataframe tbody tr th {\n",
       "        vertical-align: top;\n",
       "    }\n",
       "</style>\n",
       "<table border=\"1\" class=\"dataframe\">\n",
       "  <thead>\n",
       "    <tr style=\"text-align: right;\">\n",
       "      <th></th>\n",
       "      <th>age</th>\n",
       "      <th>fnlwgt</th>\n",
       "      <th>education-num</th>\n",
       "      <th>capital-gain</th>\n",
       "      <th>capital-loss</th>\n",
       "      <th>hours-per-week</th>\n",
       "    </tr>\n",
       "  </thead>\n",
       "  <tbody>\n",
       "    <tr>\n",
       "      <th>9241</th>\n",
       "      <td>0.136986</td>\n",
       "      <td>0.045980</td>\n",
       "      <td>0.800000</td>\n",
       "      <td>0.0</td>\n",
       "      <td>0.000000</td>\n",
       "      <td>0.397959</td>\n",
       "    </tr>\n",
       "    <tr>\n",
       "      <th>1473</th>\n",
       "      <td>0.493151</td>\n",
       "      <td>0.091568</td>\n",
       "      <td>0.333333</td>\n",
       "      <td>0.0</td>\n",
       "      <td>0.000000</td>\n",
       "      <td>0.397959</td>\n",
       "    </tr>\n",
       "    <tr>\n",
       "      <th>2077</th>\n",
       "      <td>0.301370</td>\n",
       "      <td>0.282006</td>\n",
       "      <td>0.533333</td>\n",
       "      <td>0.0</td>\n",
       "      <td>0.417436</td>\n",
       "      <td>0.397959</td>\n",
       "    </tr>\n",
       "    <tr>\n",
       "      <th>2690</th>\n",
       "      <td>0.342466</td>\n",
       "      <td>0.100050</td>\n",
       "      <td>0.800000</td>\n",
       "      <td>0.0</td>\n",
       "      <td>0.000000</td>\n",
       "      <td>0.448980</td>\n",
       "    </tr>\n",
       "    <tr>\n",
       "      <th>12337</th>\n",
       "      <td>0.232877</td>\n",
       "      <td>0.250489</td>\n",
       "      <td>0.600000</td>\n",
       "      <td>0.0</td>\n",
       "      <td>0.000000</td>\n",
       "      <td>0.500000</td>\n",
       "    </tr>\n",
       "  </tbody>\n",
       "</table>\n",
       "</div>"
      ],
      "text/plain": [
       "            age    fnlwgt  education-num  capital-gain  capital-loss  \\\n",
       "9241   0.136986  0.045980       0.800000           0.0      0.000000   \n",
       "1473   0.493151  0.091568       0.333333           0.0      0.000000   \n",
       "2077   0.301370  0.282006       0.533333           0.0      0.417436   \n",
       "2690   0.342466  0.100050       0.800000           0.0      0.000000   \n",
       "12337  0.232877  0.250489       0.600000           0.0      0.000000   \n",
       "\n",
       "       hours-per-week  \n",
       "9241         0.397959  \n",
       "1473         0.397959  \n",
       "2077         0.397959  \n",
       "2690         0.448980  \n",
       "12337        0.500000  "
      ]
     },
     "execution_count": 63,
     "metadata": {},
     "output_type": "execute_result"
    }
   ],
   "source": [
    "from sklearn.preprocessing import MinMaxScaler\n",
    "\n",
    "scaler = MinMaxScaler(copy=False)\n",
    "scaled_df = pd.DataFrame(scaler.fit_transform(df), index=df.index, columns=df.columns)\n",
    "scaled_df.head()"
   ]
  },
  {
   "cell_type": "code",
   "execution_count": 69,
   "metadata": {},
   "outputs": [
    {
     "name": "stdout",
     "output_type": "stream",
     "text": [
      "The best k for kNN:  51\n"
     ]
    },
    {
     "data": {
      "image/png": "[encoded data removed]",
      "text/plain": [
       "<matplotlib.figure.Figure at 0x7fa8ac5d19b0>"
      ]
     },
     "metadata": {},
     "output_type": "display_data"
    }
   ],
   "source": [
    "grid_knn.fit(scaled_df, y)\n",
    "print('The best k for kNN: ', grid_knn.best_params_['n_neighbors'])\n",
    "get_ssv(grid_knn, 'n_neighbors')"
   ]
  },
  {
   "cell_type": "code",
   "execution_count": 70,
   "metadata": {},
   "outputs": [
    {
     "name": "stdout",
     "output_type": "stream",
     "text": [
      "The best depth for Decision Tree:  7\n"
     ]
    },
    {
     "data": {
      "image/png": "[encoded data removed]",
      "text/plain": [
       "<matplotlib.figure.Figure at 0x7fa8acba1710>"
      ]
     },
     "metadata": {},
     "output_type": "display_data"
    }
   ],
   "source": [
    "grid_dt.fit(scaled_df, y)\n",
    "print('The best depth for Decision Tree: ', grid_dt.best_params_['max_depth'])\n",
    "get_ssv(grid_dt, 'max_depth')"
   ]
  },
  {
   "cell_type": "code",
   "execution_count": 71,
   "metadata": {},
   "outputs": [
    {
     "name": "stdout",
     "output_type": "stream",
     "text": [
      "The best number of trees in the Random Forest:  197\n"
     ]
    },
    {
     "data": {
      "image/png": "[encoded data removed]",
      "text/plain": [
       "<matplotlib.figure.Figure at 0x7fa8acf1deb8>"
      ]
     },
     "metadata": {},
     "output_type": "display_data"
    }
   ],
   "source": [
    "grid_rf.fit(scaled_df, y)\n",
    "print('The best number of trees in the Random Forest: ', grid_rf.best_params_['n_estimators'])\n",
    "get_ssv(grid_rf, 'n_estimators')"
   ]
  },
  {
   "cell_type": "markdown",
   "metadata": {},
   "source": [
    "<hr style=\"height:1px;border:none\" />\n",
    "**Рассуждения**\n",
    "\n",
    "Как и предполагалось, шкалирование признаков не повлияло на работу логических классификаторов, но улучшило работу метрического. У алгоритма kNN изменилось как качество работы, так и оптимальное значение гиперпараметра, которое теперь равняется 51 соседу. При этом качество постепенно расло с увеличением числа соседей, а затем вышло на плато. \n",
    "\n",
    "<hr style=\"height:1px;border:none\" />"
   ]
  },
  {
   "cell_type": "markdown",
   "metadata": {},
   "source": [
    "**(8 баллов)** Теперь сделайте перебор гиперпараметров по сетке и найдите оптимальные комбинации для следующих моделей и гиперпараметров: \n",
    " - KNN — число соседей (*n_neighbors*) и метрика (*metric*)\n",
    " - DecisonTree — глубина дерева (*max_depth*) и критерий разбиения (*criterion*)\n",
    " - RandomForest — критерий разбиения в деревьях (*criterion*) и *max_features* (при фиксированном количестве деревьев, найденном ранее)\n",
    " \n",
    "Обратите внимание, что эта операция может быть ресурсо- и трудоемкой.\n",
    "\n",
    "Какой из алгоритмов имеет наилучшее качество?\n",
    "\n",
    "(для оптимизации кода и вычислений перед выполнением прочитайте следующее задание)"
   ]
  },
  {
   "cell_type": "code",
   "execution_count": 73,
   "metadata": {},
   "outputs": [
    {
     "name": "stdout",
     "output_type": "stream",
     "text": [
      "The best hyperparameters for kNN are: {'n_neighbors': 57, 'metric': 'manhattan'}.ROC-AUC: 0.8288193595\n"
     ]
    }
   ],
   "source": [
    "params_knn = {'n_neighbors': range(1,70), \n",
    "            'metric': [\"euclidean\", \"manhattan\", \"chebyshev\", \"minkowski\"]}\n",
    "\n",
    "grid_knn = gscv(knn(), params_knn, cv=kf, n_jobs=4, scoring='roc_auc')\n",
    "grid_knn.fit(scaled_df, y)\n",
    "\n",
    "print('The best hyperparameters for kNN are: ', grid_knn.best_params_, '.', \n",
    "      'ROC-AUC: ', grid_knn.best_score_, sep='')"
   ]
  },
  {
   "cell_type": "code",
   "execution_count": 74,
   "metadata": {},
   "outputs": [
    {
     "name": "stdout",
     "output_type": "stream",
     "text": [
      "The best hyperparameters for Decision Tree are: {'max_depth': 8, 'criterion': 'entropy'}. ROC-AUC: 0.839597214321\n"
     ]
    }
   ],
   "source": [
    "params_dt = {'max_depth': range(1, 31),\n",
    "           'criterion': [\"gini\", \"entropy\"]}\n",
    "\n",
    "\n",
    "grid_dt = gscv(dtc(random_state=38), params_dt, cv=kf, n_jobs=4, scoring='roc_auc')\n",
    "grid_dt.fit(scaled_df, y)\n",
    "\n",
    "print('The best hyperparameters for Decision Tree are: ', grid_dt.best_params_, '.',\n",
    "      ' ROC-AUC: ', grid_dt.best_score_, sep='')"
   ]
  },
  {
   "cell_type": "code",
   "execution_count": 75,
   "metadata": {},
   "outputs": [
    {
     "name": "stdout",
     "output_type": "stream",
     "text": [
      "The best hyperparameters for Random Forest are: {'max_features': None, 'criterion': 'entropy'}. ROC-AUC: 0.818014424266\n"
     ]
    }
   ],
   "source": [
    "params_rf = {'criterion': [\"gini\", \"entropy\"],\n",
    "            'max_features': ['auto', 'log2', None, 0.7, 0.75, 0.8, 0.85, 0.9, 0.95]}\n",
    "\n",
    "grid_rf = gscv(rfc(n_estimators=197, random_state=38), params_rf, cv=kf, n_jobs=4, scoring='roc_auc')\n",
    "grid_rf.fit(scaled_df, y)\n",
    "\n",
    "print('The best hyperparameters for Random Forest are: ', grid_rf.best_params_, '.', \n",
    "      ' ROC-AUC: ', grid_rf.best_score_, sep='')"
   ]
  },
  {
   "cell_type": "markdown",
   "metadata": {},
   "source": [
    "<hr style=\"height:1px;border:none\" />\n",
    "**Рассуждения**\n",
    "\n",
    "Лучшее качество получилось у решающего дерева. Случайный лес показал сравнительно плохой результат, поскольку в нем не подбиралась высота дерева, и в итоге лес получился ансамблем оверфитнутых моделей. \n",
    "<hr style=\"height:1px;border:none\" />"
   ]
  },
  {
   "cell_type": "markdown",
   "metadata": {},
   "source": [
    "**(3 балла)** Сравните алгоритмы с точки зрения времени обучения. Обучение какого из алгоритмов работает дольше всего и почему?\n",
    "\n",
    "(hint: [GridSearchCV](http://scikit-learn.org/stable/modules/generated/sklearn.model_selection.GridSearchCV.html#sklearn.model_selection.GridSearchCV) подсчитывает не только качество на кросс-валидации, но и время работы алгоритмов)"
   ]
  },
  {
   "cell_type": "code",
   "execution_count": 76,
   "metadata": {},
   "outputs": [
    {
     "name": "stdout",
     "output_type": "stream",
     "text": [
      "Mean fit time for kNN is: 0.0368227436923s\n",
      "Mean fit time for Decision Tree is: 0.0433673469226s\n",
      "Mean fit time for Random Forest is: 5.43454284403s\n"
     ]
    }
   ],
   "source": [
    "print('Mean fit time for kNN is: ', np.mean(grid_knn.cv_results_['mean_fit_time']),'s', sep='')\n",
    "print('Mean fit time for Decision Tree is: ', np.mean(grid_dt.cv_results_['mean_fit_time']),'s', sep='')\n",
    "print('Mean fit time for Random Forest is: ', np.mean(grid_rf.cv_results_['mean_fit_time']),'s', sep='')"
   ]
  },
  {
   "cell_type": "markdown",
   "metadata": {},
   "source": [
    "<hr style=\"height:1px;border:none\" />\n",
    "**Рассуждения**\n",
    "\n",
    "Дольше всего длится обучение случайного леса, ибо оно состоит в обучении определенного числа (в нашем случае - 197) решающих деревьев. Несмотря на то, что эта задача эффективно параллелится на процессорных ядрах, при большом количестве деревьев процедура все равно сравнительно длительная. \n",
    "<hr style=\"height:1px;border:none\" />"
   ]
  },
  {
   "cell_type": "markdown",
   "metadata": {},
   "source": [
    "### Добавление категориальных признаков в модели\n",
    "\n",
    "Вспомним, что у нас еще есть категориальные признаки. Давайте посмотрим, как изменится качество модели после добавления этих признаков. \n",
    "\n",
    "**(1 балл)** Преобразуйте все категориальные признаки с помощью метода one-hot-encoding (например, это можно сделать с помощью функции [pandas.get_dummies](http://pandas.pydata.org/pandas-docs/stable/generated/pandas.get_dummies.html) или [DictVectorizer](http://scikit-learn.org/stable/modules/generated/sklearn.feature_extraction.DictVectorizer.html) / [OneHotEncoder](http://scikit-learn.org/stable/modules/generated/sklearn.preprocessing.OneHotEncoder.html) из sklearn)."
   ]
  },
  {
   "cell_type": "code",
   "execution_count": 77,
   "metadata": {},
   "outputs": [
    {
     "data": {
      "text/html": [
       "<div>\n",
       "<style>\n",
       "    .dataframe thead tr:only-child th {\n",
       "        text-align: right;\n",
       "    }\n",
       "\n",
       "    .dataframe thead th {\n",
       "        text-align: left;\n",
       "    }\n",
       "\n",
       "    .dataframe tbody tr th {\n",
       "        vertical-align: top;\n",
       "    }\n",
       "</style>\n",
       "<table border=\"1\" class=\"dataframe\">\n",
       "  <thead>\n",
       "    <tr style=\"text-align: right;\">\n",
       "      <th></th>\n",
       "      <th>age</th>\n",
       "      <th>fnlwgt</th>\n",
       "      <th>education-num</th>\n",
       "      <th>capital-gain</th>\n",
       "      <th>capital-loss</th>\n",
       "      <th>hours-per-week</th>\n",
       "      <th>workclass_Federal-gov</th>\n",
       "      <th>workclass_Local-gov</th>\n",
       "      <th>workclass_Private</th>\n",
       "      <th>workclass_Self-emp-inc</th>\n",
       "      <th>...</th>\n",
       "      <th>relationship_Own-child</th>\n",
       "      <th>relationship_Unmarried</th>\n",
       "      <th>relationship_Wife</th>\n",
       "      <th>race_Amer-Indian-Eskimo</th>\n",
       "      <th>race_Asian-Pac-Islander</th>\n",
       "      <th>race_Black</th>\n",
       "      <th>race_Other</th>\n",
       "      <th>race_White</th>\n",
       "      <th>sex_Female</th>\n",
       "      <th>sex_Male</th>\n",
       "    </tr>\n",
       "  </thead>\n",
       "  <tbody>\n",
       "    <tr>\n",
       "      <th>0</th>\n",
       "      <td>0.232877</td>\n",
       "      <td>0.181207</td>\n",
       "      <td>0.533333</td>\n",
       "      <td>0.005940</td>\n",
       "      <td>0.0</td>\n",
       "      <td>0.602041</td>\n",
       "      <td>0.0</td>\n",
       "      <td>1.0</td>\n",
       "      <td>0.0</td>\n",
       "      <td>0.0</td>\n",
       "      <td>...</td>\n",
       "      <td>0.0</td>\n",
       "      <td>0.0</td>\n",
       "      <td>0.0</td>\n",
       "      <td>0.0</td>\n",
       "      <td>0.0</td>\n",
       "      <td>1.0</td>\n",
       "      <td>0.0</td>\n",
       "      <td>0.0</td>\n",
       "      <td>0.0</td>\n",
       "      <td>1.0</td>\n",
       "    </tr>\n",
       "    <tr>\n",
       "      <th>1</th>\n",
       "      <td>0.315068</td>\n",
       "      <td>0.116683</td>\n",
       "      <td>0.600000</td>\n",
       "      <td>0.000000</td>\n",
       "      <td>0.0</td>\n",
       "      <td>0.397959</td>\n",
       "      <td>0.0</td>\n",
       "      <td>0.0</td>\n",
       "      <td>1.0</td>\n",
       "      <td>0.0</td>\n",
       "      <td>...</td>\n",
       "      <td>0.0</td>\n",
       "      <td>0.0</td>\n",
       "      <td>0.0</td>\n",
       "      <td>0.0</td>\n",
       "      <td>0.0</td>\n",
       "      <td>0.0</td>\n",
       "      <td>0.0</td>\n",
       "      <td>1.0</td>\n",
       "      <td>0.0</td>\n",
       "      <td>1.0</td>\n",
       "    </tr>\n",
       "    <tr>\n",
       "      <th>2</th>\n",
       "      <td>0.260274</td>\n",
       "      <td>0.108200</td>\n",
       "      <td>0.800000</td>\n",
       "      <td>0.000000</td>\n",
       "      <td>0.0</td>\n",
       "      <td>0.397959</td>\n",
       "      <td>0.0</td>\n",
       "      <td>1.0</td>\n",
       "      <td>0.0</td>\n",
       "      <td>0.0</td>\n",
       "      <td>...</td>\n",
       "      <td>1.0</td>\n",
       "      <td>0.0</td>\n",
       "      <td>0.0</td>\n",
       "      <td>0.0</td>\n",
       "      <td>0.0</td>\n",
       "      <td>0.0</td>\n",
       "      <td>0.0</td>\n",
       "      <td>1.0</td>\n",
       "      <td>0.0</td>\n",
       "      <td>1.0</td>\n",
       "    </tr>\n",
       "    <tr>\n",
       "      <th>3</th>\n",
       "      <td>0.068493</td>\n",
       "      <td>0.112907</td>\n",
       "      <td>0.600000</td>\n",
       "      <td>0.000000</td>\n",
       "      <td>0.0</td>\n",
       "      <td>0.295918</td>\n",
       "      <td>0.0</td>\n",
       "      <td>0.0</td>\n",
       "      <td>1.0</td>\n",
       "      <td>0.0</td>\n",
       "      <td>...</td>\n",
       "      <td>1.0</td>\n",
       "      <td>0.0</td>\n",
       "      <td>0.0</td>\n",
       "      <td>0.0</td>\n",
       "      <td>0.0</td>\n",
       "      <td>0.0</td>\n",
       "      <td>0.0</td>\n",
       "      <td>1.0</td>\n",
       "      <td>1.0</td>\n",
       "      <td>0.0</td>\n",
       "    </tr>\n",
       "    <tr>\n",
       "      <th>4</th>\n",
       "      <td>0.410959</td>\n",
       "      <td>0.088984</td>\n",
       "      <td>0.800000</td>\n",
       "      <td>0.150242</td>\n",
       "      <td>0.0</td>\n",
       "      <td>0.397959</td>\n",
       "      <td>0.0</td>\n",
       "      <td>0.0</td>\n",
       "      <td>1.0</td>\n",
       "      <td>0.0</td>\n",
       "      <td>...</td>\n",
       "      <td>0.0</td>\n",
       "      <td>0.0</td>\n",
       "      <td>0.0</td>\n",
       "      <td>0.0</td>\n",
       "      <td>0.0</td>\n",
       "      <td>0.0</td>\n",
       "      <td>0.0</td>\n",
       "      <td>1.0</td>\n",
       "      <td>0.0</td>\n",
       "      <td>1.0</td>\n",
       "    </tr>\n",
       "  </tbody>\n",
       "</table>\n",
       "<p>5 rows × 63 columns</p>\n",
       "</div>"
      ],
      "text/plain": [
       "        age    fnlwgt  education-num  capital-gain  capital-loss  \\\n",
       "0  0.232877  0.181207       0.533333      0.005940           0.0   \n",
       "1  0.315068  0.116683       0.600000      0.000000           0.0   \n",
       "2  0.260274  0.108200       0.800000      0.000000           0.0   \n",
       "3  0.068493  0.112907       0.600000      0.000000           0.0   \n",
       "4  0.410959  0.088984       0.800000      0.150242           0.0   \n",
       "\n",
       "   hours-per-week  workclass_Federal-gov  workclass_Local-gov  \\\n",
       "0        0.602041                    0.0                  1.0   \n",
       "1        0.397959                    0.0                  0.0   \n",
       "2        0.397959                    0.0                  1.0   \n",
       "3        0.295918                    0.0                  0.0   \n",
       "4        0.397959                    0.0                  0.0   \n",
       "\n",
       "   workclass_Private  workclass_Self-emp-inc    ...     \\\n",
       "0                0.0                     0.0    ...      \n",
       "1                1.0                     0.0    ...      \n",
       "2                0.0                     0.0    ...      \n",
       "3                1.0                     0.0    ...      \n",
       "4                1.0                     0.0    ...      \n",
       "\n",
       "   relationship_Own-child  relationship_Unmarried  relationship_Wife  \\\n",
       "0                     0.0                     0.0                0.0   \n",
       "1                     0.0                     0.0                0.0   \n",
       "2                     1.0                     0.0                0.0   \n",
       "3                     1.0                     0.0                0.0   \n",
       "4                     0.0                     0.0                0.0   \n",
       "\n",
       "   race_Amer-Indian-Eskimo  race_Asian-Pac-Islander  race_Black  race_Other  \\\n",
       "0                      0.0                      0.0         1.0         0.0   \n",
       "1                      0.0                      0.0         0.0         0.0   \n",
       "2                      0.0                      0.0         0.0         0.0   \n",
       "3                      0.0                      0.0         0.0         0.0   \n",
       "4                      0.0                      0.0         0.0         0.0   \n",
       "\n",
       "   race_White  sex_Female  sex_Male  \n",
       "0         0.0         0.0       1.0  \n",
       "1         1.0         0.0       1.0  \n",
       "2         1.0         0.0       1.0  \n",
       "3         1.0         1.0       0.0  \n",
       "4         1.0         0.0       1.0  \n",
       "\n",
       "[5 rows x 63 columns]"
      ]
     },
     "execution_count": 77,
     "metadata": {},
     "output_type": "execute_result"
    }
   ],
   "source": [
    "df_mf = pd.read_csv('data.adult.csv')\n",
    "df_mf.drop(df_mf[df_mf['occupation']=='?'].index, inplace=True)\n",
    "df_mf.drop('>50K,<=50K', axis=1, inplace=True)      \n",
    "df_mf.index = list(range(len(df_mf)))\n",
    "df_mf = pd.get_dummies(df_mf)\n",
    "df_mf = pd.DataFrame(scaler.fit_transform(df_mf), index=df_mf.index, columns=df_mf.columns)\n",
    "df_mf.head()"
   ]
  },
  {
   "cell_type": "markdown",
   "metadata": {},
   "source": [
    "Так как после кодирования признаков получилось достаточно много, в этой работе мы не будем добавлять их и подбирать заново оптимальные гиперпараметры (хотя правильнее было бы это сделать). \n",
    "\n",
    "**(3 балла)** Добавьте к масштабированным вещественным признакам закодированные категориальные и обучите алгоритмы с наилучшими гиперпараметрами из предыдущего пункта. Дало ли добавление новых признаков прирост качества? Измеряйте качество как и раньше используя 5-Fold CV. Для этого удобно воспользоваться функцией [cross_val_score](http://scikit-learn.org/stable/modules/generated/sklearn.cross_validation.cross_val_score.html#sklearn.cross_validation.cross_val_score).\n",
    "\n",
    "Отличается ли теперь наилучший классификатор от наилучшего в предыдущем пункте?"
   ]
  },
  {
   "cell_type": "code",
   "execution_count": 80,
   "metadata": {},
   "outputs": [
    {
     "name": "stdout",
     "output_type": "stream",
     "text": [
      "ROC-AUC score of kNN is 0.743207614657\n",
      "ROC-AUC score of Decision Tree is 0.500737002624\n",
      "ROC-AUC score of Random Forest is 0.497932164806\n"
     ]
    }
   ],
   "source": [
    "model_knn = knn(n_neighbors= 57, metric= 'manhattan', n_jobs=4)\n",
    "model_dt = dtc(max_depth=8, criterion='entropy', random_state=38)\n",
    "model_rf = rfc(n_estimators=197, criterion='entropy', max_features=None, n_jobs=4, random_state=38)\n",
    "\n",
    "print('ROC-AUC score of kNN is', np.mean(cross_val_score(model_knn, df_mf, y, cv=kf)))\n",
    "print('ROC-AUC score of Decision Tree is', np.mean(cross_val_score(model_dt, df_mf, y, cv=kf, scoring='roc_auc')))\n",
    "print('ROC-AUC score of Random Forest is', np.mean(cross_val_score(model_rf, df_mf, y, cv=kf, scoring='roc_auc')))"
   ]
  },
  {
   "cell_type": "markdown",
   "metadata": {},
   "source": [
    "<hr style=\"height:1px;border:none\" />\n",
    "**Рассуждения**\n",
    "\n",
    "Качество всех моделей ухудшилось, чудовищно провалилось качество дерева и леса. Видимо, признаков стало слишком много. Теперь лучшей моделью является kNN. Он показал более или менее достойный результат, т.к. one-hot encoding генерирует признаки со значениями 0 или 1, которые не выбиваются из общего масштаба признаков. \n",
    "<hr style=\"height:1px;border:none\" />"
   ]
  },
  {
   "cell_type": "markdown",
   "metadata": {},
   "source": [
    "### Сравнение построенных моделей\n",
    "\n",
    "**(4 балла)** После того как было построено много моделей хотелось бы сравнить их между собой. Воспользуйтесь \"ящиком с усами\" (boxplot) для сравнения алгоритмов между собой. \n",
    "\n",
    "Для каждого типа классификатора (kNN, DecisionTree, RandomForest) выберете тот, которых давал наилучшее качество на кросс-валидации и постройте диаграмму размаха (все классификаторы должны быть изображены на одном графике).\n",
    " \n",
    "Сделайте общие итоговые выводы о классификаторах с точки зрения их работы с признаками и сложности самой модели (какие гиперпараметры есть у модели, сильно ли изменение значения гиперпараметра влияет на качество модели)."
   ]
  },
  {
   "cell_type": "code",
   "execution_count": 81,
   "metadata": {
    "collapsed": true
   },
   "outputs": [],
   "source": [
    "kf15 = KFold(n_splits=15, shuffle=True, random_state=38)\n",
    "\n",
    "knn_scores = cross_val_score(model_knn, scaled_df, y, cv=kf15, scoring='roc_auc')\n",
    "dt_scores = cross_val_score(model_dt, scaled_df, y, cv=kf15, scoring='roc_auc')\n",
    "rfm_scores = cross_val_score(model_rf, scaled_df, y, cv=kf15, scoring='roc_auc')"
   ]
  },
  {
   "cell_type": "code",
   "execution_count": 82,
   "metadata": {},
   "outputs": [
    {
     "name": "stdout",
     "output_type": "stream",
     "text": [
      "The best hyperparameters for Random Forest are: {'max_depth': 8}. ROC-AUC: 0.853442658185\n"
     ]
    }
   ],
   "source": [
    "params_rf = {'max_depth': np.arange(2,20)}\n",
    "\n",
    "grid_rf = gscv(model_rf, params_rf, cv=kf, n_jobs=4, scoring='roc_auc')\n",
    "grid_rf.fit(scaled_df, y)\n",
    "\n",
    "print('The best hyperparameters for Random Forest are: ', grid_rf.best_params_, '.', \n",
    "      ' ROC-AUC: ', grid_rf.best_score_, sep='')"
   ]
  },
  {
   "cell_type": "code",
   "execution_count": 83,
   "metadata": {},
   "outputs": [],
   "source": [
    "'''\n",
    "я решил также добавить случайный лес, в котором высота дерева равна оптимальной (подобранной выше), \n",
    "чтобы показать разницу между ансамблем хороших моделей и ансамблем оверфитнутых \n",
    "'''\n",
    "\n",
    "rf6_scores = cross_val_score(rfc(n_estimators=197, max_depth=8, criterion='entropy', max_features=None, n_jobs=4, \n",
    "                                 random_state=38), \n",
    "                             scaled_df, y, cv=kf15, scoring='roc_auc')"
   ]
  },
  {
   "cell_type": "code",
   "execution_count": 84,
   "metadata": {},
   "outputs": [
    {
     "data": {
      "text/html": [
       "<script>requirejs.config({paths: { 'plotly': ['https://cdn.plot.ly/plotly-latest.min']},});if(!window.Plotly) {{require(['plotly'],function(plotly) {window.Plotly=plotly;});}}</script>"
      ],
      "text/vnd.plotly.v1+html": [
       "<script>requirejs.config({paths: { 'plotly': ['https://cdn.plot.ly/plotly-latest.min']},});if(!window.Plotly) {{require(['plotly'],function(plotly) {window.Plotly=plotly;});}}</script>"
      ]
     },
     "metadata": {},
     "output_type": "display_data"
    }
   ],
   "source": [
    "from plotly.offline import init_notebook_mode, iplot    #здесь я решил использовать plotly, т.к. в нем\n",
    "import plotly.graph_objs as go                          #box-plot'ы делаются достаточно просто, а для итоговой\n",
    "                                                        #картинки всей работы интерактивный график\n",
    "                                                        #будет своеобразной изюминкой (plotly научился благодаря \n",
    "                                                        #курсу ODS - https://habrahabr.ru/company/ods/blog/323210/)\n",
    "init_notebook_mode(connected=True)\n",
    "scr = pd.DataFrame()\n",
    "scr['kNN'] = knn_scores\n",
    "scr['Decision Tree'] = dt_scores\n",
    "scr['Random Forest (of)'] = rfm_scores\n",
    "scr['Random Forest (tuned depth)'] = rf6_scores"
   ]
  },
  {
   "cell_type": "code",
   "execution_count": 85,
   "metadata": {},
   "outputs": [
    {
     "data": {
      "application/vnd.plotly.v1+json": {
       "data": [
        {
         "name": "kNN",
         "type": "box",
         "y": [
          0.8419300658731942,
          0.8376423357664233,
          0.8144912387958151,
          0.8334061112397146,
          0.8489868921352811,
          0.80816511058508,
          0.8285517192585256,
          0.829715604105848,
          0.8260813620735801,
          0.819732046609517,
          0.8383952325728707,
          0.8338126758392107,
          0.8102846167277807,
          0.8479098916718714,
          0.8295209622470971
         ]
        },
        {
         "name": "Decision Tree",
         "type": "box",
         "y": [
          0.8616662923871546,
          0.8483454987834549,
          0.8046601520515121,
          0.8414239567330961,
          0.8541750050030019,
          0.832016844286861,
          0.8489811801330126,
          0.8602897322409516,
          0.8379398019475841,
          0.8330629844463837,
          0.8342169120871624,
          0.8400104058272632,
          0.8261524358302776,
          0.8673357310533457,
          0.8363916727088527
         ]
        },
        {
         "name": "Random Forest (of)",
         "type": "box",
         "y": [
          0.8356000636275172,
          0.8338102189781021,
          0.795539033457249,
          0.8297391569687913,
          0.8286596958174905,
          0.8019018398675214,
          0.8244506660737028,
          0.8331162172625588,
          0.8084944310625245,
          0.7930470715055696,
          0.8229927007299271,
          0.8247991097236674,
          0.8060454377898065,
          0.8571786229621174,
          0.8190919835917403
         ]
        },
        {
         "name": "Random Forest (tuned depth)",
         "type": "box",
         "y": [
          0.865551781570477,
          0.8646447688564476,
          0.8283035705481545,
          0.8523485342705024,
          0.8664198519111467,
          0.8362837927075819,
          0.8596393701105743,
          0.8627093992947652,
          0.8483725526527083,
          0.8356680868538576,
          0.8555933458723554,
          0.8616795776004933,
          0.8383485633354675,
          0.8784162126074129,
          0.8573241227242477
         ]
        }
       ],
       "layout": {}
      },
      "text/html": [
       "<div id=\"7ea7ba7a-217b-4f8e-9235-f8a6b9f4d3db\" style=\"height: 525px; width: 100%;\" class=\"plotly-graph-div\"></div><script type=\"text/javascript\">require([\"plotly\"], function(Plotly) { window.PLOTLYENV=window.PLOTLYENV || {};window.PLOTLYENV.BASE_URL=\"https://plot.ly\";Plotly.newPlot(\"7ea7ba7a-217b-4f8e-9235-f8a6b9f4d3db\", [{\"y\": [0.8419300658731942, 0.8376423357664233, 0.8144912387958151, 0.8334061112397146, 0.8489868921352811, 0.80816511058508, 0.8285517192585256, 0.829715604105848, 0.8260813620735801, 0.819732046609517, 0.8383952325728707, 0.8338126758392107, 0.8102846167277807, 0.8479098916718714, 0.8295209622470971], \"type\": \"box\", \"name\": \"kNN\"}, {\"y\": [0.8616662923871546, 0.8483454987834549, 0.8046601520515121, 0.8414239567330961, 0.8541750050030019, 0.832016844286861, 0.8489811801330126, 0.8602897322409516, 0.8379398019475841, 0.8330629844463837, 0.8342169120871624, 0.8400104058272632, 0.8261524358302776, 0.8673357310533457, 0.8363916727088527], \"type\": \"box\", \"name\": \"Decision Tree\"}, {\"y\": [0.8356000636275172, 0.8338102189781021, 0.795539033457249, 0.8297391569687913, 0.8286596958174905, 0.8019018398675214, 0.8244506660737028, 0.8331162172625588, 0.8084944310625245, 0.7930470715055696, 0.8229927007299271, 0.8247991097236674, 0.8060454377898065, 0.8571786229621174, 0.8190919835917403], \"type\": \"box\", \"name\": \"Random Forest (of)\"}, {\"y\": [0.865551781570477, 0.8646447688564476, 0.8283035705481545, 0.8523485342705024, 0.8664198519111467, 0.8362837927075819, 0.8596393701105743, 0.8627093992947652, 0.8483725526527083, 0.8356680868538576, 0.8555933458723554, 0.8616795776004933, 0.8383485633354675, 0.8784162126074129, 0.8573241227242477], \"type\": \"box\", \"name\": \"Random Forest (tuned depth)\"}], {}, {\"linkText\": \"Export to plot.ly\", \"showLink\": false})});</script>"
      ],
      "text/vnd.plotly.v1+html": [
       "<div id=\"7ea7ba7a-217b-4f8e-9235-f8a6b9f4d3db\" style=\"height: 525px; width: 100%;\" class=\"plotly-graph-div\"></div><script type=\"text/javascript\">require([\"plotly\"], function(Plotly) { window.PLOTLYENV=window.PLOTLYENV || {};window.PLOTLYENV.BASE_URL=\"https://plot.ly\";Plotly.newPlot(\"7ea7ba7a-217b-4f8e-9235-f8a6b9f4d3db\", [{\"y\": [0.8419300658731942, 0.8376423357664233, 0.8144912387958151, 0.8334061112397146, 0.8489868921352811, 0.80816511058508, 0.8285517192585256, 0.829715604105848, 0.8260813620735801, 0.819732046609517, 0.8383952325728707, 0.8338126758392107, 0.8102846167277807, 0.8479098916718714, 0.8295209622470971], \"type\": \"box\", \"name\": \"kNN\"}, {\"y\": [0.8616662923871546, 0.8483454987834549, 0.8046601520515121, 0.8414239567330961, 0.8541750050030019, 0.832016844286861, 0.8489811801330126, 0.8602897322409516, 0.8379398019475841, 0.8330629844463837, 0.8342169120871624, 0.8400104058272632, 0.8261524358302776, 0.8673357310533457, 0.8363916727088527], \"type\": \"box\", \"name\": \"Decision Tree\"}, {\"y\": [0.8356000636275172, 0.8338102189781021, 0.795539033457249, 0.8297391569687913, 0.8286596958174905, 0.8019018398675214, 0.8244506660737028, 0.8331162172625588, 0.8084944310625245, 0.7930470715055696, 0.8229927007299271, 0.8247991097236674, 0.8060454377898065, 0.8571786229621174, 0.8190919835917403], \"type\": \"box\", \"name\": \"Random Forest (of)\"}, {\"y\": [0.865551781570477, 0.8646447688564476, 0.8283035705481545, 0.8523485342705024, 0.8664198519111467, 0.8362837927075819, 0.8596393701105743, 0.8627093992947652, 0.8483725526527083, 0.8356680868538576, 0.8555933458723554, 0.8616795776004933, 0.8383485633354675, 0.8784162126074129, 0.8573241227242477], \"type\": \"box\", \"name\": \"Random Forest (tuned depth)\"}], {}, {\"linkText\": \"Export to plot.ly\", \"showLink\": false})});</script>"
      ]
     },
     "metadata": {},
     "output_type": "display_data"
    }
   ],
   "source": [
    "data_to_vis = []\n",
    "for column in scr.columns:\n",
    "    data_to_vis.append(\n",
    "        go.Box(y=scr[column], name=column)\n",
    "    )\n",
    "\n",
    "iplot(data_to_vis, show_link = False)"
   ]
  },
  {
   "cell_type": "markdown",
   "metadata": {},
   "source": [
    "<hr style=\"height:1px;border:none\" />\n",
    "**Итоговые рассуждения**\n",
    "\n",
    "kNN: это метрический классификатор, для хорошей работы которого нужно проводить шкалирование данных. Он не умеет из коробки работать с категориальными признаками - их нужно one-hot-encod'ить, но при этом есть риск получить слишком много признаков и понизить качество классификации. У этого классификатора есть определенные гиперпараметры: количество соседей, по которым выносится решение, используемая для подсчета расстояния между объектами метрика, вес объектов. От этих гиперпараметров зависит качество работы алгоритма. Так, при маленьком числе соседей будет заметно сильное влияние шума в данных, а при слишком большом качество будет падать, если в одном классе есть группа объектов из другого класса. \n",
    "Внутри sklearn'а у метода k-ближайших соседей есть другие гиперпараметры, которые уже связаны с его компьютерной реализацией: алгоритм реализации (с помощью KD-дерева, BallTree и пр.), количество используемых процессорных ядер и пр. От этой группы гиперпараметров зависит объем затрачиваемой памяти и процессорное время выполнения алгоритма, но никак не зависит качество классификации.  \n",
    "Модель является очень простой и интуитивной: посмотрим на самые близкие известные преценденты и вынесем такое же решение. По сути, тут не происходит обучения модели, а есть лишь инференс, сложность которого в самом простом случае - O(knd), где k - число соседей, n - число объектов обучающей выборки, d - размерность пространства (число признаков).\n",
    "\n",
    "Решающее дерево: логический классификатор, решение которого выносится на иерархической последовательности вопросов вида \"если... то...\". Относительно хорошо работает с категориальными данными, не зависит от масштаба признаков, т.к. при поиске разбиения в данном узле используется лишь один признак, для которого ищется порог по определенному критерию. Имеет следующие гиперпараметры: критерий качества разбиения, максимальное количество признаков, рассматриваемых в качестве кандидатов для данного разбиения, максимальная глубина дерева, минимальное количество объектов в листе, и пр. Для дерева наиболее критичным гиперпараметром является его глубина, т.к. деревья склонны к сильному переобучению при слишком большой глубине: они просто \"запоминают\" объекты обучающей выборки. Также при реализации обучающего дерева важно фиксировать сид генератора псевдослучайных чисел для воспроизводимости результатов. \n",
    "Эта модель является чуть более сложной, чем kNN, но также интуитивна: из имеющегося опыта (размеченные обучающие данных) найдем перечень критериев, по которому выносится решение. \n",
    "\n",
    "Случайный лес: ансамбль решающих деревьев по типу бэггинг (bootstrap aggregating). По случайным подвыборкам и подпространствам признаков независимо обучаются решающие деревья, а решение выносится путем их голосования. У этой модели много гиперпараметров. Во-первых, это все гиперпараметры, применимые к единичному решающему дереву, а также количество деревьев в лесу. Помимо этого, в sklearn'e у случайного леса есть oob_score - это возможность оценивать качество деревьев по объектам, не попавшим в данную подвыборку. Это позволяет иметь меньше объектов в обучающей выборке и облегчает кросс-валидацию, а также позволяет определять информативность признаков: для данного дерева определяем качество на out-of-bag подвыборке, после чего делаем определенный признак полностью неинформативным (перемешивая его значения) и снова определяем качество на oob. Разница между этими двумя качествами, усредненная по всем деревьям, отражает важность признака для модели. \n",
    "Случайный лес хорошо параллелится на процессорных ядрах, т.к. каждое дерево можно обучать на своем ядре. \n",
    "Данная модель является самой сложной из всех представленных в этом лабораторном занятии, однако также является хорошо интерпретируемой: объект из выборки \"сообщает\" некие поднаборы своих признаков комитету экспертов, каждый из которых является решающим деревом. Те, в свою очередь, по некоторому набору критериев выносят решение и голосуют за итоговый вердикт. Для бэггинга важно, чтобы каждая индивидуальная модель была достаточно сильной, и при этом модели должны быть как можно более различны. Так что для случайного леса нужно подбирать как число деревьев, так и гиперапаметры для единичного дерева внутри леса.  \n",
    "На боксплоте выше видно, как отличается качество леса, в котором деревья переобучены (Random Forest (of)), от качества леса с потюненой глубиной дерева (Random Forest (tuned depth)). \n",
    "<hr style=\"height:1px;border:none\" />"
   ]
  },
  {
   "cell_type": "code",
   "execution_count": null,
   "metadata": {
    "collapsed": true
   },
   "outputs": [],
   "source": []
  }
 ],
 "metadata": {
  "anaconda-cloud": {},
  "kernelspec": {
   "display_name": "Python 3",
   "language": "python",
   "name": "python3"
  },
  "language_info": {
   "codemirror_mode": {
    "name": "ipython",
    "version": 3
   },
   "file_extension": ".py",
   "mimetype": "text/x-python",
   "name": "python",
   "nbconvert_exporter": "python",
   "pygments_lexer": "ipython3",
   "version": "3.5.2"
  }
 },
 "nbformat": 4,
 "nbformat_minor": 1
}
